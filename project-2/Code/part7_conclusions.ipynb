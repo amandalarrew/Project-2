{
 "cells": [
  {
   "cell_type": "markdown",
   "id": "85da262b-5910-461a-8007-a086dab92866",
   "metadata": {},
   "source": [
    "# Project 2: Features, Galore: A Linear Regression Analysis on Home Features Predicting Sale Price\n",
    "\n",
    "---\n"
   ]
  },
  {
   "cell_type": "markdown",
   "id": "a3d58f35-1e24-4369-8cc1-07bc8a432fca",
   "metadata": {},
   "source": [
    "## Conclusions and Recommendations "
   ]
  },
  {
   "cell_type": "markdown",
   "id": "54c2e594-5e5c-4c8a-9f08-2a853dce4a35",
   "metadata": {},
   "source": [
    "The best performing Linear Regression model was the OLS Linear Regression model that included all non multi-collinear features. Regularization techniques, such as Ridge and Lasso, did not out-perform the OLS model in this case. Models that had selected features with a correlation threshold of absolute value 0.3 did not out-perform the OLS Linear Regression model. \n",
    "\n",
    "The best model accounted for approximately 90% of the variation in the target variable, sale price. The best model was able to predict sale price within 27,249 (USD). Analysis of the model residuals showed that the model does not generalize well at either extremes, most notibly high home sale price. The ideal prediction range for this model was between 100,000 and 250,000 (USD). The model will need to be adjusted and further tuned in order to better predict outside of this range. \n",
    "\n",
    "Insights based on the current model can be drawn to provide recommendations on where to allocate resources in order to yield a favorable return on investment. Below are the top positive and negative correlation recommendations. Given all variables are held constant, the following is true: \n",
    "- As overall quality increases by one standard deviation unit (scaled data), we can expect sale price to **increase** by 12,128 (USD). \n",
    "- As exterior quality increases by one standard deviation unit, we can expect sale price to **increase** by 6,403.38 (USD). \n",
    "- As overall condition increases by one standard deviation unit, we can expect sale price to **increase** by 5,399.92 (USD). \n",
    "- As basement exposure to the outside increases by one standard deviation unit, we can expect sale price to **increase** by 4,794.86 (USD). \n",
    "- As the number of cars able to fit in the garage increases by one standard deviation unit, we can expect sale price to **increase** by 4,571.73 (USD). \n",
    "- As size of the lot in square feet increases by one standard deviation unit, we can expect sale price to **increase** by 4,538.28 (USD). \n",
    "-  As kitchen quality increases by one standard deviation unit, we can expect sale price to **increase** by 3,960.26 (USD).\n",
    "- The favorable neighborhoods to be in are Brookside (6760.76 USD) and Northridge (8949.79 USD). Although, it is important to note that these homes have higher purchase prices. While they may yield a higher return, more money will need to be allocated to purchase homes in these neighborhoods.\n",
    "- As townhouse building type increases by one standard deviation unit, we can expect sale price to **decrease** by 4,963.40 (USD). \n",
    "- As basement condition increases by one standard deviation unit, we can expect sale price to **decrease** by 2,968.68 (USD).\n",
    "- As garage quality increases by one standard deviation unit, we can expect sale price to **decrease** by 1,698.70 (USD).  \n",
    "- Old Town is a less favorable neighborhood, showing a decrease in sale price of 1,619.26 (USD). \n",
    "- Out of all our engineered features, having a screened in porch shows the highest increase in sale price (3,142.21 USD). \n",
    "\n",
    "My recommendation is to focus on finding houses with \"good bones.\" Overall quality of features matter more than spending money upgrading every aspect of the house. Focus on upgrading the kitchen with high quality materials, and make sure that care goes into improving the overall quality of the house. Looking for houses with more garage space is likely to produce a high return on investment (ROI), but money does not need to be allocated to improving the garage. Houses with a basement exposed to the outside are likely to yield a higher return on investment, but spending money improving the quality of the basement is not advised. Having a screened in porch will improve ROI. \n",
    "\n",
    "Finally, The neighborhoods I recommend looking for houses are Northridge, Northpark Villa, Briardale, Crawford and Mitchell. These neighborhoods are more middle-priced. They are still likely to improve ROI, but are not top-priced neighborhoods that may cut too far into the budget for first time home flippers."
   ]
  },
  {
   "cell_type": "markdown",
   "id": "5dd355ae-37dd-4e48-9976-d38aa0ddf111",
   "metadata": {},
   "source": [
    "I would like to go back and spend more time adjusting the correlation threshold to see how different correlation thresholds in relation to sale price change/improve the model performance. "
   ]
  },
  {
   "cell_type": "code",
   "execution_count": null,
   "id": "32adc276-5e1c-4c95-b0e0-dfb9e3358135",
   "metadata": {},
   "outputs": [],
   "source": []
  }
 ],
 "metadata": {
  "kernelspec": {
   "display_name": "Python [conda env:dsi]",
   "language": "python",
   "name": "conda-env-dsi-py"
  },
  "language_info": {
   "codemirror_mode": {
    "name": "ipython",
    "version": 3
   },
   "file_extension": ".py",
   "mimetype": "text/x-python",
   "name": "python",
   "nbconvert_exporter": "python",
   "pygments_lexer": "ipython3",
   "version": "3.9.7"
  }
 },
 "nbformat": 4,
 "nbformat_minor": 5
}
