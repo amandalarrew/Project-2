{
 "cells": [
  {
   "cell_type": "markdown",
   "id": "3ba21084-2b95-413b-bb89-366994b3e2a7",
   "metadata": {},
   "source": [
    "# Project 2: Features, Galore: A Linear Regression Analysis on Home Features Predicting Sale Price\n",
    "\n",
    "---\n"
   ]
  },
  {
   "cell_type": "markdown",
   "id": "25ce112c-9886-48b8-ab13-0918d3ea2188",
   "metadata": {},
   "source": [
    "## Modeling and Hyperparameter Tuning \n",
    "\n",
    "This section will implement various Linear Regression models to see how the selected features impacts sale price. \n",
    "\n",
    "The first set of models includes two Ordinary Least Squares (OLS) Linear Regression. The first model was implemented with data from all non multi-collinear features. The second model was implemented with non multi-collinear features with a correlation threshold of less than or equal to -0.3 and greater than or equal to 0.3 correlation with sale price.\n",
    "\n",
    "The second set of models includes two Linear Regression models with Lasso Regularization utilizing GridSearchCV. The first model was implemented with data from all non multi-collinear features. The second model was implemented with non multi-collinear features with a correlation threshold of less than or equal to -0.3 and greater than or equal to 0.3 correlation with sale price.\n",
    " \n",
    "The third set of models includes two Linear Regression models with Ridge Regularization utilizing Cross Validation. The first model was implemented with data from all non multi-collinear features. The second model was implemented with non multi-collinear features with a correlation threshold of less than or equal to -0.3 and greater than or equal to 0.3 correlation with sale price.\n",
    "\n",
    "Lasso and Ridge model hyperparameters were tuned until alpha values were in an optimal range. Results are displayed below. \n",
    "\n",
    "---"
   ]
  },
  {
   "cell_type": "code",
   "execution_count": 119,
   "id": "e1881ab2-5a24-42e4-af51-84debfa62883",
   "metadata": {},
   "outputs": [],
   "source": [
    "import pandas as pd\n",
    "import numpy as np\n",
    "import seaborn as sns\n",
    "import matplotlib.pyplot as plt\n",
    "from sklearn.linear_model import LinearRegression, Lasso, Ridge, RidgeCV\n",
    "from sklearn.model_selection import train_test_split, cross_val_score, GridSearchCV\n",
    "from sklearn.metrics import mean_squared_error"
   ]
  },
  {
   "cell_type": "code",
   "execution_count": 2,
   "id": "2e0626bb-fd00-4d55-8eea-dca7edf5d525",
   "metadata": {},
   "outputs": [],
   "source": [
    "import warnings\n",
    "warnings.filterwarnings('ignore')"
   ]
  },
  {
   "cell_type": "code",
   "execution_count": 3,
   "id": "4f63bc04-af7a-49fe-bb86-991883994fa6",
   "metadata": {},
   "outputs": [],
   "source": [
    "#Read in files \n",
    "Z_train=pd.read_csv('../datasets/z_train_cleaned.csv')\n",
    "Z_test=pd.read_csv('../datasets/z_test_cleaned.csv')\n",
    "y_train=pd.read_csv('../datasets/y_train_cleaned.csv')\n",
    "y_test=pd.read_csv('../datasets/y_test_cleaned.csv')"
   ]
  },
  {
   "cell_type": "code",
   "execution_count": 4,
   "id": "00616961-8510-4b19-8b36-9fae3f702026",
   "metadata": {},
   "outputs": [
    {
     "data": {
      "text/html": [
       "<div>\n",
       "<style scoped>\n",
       "    .dataframe tbody tr th:only-of-type {\n",
       "        vertical-align: middle;\n",
       "    }\n",
       "\n",
       "    .dataframe tbody tr th {\n",
       "        vertical-align: top;\n",
       "    }\n",
       "\n",
       "    .dataframe thead th {\n",
       "        text-align: right;\n",
       "    }\n",
       "</style>\n",
       "<table border=\"1\" class=\"dataframe\">\n",
       "  <thead>\n",
       "    <tr style=\"text-align: right;\">\n",
       "      <th></th>\n",
       "      <th>Unnamed: 0</th>\n",
       "      <th>id</th>\n",
       "      <th>pid</th>\n",
       "      <th>lot_frontage</th>\n",
       "      <th>lot_area</th>\n",
       "      <th>lot_shape</th>\n",
       "      <th>utilities</th>\n",
       "      <th>land_slope</th>\n",
       "      <th>overall_qual</th>\n",
       "      <th>overall_cond</th>\n",
       "      <th>...</th>\n",
       "      <th>garage_type_CarPort</th>\n",
       "      <th>garage_type_Detchd</th>\n",
       "      <th>misc_feature_Shed</th>\n",
       "      <th>sale_type_CWD</th>\n",
       "      <th>sale_type_Con</th>\n",
       "      <th>sale_type_ConLD</th>\n",
       "      <th>sale_type_ConLI</th>\n",
       "      <th>sale_type_ConLw</th>\n",
       "      <th>sale_type_New</th>\n",
       "      <th>sale_type_WD</th>\n",
       "    </tr>\n",
       "  </thead>\n",
       "  <tbody>\n",
       "    <tr>\n",
       "      <th>0</th>\n",
       "      <td>1957</td>\n",
       "      <td>239</td>\n",
       "      <td>905452110</td>\n",
       "      <td>-0.921358</td>\n",
       "      <td>-0.106446</td>\n",
       "      <td>0.718504</td>\n",
       "      <td>0.0</td>\n",
       "      <td>0.218298</td>\n",
       "      <td>-1.478840</td>\n",
       "      <td>0.389398</td>\n",
       "      <td>...</td>\n",
       "      <td>-0.060652</td>\n",
       "      <td>1.670135</td>\n",
       "      <td>-0.14781</td>\n",
       "      <td>-0.065532</td>\n",
       "      <td>-0.034975</td>\n",
       "      <td>-0.08947</td>\n",
       "      <td>-0.055351</td>\n",
       "      <td>-0.049492</td>\n",
       "      <td>-0.298588</td>\n",
       "      <td>0.395061</td>\n",
       "    </tr>\n",
       "    <tr>\n",
       "      <th>1</th>\n",
       "      <td>1966</td>\n",
       "      <td>2443</td>\n",
       "      <td>528315030</td>\n",
       "      <td>0.643738</td>\n",
       "      <td>-0.089214</td>\n",
       "      <td>0.718504</td>\n",
       "      <td>0.0</td>\n",
       "      <td>0.218298</td>\n",
       "      <td>1.337753</td>\n",
       "      <td>-0.505889</td>\n",
       "      <td>...</td>\n",
       "      <td>-0.060652</td>\n",
       "      <td>-0.598754</td>\n",
       "      <td>-0.14781</td>\n",
       "      <td>-0.065532</td>\n",
       "      <td>-0.034975</td>\n",
       "      <td>-0.08947</td>\n",
       "      <td>-0.055351</td>\n",
       "      <td>-0.049492</td>\n",
       "      <td>-0.298588</td>\n",
       "      <td>0.395061</td>\n",
       "    </tr>\n",
       "  </tbody>\n",
       "</table>\n",
       "<p>2 rows × 156 columns</p>\n",
       "</div>"
      ],
      "text/plain": [
       "   Unnamed: 0    id        pid  lot_frontage  lot_area  lot_shape  utilities  \\\n",
       "0        1957   239  905452110     -0.921358 -0.106446   0.718504        0.0   \n",
       "1        1966  2443  528315030      0.643738 -0.089214   0.718504        0.0   \n",
       "\n",
       "   land_slope  overall_qual  overall_cond  ...  garage_type_CarPort  \\\n",
       "0    0.218298     -1.478840      0.389398  ...            -0.060652   \n",
       "1    0.218298      1.337753     -0.505889  ...            -0.060652   \n",
       "\n",
       "   garage_type_Detchd  misc_feature_Shed  sale_type_CWD  sale_type_Con  \\\n",
       "0            1.670135           -0.14781      -0.065532      -0.034975   \n",
       "1           -0.598754           -0.14781      -0.065532      -0.034975   \n",
       "\n",
       "   sale_type_ConLD  sale_type_ConLI  sale_type_ConLw  sale_type_New  \\\n",
       "0         -0.08947        -0.055351        -0.049492      -0.298588   \n",
       "1         -0.08947        -0.055351        -0.049492      -0.298588   \n",
       "\n",
       "   sale_type_WD   \n",
       "0       0.395061  \n",
       "1       0.395061  \n",
       "\n",
       "[2 rows x 156 columns]"
      ]
     },
     "execution_count": 4,
     "metadata": {},
     "output_type": "execute_result"
    }
   ],
   "source": [
    "Z_train.head(2)"
   ]
  },
  {
   "cell_type": "code",
   "execution_count": 5,
   "id": "0f25bcf5-4752-45d2-bd73-0b9ff1c42eb6",
   "metadata": {},
   "outputs": [],
   "source": [
    "Z_train.rename(columns={\"Unnamed: 0\": \"index\"}, inplace=True)"
   ]
  },
  {
   "cell_type": "code",
   "execution_count": 6,
   "id": "696ac197-698e-498a-b3b4-bd0eb2cd2807",
   "metadata": {},
   "outputs": [],
   "source": [
    "Z_train=Z_train.set_index('index')"
   ]
  },
  {
   "cell_type": "code",
   "execution_count": 7,
   "id": "ba85c318-a63e-40fc-9d24-bb1b63194ab2",
   "metadata": {},
   "outputs": [
    {
     "data": {
      "text/html": [
       "<div>\n",
       "<style scoped>\n",
       "    .dataframe tbody tr th:only-of-type {\n",
       "        vertical-align: middle;\n",
       "    }\n",
       "\n",
       "    .dataframe tbody tr th {\n",
       "        vertical-align: top;\n",
       "    }\n",
       "\n",
       "    .dataframe thead th {\n",
       "        text-align: right;\n",
       "    }\n",
       "</style>\n",
       "<table border=\"1\" class=\"dataframe\">\n",
       "  <thead>\n",
       "    <tr style=\"text-align: right;\">\n",
       "      <th></th>\n",
       "      <th>id</th>\n",
       "      <th>pid</th>\n",
       "      <th>lot_frontage</th>\n",
       "      <th>lot_area</th>\n",
       "      <th>lot_shape</th>\n",
       "      <th>utilities</th>\n",
       "      <th>land_slope</th>\n",
       "      <th>overall_qual</th>\n",
       "      <th>overall_cond</th>\n",
       "      <th>year_remod/add</th>\n",
       "      <th>...</th>\n",
       "      <th>garage_type_CarPort</th>\n",
       "      <th>garage_type_Detchd</th>\n",
       "      <th>misc_feature_Shed</th>\n",
       "      <th>sale_type_CWD</th>\n",
       "      <th>sale_type_Con</th>\n",
       "      <th>sale_type_ConLD</th>\n",
       "      <th>sale_type_ConLI</th>\n",
       "      <th>sale_type_ConLw</th>\n",
       "      <th>sale_type_New</th>\n",
       "      <th>sale_type_WD</th>\n",
       "    </tr>\n",
       "    <tr>\n",
       "      <th>index</th>\n",
       "      <th></th>\n",
       "      <th></th>\n",
       "      <th></th>\n",
       "      <th></th>\n",
       "      <th></th>\n",
       "      <th></th>\n",
       "      <th></th>\n",
       "      <th></th>\n",
       "      <th></th>\n",
       "      <th></th>\n",
       "      <th></th>\n",
       "      <th></th>\n",
       "      <th></th>\n",
       "      <th></th>\n",
       "      <th></th>\n",
       "      <th></th>\n",
       "      <th></th>\n",
       "      <th></th>\n",
       "      <th></th>\n",
       "      <th></th>\n",
       "      <th></th>\n",
       "    </tr>\n",
       "  </thead>\n",
       "  <tbody>\n",
       "    <tr>\n",
       "      <th>1957</th>\n",
       "      <td>239</td>\n",
       "      <td>905452110</td>\n",
       "      <td>-0.921358</td>\n",
       "      <td>-0.106446</td>\n",
       "      <td>0.718504</td>\n",
       "      <td>0.0</td>\n",
       "      <td>0.218298</td>\n",
       "      <td>-1.478840</td>\n",
       "      <td>0.389398</td>\n",
       "      <td>-0.268166</td>\n",
       "      <td>...</td>\n",
       "      <td>-0.060652</td>\n",
       "      <td>1.670135</td>\n",
       "      <td>-0.14781</td>\n",
       "      <td>-0.065532</td>\n",
       "      <td>-0.034975</td>\n",
       "      <td>-0.08947</td>\n",
       "      <td>-0.055351</td>\n",
       "      <td>-0.049492</td>\n",
       "      <td>-0.298588</td>\n",
       "      <td>0.395061</td>\n",
       "    </tr>\n",
       "    <tr>\n",
       "      <th>1966</th>\n",
       "      <td>2443</td>\n",
       "      <td>528315030</td>\n",
       "      <td>0.643738</td>\n",
       "      <td>-0.089214</td>\n",
       "      <td>0.718504</td>\n",
       "      <td>0.0</td>\n",
       "      <td>0.218298</td>\n",
       "      <td>1.337753</td>\n",
       "      <td>-0.505889</td>\n",
       "      <td>0.644691</td>\n",
       "      <td>...</td>\n",
       "      <td>-0.060652</td>\n",
       "      <td>-0.598754</td>\n",
       "      <td>-0.14781</td>\n",
       "      <td>-0.065532</td>\n",
       "      <td>-0.034975</td>\n",
       "      <td>-0.08947</td>\n",
       "      <td>-0.055351</td>\n",
       "      <td>-0.049492</td>\n",
       "      <td>-0.298588</td>\n",
       "      <td>0.395061</td>\n",
       "    </tr>\n",
       "    <tr>\n",
       "      <th>838</th>\n",
       "      <td>441</td>\n",
       "      <td>528120170</td>\n",
       "      <td>0.399191</td>\n",
       "      <td>0.150689</td>\n",
       "      <td>-1.039629</td>\n",
       "      <td>0.0</td>\n",
       "      <td>0.218298</td>\n",
       "      <td>2.041901</td>\n",
       "      <td>-0.505889</td>\n",
       "      <td>1.029051</td>\n",
       "      <td>...</td>\n",
       "      <td>-0.060652</td>\n",
       "      <td>-0.598754</td>\n",
       "      <td>-0.14781</td>\n",
       "      <td>-0.065532</td>\n",
       "      <td>-0.034975</td>\n",
       "      <td>-0.08947</td>\n",
       "      <td>-0.055351</td>\n",
       "      <td>-0.049492</td>\n",
       "      <td>-0.298588</td>\n",
       "      <td>0.395061</td>\n",
       "    </tr>\n",
       "    <tr>\n",
       "      <th>427</th>\n",
       "      <td>1379</td>\n",
       "      <td>905103030</td>\n",
       "      <td>0.545919</td>\n",
       "      <td>0.512571</td>\n",
       "      <td>0.718504</td>\n",
       "      <td>0.0</td>\n",
       "      <td>0.218298</td>\n",
       "      <td>-0.070544</td>\n",
       "      <td>-0.505889</td>\n",
       "      <td>-0.316211</td>\n",
       "      <td>...</td>\n",
       "      <td>-0.060652</td>\n",
       "      <td>-0.598754</td>\n",
       "      <td>-0.14781</td>\n",
       "      <td>-0.065532</td>\n",
       "      <td>-0.034975</td>\n",
       "      <td>-0.08947</td>\n",
       "      <td>-0.055351</td>\n",
       "      <td>-0.049492</td>\n",
       "      <td>-0.298588</td>\n",
       "      <td>0.395061</td>\n",
       "    </tr>\n",
       "    <tr>\n",
       "      <th>1489</th>\n",
       "      <td>1218</td>\n",
       "      <td>534428020</td>\n",
       "      <td>-0.040992</td>\n",
       "      <td>0.424550</td>\n",
       "      <td>-1.039629</td>\n",
       "      <td>0.0</td>\n",
       "      <td>0.218298</td>\n",
       "      <td>-1.478840</td>\n",
       "      <td>-0.505889</td>\n",
       "      <td>-1.181023</td>\n",
       "      <td>...</td>\n",
       "      <td>-0.060652</td>\n",
       "      <td>-0.598754</td>\n",
       "      <td>-0.14781</td>\n",
       "      <td>-0.065532</td>\n",
       "      <td>-0.034975</td>\n",
       "      <td>-0.08947</td>\n",
       "      <td>-0.055351</td>\n",
       "      <td>-0.049492</td>\n",
       "      <td>-0.298588</td>\n",
       "      <td>0.395061</td>\n",
       "    </tr>\n",
       "  </tbody>\n",
       "</table>\n",
       "<p>5 rows × 155 columns</p>\n",
       "</div>"
      ],
      "text/plain": [
       "         id        pid  lot_frontage  lot_area  lot_shape  utilities  \\\n",
       "index                                                                  \n",
       "1957    239  905452110     -0.921358 -0.106446   0.718504        0.0   \n",
       "1966   2443  528315030      0.643738 -0.089214   0.718504        0.0   \n",
       "838     441  528120170      0.399191  0.150689  -1.039629        0.0   \n",
       "427    1379  905103030      0.545919  0.512571   0.718504        0.0   \n",
       "1489   1218  534428020     -0.040992  0.424550  -1.039629        0.0   \n",
       "\n",
       "       land_slope  overall_qual  overall_cond  year_remod/add  ...  \\\n",
       "index                                                          ...   \n",
       "1957     0.218298     -1.478840      0.389398       -0.268166  ...   \n",
       "1966     0.218298      1.337753     -0.505889        0.644691  ...   \n",
       "838      0.218298      2.041901     -0.505889        1.029051  ...   \n",
       "427      0.218298     -0.070544     -0.505889       -0.316211  ...   \n",
       "1489     0.218298     -1.478840     -0.505889       -1.181023  ...   \n",
       "\n",
       "       garage_type_CarPort  garage_type_Detchd  misc_feature_Shed  \\\n",
       "index                                                               \n",
       "1957             -0.060652            1.670135           -0.14781   \n",
       "1966             -0.060652           -0.598754           -0.14781   \n",
       "838              -0.060652           -0.598754           -0.14781   \n",
       "427              -0.060652           -0.598754           -0.14781   \n",
       "1489             -0.060652           -0.598754           -0.14781   \n",
       "\n",
       "       sale_type_CWD  sale_type_Con  sale_type_ConLD  sale_type_ConLI  \\\n",
       "index                                                                   \n",
       "1957       -0.065532      -0.034975         -0.08947        -0.055351   \n",
       "1966       -0.065532      -0.034975         -0.08947        -0.055351   \n",
       "838        -0.065532      -0.034975         -0.08947        -0.055351   \n",
       "427        -0.065532      -0.034975         -0.08947        -0.055351   \n",
       "1489       -0.065532      -0.034975         -0.08947        -0.055351   \n",
       "\n",
       "       sale_type_ConLw  sale_type_New  sale_type_WD   \n",
       "index                                                 \n",
       "1957         -0.049492      -0.298588       0.395061  \n",
       "1966         -0.049492      -0.298588       0.395061  \n",
       "838          -0.049492      -0.298588       0.395061  \n",
       "427          -0.049492      -0.298588       0.395061  \n",
       "1489         -0.049492      -0.298588       0.395061  \n",
       "\n",
       "[5 rows x 155 columns]"
      ]
     },
     "execution_count": 7,
     "metadata": {},
     "output_type": "execute_result"
    }
   ],
   "source": [
    "Z_train.head()"
   ]
  },
  {
   "cell_type": "code",
   "execution_count": 8,
   "id": "528e5b53-7323-4a5c-882b-8e1605a8a8a4",
   "metadata": {},
   "outputs": [
    {
     "data": {
      "text/html": [
       "<div>\n",
       "<style scoped>\n",
       "    .dataframe tbody tr th:only-of-type {\n",
       "        vertical-align: middle;\n",
       "    }\n",
       "\n",
       "    .dataframe tbody tr th {\n",
       "        vertical-align: top;\n",
       "    }\n",
       "\n",
       "    .dataframe thead th {\n",
       "        text-align: right;\n",
       "    }\n",
       "</style>\n",
       "<table border=\"1\" class=\"dataframe\">\n",
       "  <thead>\n",
       "    <tr style=\"text-align: right;\">\n",
       "      <th></th>\n",
       "      <th>Unnamed: 0</th>\n",
       "      <th>id</th>\n",
       "      <th>pid</th>\n",
       "      <th>lot_frontage</th>\n",
       "      <th>lot_area</th>\n",
       "      <th>lot_shape</th>\n",
       "      <th>utilities</th>\n",
       "      <th>land_slope</th>\n",
       "      <th>overall_qual</th>\n",
       "      <th>overall_cond</th>\n",
       "      <th>...</th>\n",
       "      <th>garage_type_CarPort</th>\n",
       "      <th>garage_type_Detchd</th>\n",
       "      <th>misc_feature_Shed</th>\n",
       "      <th>sale_type_CWD</th>\n",
       "      <th>sale_type_Con</th>\n",
       "      <th>sale_type_ConLD</th>\n",
       "      <th>sale_type_ConLI</th>\n",
       "      <th>sale_type_ConLw</th>\n",
       "      <th>sale_type_New</th>\n",
       "      <th>sale_type_WD</th>\n",
       "    </tr>\n",
       "  </thead>\n",
       "  <tbody>\n",
       "    <tr>\n",
       "      <th>0</th>\n",
       "      <td>1475</td>\n",
       "      <td>1640</td>\n",
       "      <td>527252050</td>\n",
       "      <td>-0.383356</td>\n",
       "      <td>-0.328610</td>\n",
       "      <td>-1.039629</td>\n",
       "      <td>0.0</td>\n",
       "      <td>0.218298</td>\n",
       "      <td>2.041901</td>\n",
       "      <td>-0.505889</td>\n",
       "      <td>...</td>\n",
       "      <td>-0.060652</td>\n",
       "      <td>-0.598754</td>\n",
       "      <td>-0.14781</td>\n",
       "      <td>-0.065532</td>\n",
       "      <td>-0.034975</td>\n",
       "      <td>-0.08947</td>\n",
       "      <td>-0.055351</td>\n",
       "      <td>-0.049492</td>\n",
       "      <td>-0.298588</td>\n",
       "      <td>0.395061</td>\n",
       "    </tr>\n",
       "    <tr>\n",
       "      <th>1</th>\n",
       "      <td>692</td>\n",
       "      <td>2883</td>\n",
       "      <td>911225110</td>\n",
       "      <td>-0.432266</td>\n",
       "      <td>-0.246671</td>\n",
       "      <td>0.718504</td>\n",
       "      <td>0.0</td>\n",
       "      <td>0.218298</td>\n",
       "      <td>-2.182989</td>\n",
       "      <td>-0.505889</td>\n",
       "      <td>...</td>\n",
       "      <td>-0.060652</td>\n",
       "      <td>-0.598754</td>\n",
       "      <td>-0.14781</td>\n",
       "      <td>-0.065532</td>\n",
       "      <td>-0.034975</td>\n",
       "      <td>-0.08947</td>\n",
       "      <td>-0.055351</td>\n",
       "      <td>-0.049492</td>\n",
       "      <td>-0.298588</td>\n",
       "      <td>0.395061</td>\n",
       "    </tr>\n",
       "    <tr>\n",
       "      <th>2</th>\n",
       "      <td>100</td>\n",
       "      <td>1013</td>\n",
       "      <td>527214030</td>\n",
       "      <td>-0.774630</td>\n",
       "      <td>0.915844</td>\n",
       "      <td>-1.039629</td>\n",
       "      <td>0.0</td>\n",
       "      <td>0.218298</td>\n",
       "      <td>2.041901</td>\n",
       "      <td>-0.505889</td>\n",
       "      <td>...</td>\n",
       "      <td>-0.060652</td>\n",
       "      <td>-0.598754</td>\n",
       "      <td>-0.14781</td>\n",
       "      <td>-0.065532</td>\n",
       "      <td>-0.034975</td>\n",
       "      <td>-0.08947</td>\n",
       "      <td>-0.055351</td>\n",
       "      <td>-0.049492</td>\n",
       "      <td>-0.298588</td>\n",
       "      <td>0.395061</td>\n",
       "    </tr>\n",
       "    <tr>\n",
       "      <th>3</th>\n",
       "      <td>1826</td>\n",
       "      <td>1713</td>\n",
       "      <td>528172050</td>\n",
       "      <td>0.056827</td>\n",
       "      <td>-0.009134</td>\n",
       "      <td>-1.039629</td>\n",
       "      <td>0.0</td>\n",
       "      <td>0.218298</td>\n",
       "      <td>0.633604</td>\n",
       "      <td>-0.505889</td>\n",
       "      <td>...</td>\n",
       "      <td>-0.060652</td>\n",
       "      <td>-0.598754</td>\n",
       "      <td>-0.14781</td>\n",
       "      <td>-0.065532</td>\n",
       "      <td>-0.034975</td>\n",
       "      <td>-0.08947</td>\n",
       "      <td>-0.055351</td>\n",
       "      <td>-0.049492</td>\n",
       "      <td>-0.298588</td>\n",
       "      <td>0.395061</td>\n",
       "    </tr>\n",
       "    <tr>\n",
       "      <th>4</th>\n",
       "      <td>1761</td>\n",
       "      <td>450</td>\n",
       "      <td>528168030</td>\n",
       "      <td>1.328467</td>\n",
       "      <td>0.554469</td>\n",
       "      <td>-1.039629</td>\n",
       "      <td>0.0</td>\n",
       "      <td>0.218298</td>\n",
       "      <td>1.337753</td>\n",
       "      <td>-0.505889</td>\n",
       "      <td>...</td>\n",
       "      <td>-0.060652</td>\n",
       "      <td>-0.598754</td>\n",
       "      <td>-0.14781</td>\n",
       "      <td>-0.065532</td>\n",
       "      <td>-0.034975</td>\n",
       "      <td>-0.08947</td>\n",
       "      <td>-0.055351</td>\n",
       "      <td>-0.049492</td>\n",
       "      <td>-0.298588</td>\n",
       "      <td>0.395061</td>\n",
       "    </tr>\n",
       "  </tbody>\n",
       "</table>\n",
       "<p>5 rows × 156 columns</p>\n",
       "</div>"
      ],
      "text/plain": [
       "   Unnamed: 0    id        pid  lot_frontage  lot_area  lot_shape  utilities  \\\n",
       "0        1475  1640  527252050     -0.383356 -0.328610  -1.039629        0.0   \n",
       "1         692  2883  911225110     -0.432266 -0.246671   0.718504        0.0   \n",
       "2         100  1013  527214030     -0.774630  0.915844  -1.039629        0.0   \n",
       "3        1826  1713  528172050      0.056827 -0.009134  -1.039629        0.0   \n",
       "4        1761   450  528168030      1.328467  0.554469  -1.039629        0.0   \n",
       "\n",
       "   land_slope  overall_qual  overall_cond  ...  garage_type_CarPort  \\\n",
       "0    0.218298      2.041901     -0.505889  ...            -0.060652   \n",
       "1    0.218298     -2.182989     -0.505889  ...            -0.060652   \n",
       "2    0.218298      2.041901     -0.505889  ...            -0.060652   \n",
       "3    0.218298      0.633604     -0.505889  ...            -0.060652   \n",
       "4    0.218298      1.337753     -0.505889  ...            -0.060652   \n",
       "\n",
       "   garage_type_Detchd  misc_feature_Shed  sale_type_CWD  sale_type_Con  \\\n",
       "0           -0.598754           -0.14781      -0.065532      -0.034975   \n",
       "1           -0.598754           -0.14781      -0.065532      -0.034975   \n",
       "2           -0.598754           -0.14781      -0.065532      -0.034975   \n",
       "3           -0.598754           -0.14781      -0.065532      -0.034975   \n",
       "4           -0.598754           -0.14781      -0.065532      -0.034975   \n",
       "\n",
       "   sale_type_ConLD  sale_type_ConLI  sale_type_ConLw  sale_type_New  \\\n",
       "0         -0.08947        -0.055351        -0.049492      -0.298588   \n",
       "1         -0.08947        -0.055351        -0.049492      -0.298588   \n",
       "2         -0.08947        -0.055351        -0.049492      -0.298588   \n",
       "3         -0.08947        -0.055351        -0.049492      -0.298588   \n",
       "4         -0.08947        -0.055351        -0.049492      -0.298588   \n",
       "\n",
       "   sale_type_WD   \n",
       "0       0.395061  \n",
       "1       0.395061  \n",
       "2       0.395061  \n",
       "3       0.395061  \n",
       "4       0.395061  \n",
       "\n",
       "[5 rows x 156 columns]"
      ]
     },
     "execution_count": 8,
     "metadata": {},
     "output_type": "execute_result"
    }
   ],
   "source": [
    "Z_test.head()"
   ]
  },
  {
   "cell_type": "code",
   "execution_count": 9,
   "id": "e437b64f-f12d-4f88-aa82-42be79f45b39",
   "metadata": {},
   "outputs": [],
   "source": [
    "Z_test.rename(columns={\"Unnamed: 0\": \"index\"}, inplace=True)\n",
    "Z_test=Z_test.set_index('index')"
   ]
  },
  {
   "cell_type": "code",
   "execution_count": 10,
   "id": "9cb2e576-b9a3-4289-b403-561d53d3e136",
   "metadata": {},
   "outputs": [
    {
     "data": {
      "text/html": [
       "<div>\n",
       "<style scoped>\n",
       "    .dataframe tbody tr th:only-of-type {\n",
       "        vertical-align: middle;\n",
       "    }\n",
       "\n",
       "    .dataframe tbody tr th {\n",
       "        vertical-align: top;\n",
       "    }\n",
       "\n",
       "    .dataframe thead th {\n",
       "        text-align: right;\n",
       "    }\n",
       "</style>\n",
       "<table border=\"1\" class=\"dataframe\">\n",
       "  <thead>\n",
       "    <tr style=\"text-align: right;\">\n",
       "      <th></th>\n",
       "      <th>id</th>\n",
       "      <th>pid</th>\n",
       "      <th>lot_frontage</th>\n",
       "      <th>lot_area</th>\n",
       "      <th>lot_shape</th>\n",
       "      <th>utilities</th>\n",
       "      <th>land_slope</th>\n",
       "      <th>overall_qual</th>\n",
       "      <th>overall_cond</th>\n",
       "      <th>year_remod/add</th>\n",
       "      <th>...</th>\n",
       "      <th>garage_type_CarPort</th>\n",
       "      <th>garage_type_Detchd</th>\n",
       "      <th>misc_feature_Shed</th>\n",
       "      <th>sale_type_CWD</th>\n",
       "      <th>sale_type_Con</th>\n",
       "      <th>sale_type_ConLD</th>\n",
       "      <th>sale_type_ConLI</th>\n",
       "      <th>sale_type_ConLw</th>\n",
       "      <th>sale_type_New</th>\n",
       "      <th>sale_type_WD</th>\n",
       "    </tr>\n",
       "    <tr>\n",
       "      <th>index</th>\n",
       "      <th></th>\n",
       "      <th></th>\n",
       "      <th></th>\n",
       "      <th></th>\n",
       "      <th></th>\n",
       "      <th></th>\n",
       "      <th></th>\n",
       "      <th></th>\n",
       "      <th></th>\n",
       "      <th></th>\n",
       "      <th></th>\n",
       "      <th></th>\n",
       "      <th></th>\n",
       "      <th></th>\n",
       "      <th></th>\n",
       "      <th></th>\n",
       "      <th></th>\n",
       "      <th></th>\n",
       "      <th></th>\n",
       "      <th></th>\n",
       "      <th></th>\n",
       "    </tr>\n",
       "  </thead>\n",
       "  <tbody>\n",
       "    <tr>\n",
       "      <th>1475</th>\n",
       "      <td>1640</td>\n",
       "      <td>527252050</td>\n",
       "      <td>-0.383356</td>\n",
       "      <td>-0.328610</td>\n",
       "      <td>-1.039629</td>\n",
       "      <td>0.0</td>\n",
       "      <td>0.218298</td>\n",
       "      <td>2.041901</td>\n",
       "      <td>-0.505889</td>\n",
       "      <td>1.029051</td>\n",
       "      <td>...</td>\n",
       "      <td>-0.060652</td>\n",
       "      <td>-0.598754</td>\n",
       "      <td>-0.14781</td>\n",
       "      <td>-0.065532</td>\n",
       "      <td>-0.034975</td>\n",
       "      <td>-0.08947</td>\n",
       "      <td>-0.055351</td>\n",
       "      <td>-0.049492</td>\n",
       "      <td>-0.298588</td>\n",
       "      <td>0.395061</td>\n",
       "    </tr>\n",
       "    <tr>\n",
       "      <th>692</th>\n",
       "      <td>2883</td>\n",
       "      <td>911225110</td>\n",
       "      <td>-0.432266</td>\n",
       "      <td>-0.246671</td>\n",
       "      <td>0.718504</td>\n",
       "      <td>0.0</td>\n",
       "      <td>0.218298</td>\n",
       "      <td>-2.182989</td>\n",
       "      <td>-0.505889</td>\n",
       "      <td>-1.661474</td>\n",
       "      <td>...</td>\n",
       "      <td>-0.060652</td>\n",
       "      <td>-0.598754</td>\n",
       "      <td>-0.14781</td>\n",
       "      <td>-0.065532</td>\n",
       "      <td>-0.034975</td>\n",
       "      <td>-0.08947</td>\n",
       "      <td>-0.055351</td>\n",
       "      <td>-0.049492</td>\n",
       "      <td>-0.298588</td>\n",
       "      <td>0.395061</td>\n",
       "    </tr>\n",
       "    <tr>\n",
       "      <th>100</th>\n",
       "      <td>1013</td>\n",
       "      <td>527214030</td>\n",
       "      <td>-0.774630</td>\n",
       "      <td>0.915844</td>\n",
       "      <td>-1.039629</td>\n",
       "      <td>0.0</td>\n",
       "      <td>0.218298</td>\n",
       "      <td>2.041901</td>\n",
       "      <td>-0.505889</td>\n",
       "      <td>0.932961</td>\n",
       "      <td>...</td>\n",
       "      <td>-0.060652</td>\n",
       "      <td>-0.598754</td>\n",
       "      <td>-0.14781</td>\n",
       "      <td>-0.065532</td>\n",
       "      <td>-0.034975</td>\n",
       "      <td>-0.08947</td>\n",
       "      <td>-0.055351</td>\n",
       "      <td>-0.049492</td>\n",
       "      <td>-0.298588</td>\n",
       "      <td>0.395061</td>\n",
       "    </tr>\n",
       "    <tr>\n",
       "      <th>1826</th>\n",
       "      <td>1713</td>\n",
       "      <td>528172050</td>\n",
       "      <td>0.056827</td>\n",
       "      <td>-0.009134</td>\n",
       "      <td>-1.039629</td>\n",
       "      <td>0.0</td>\n",
       "      <td>0.218298</td>\n",
       "      <td>0.633604</td>\n",
       "      <td>-0.505889</td>\n",
       "      <td>1.029051</td>\n",
       "      <td>...</td>\n",
       "      <td>-0.060652</td>\n",
       "      <td>-0.598754</td>\n",
       "      <td>-0.14781</td>\n",
       "      <td>-0.065532</td>\n",
       "      <td>-0.034975</td>\n",
       "      <td>-0.08947</td>\n",
       "      <td>-0.055351</td>\n",
       "      <td>-0.049492</td>\n",
       "      <td>-0.298588</td>\n",
       "      <td>0.395061</td>\n",
       "    </tr>\n",
       "    <tr>\n",
       "      <th>1761</th>\n",
       "      <td>450</td>\n",
       "      <td>528168030</td>\n",
       "      <td>1.328467</td>\n",
       "      <td>0.554469</td>\n",
       "      <td>-1.039629</td>\n",
       "      <td>0.0</td>\n",
       "      <td>0.218298</td>\n",
       "      <td>1.337753</td>\n",
       "      <td>-0.505889</td>\n",
       "      <td>0.932961</td>\n",
       "      <td>...</td>\n",
       "      <td>-0.060652</td>\n",
       "      <td>-0.598754</td>\n",
       "      <td>-0.14781</td>\n",
       "      <td>-0.065532</td>\n",
       "      <td>-0.034975</td>\n",
       "      <td>-0.08947</td>\n",
       "      <td>-0.055351</td>\n",
       "      <td>-0.049492</td>\n",
       "      <td>-0.298588</td>\n",
       "      <td>0.395061</td>\n",
       "    </tr>\n",
       "  </tbody>\n",
       "</table>\n",
       "<p>5 rows × 155 columns</p>\n",
       "</div>"
      ],
      "text/plain": [
       "         id        pid  lot_frontage  lot_area  lot_shape  utilities  \\\n",
       "index                                                                  \n",
       "1475   1640  527252050     -0.383356 -0.328610  -1.039629        0.0   \n",
       "692    2883  911225110     -0.432266 -0.246671   0.718504        0.0   \n",
       "100    1013  527214030     -0.774630  0.915844  -1.039629        0.0   \n",
       "1826   1713  528172050      0.056827 -0.009134  -1.039629        0.0   \n",
       "1761    450  528168030      1.328467  0.554469  -1.039629        0.0   \n",
       "\n",
       "       land_slope  overall_qual  overall_cond  year_remod/add  ...  \\\n",
       "index                                                          ...   \n",
       "1475     0.218298      2.041901     -0.505889        1.029051  ...   \n",
       "692      0.218298     -2.182989     -0.505889       -1.661474  ...   \n",
       "100      0.218298      2.041901     -0.505889        0.932961  ...   \n",
       "1826     0.218298      0.633604     -0.505889        1.029051  ...   \n",
       "1761     0.218298      1.337753     -0.505889        0.932961  ...   \n",
       "\n",
       "       garage_type_CarPort  garage_type_Detchd  misc_feature_Shed  \\\n",
       "index                                                               \n",
       "1475             -0.060652           -0.598754           -0.14781   \n",
       "692              -0.060652           -0.598754           -0.14781   \n",
       "100              -0.060652           -0.598754           -0.14781   \n",
       "1826             -0.060652           -0.598754           -0.14781   \n",
       "1761             -0.060652           -0.598754           -0.14781   \n",
       "\n",
       "       sale_type_CWD  sale_type_Con  sale_type_ConLD  sale_type_ConLI  \\\n",
       "index                                                                   \n",
       "1475       -0.065532      -0.034975         -0.08947        -0.055351   \n",
       "692        -0.065532      -0.034975         -0.08947        -0.055351   \n",
       "100        -0.065532      -0.034975         -0.08947        -0.055351   \n",
       "1826       -0.065532      -0.034975         -0.08947        -0.055351   \n",
       "1761       -0.065532      -0.034975         -0.08947        -0.055351   \n",
       "\n",
       "       sale_type_ConLw  sale_type_New  sale_type_WD   \n",
       "index                                                 \n",
       "1475         -0.049492      -0.298588       0.395061  \n",
       "692          -0.049492      -0.298588       0.395061  \n",
       "100          -0.049492      -0.298588       0.395061  \n",
       "1826         -0.049492      -0.298588       0.395061  \n",
       "1761         -0.049492      -0.298588       0.395061  \n",
       "\n",
       "[5 rows x 155 columns]"
      ]
     },
     "execution_count": 10,
     "metadata": {},
     "output_type": "execute_result"
    }
   ],
   "source": [
    "Z_test.head()"
   ]
  },
  {
   "cell_type": "code",
   "execution_count": 11,
   "id": "b25fb9be-63ee-4788-94e5-69fb00ff6138",
   "metadata": {},
   "outputs": [],
   "source": [
    "y_train.rename(columns={\"Unnamed: 0\": \"index\"}, inplace=True)\n",
    "y_train=y_train.set_index('index')"
   ]
  },
  {
   "cell_type": "code",
   "execution_count": 12,
   "id": "b379d2aa-6bf8-43be-a8f3-b6ca6288f642",
   "metadata": {},
   "outputs": [
    {
     "data": {
      "text/html": [
       "<div>\n",
       "<style scoped>\n",
       "    .dataframe tbody tr th:only-of-type {\n",
       "        vertical-align: middle;\n",
       "    }\n",
       "\n",
       "    .dataframe tbody tr th {\n",
       "        vertical-align: top;\n",
       "    }\n",
       "\n",
       "    .dataframe thead th {\n",
       "        text-align: right;\n",
       "    }\n",
       "</style>\n",
       "<table border=\"1\" class=\"dataframe\">\n",
       "  <thead>\n",
       "    <tr style=\"text-align: right;\">\n",
       "      <th></th>\n",
       "      <th>sale_price</th>\n",
       "    </tr>\n",
       "    <tr>\n",
       "      <th>index</th>\n",
       "      <th></th>\n",
       "    </tr>\n",
       "  </thead>\n",
       "  <tbody>\n",
       "    <tr>\n",
       "      <th>1957</th>\n",
       "      <td>127000</td>\n",
       "    </tr>\n",
       "    <tr>\n",
       "      <th>1966</th>\n",
       "      <td>348000</td>\n",
       "    </tr>\n",
       "    <tr>\n",
       "      <th>838</th>\n",
       "      <td>300000</td>\n",
       "    </tr>\n",
       "    <tr>\n",
       "      <th>427</th>\n",
       "      <td>157500</td>\n",
       "    </tr>\n",
       "    <tr>\n",
       "      <th>1489</th>\n",
       "      <td>141000</td>\n",
       "    </tr>\n",
       "  </tbody>\n",
       "</table>\n",
       "</div>"
      ],
      "text/plain": [
       "       sale_price\n",
       "index            \n",
       "1957       127000\n",
       "1966       348000\n",
       "838        300000\n",
       "427        157500\n",
       "1489       141000"
      ]
     },
     "execution_count": 12,
     "metadata": {},
     "output_type": "execute_result"
    }
   ],
   "source": [
    "y_train.head()"
   ]
  },
  {
   "cell_type": "code",
   "execution_count": 13,
   "id": "2dfca878-86f2-4d2b-8e47-cf56463a3b6b",
   "metadata": {},
   "outputs": [],
   "source": [
    "y_test.rename(columns={\"Unnamed: 0\": \"index\"}, inplace=True)\n",
    "y_test=y_test.set_index('index')"
   ]
  },
  {
   "cell_type": "code",
   "execution_count": 14,
   "id": "7b084d59-6b1b-4f38-ae67-600135af444b",
   "metadata": {},
   "outputs": [
    {
     "data": {
      "text/html": [
       "<div>\n",
       "<style scoped>\n",
       "    .dataframe tbody tr th:only-of-type {\n",
       "        vertical-align: middle;\n",
       "    }\n",
       "\n",
       "    .dataframe tbody tr th {\n",
       "        vertical-align: top;\n",
       "    }\n",
       "\n",
       "    .dataframe thead th {\n",
       "        text-align: right;\n",
       "    }\n",
       "</style>\n",
       "<table border=\"1\" class=\"dataframe\">\n",
       "  <thead>\n",
       "    <tr style=\"text-align: right;\">\n",
       "      <th></th>\n",
       "      <th>sale_price</th>\n",
       "    </tr>\n",
       "    <tr>\n",
       "      <th>index</th>\n",
       "      <th></th>\n",
       "    </tr>\n",
       "  </thead>\n",
       "  <tbody>\n",
       "    <tr>\n",
       "      <th>1475</th>\n",
       "      <td>319900</td>\n",
       "    </tr>\n",
       "    <tr>\n",
       "      <th>692</th>\n",
       "      <td>78000</td>\n",
       "    </tr>\n",
       "  </tbody>\n",
       "</table>\n",
       "</div>"
      ],
      "text/plain": [
       "       sale_price\n",
       "index            \n",
       "1475       319900\n",
       "692         78000"
      ]
     },
     "execution_count": 14,
     "metadata": {},
     "output_type": "execute_result"
    }
   ],
   "source": [
    "y_test.head(2)"
   ]
  },
  {
   "cell_type": "code",
   "execution_count": 15,
   "id": "14030164-b342-44c1-b8e5-7e0c0addb8cb",
   "metadata": {},
   "outputs": [],
   "source": [
    "Z_train.drop(columns='utilities', inplace=True)\n",
    "Z_test.drop(columns='utilities', inplace=True)"
   ]
  },
  {
   "cell_type": "code",
   "execution_count": 16,
   "id": "48216466-b471-4e3a-88bf-f420c34ab598",
   "metadata": {},
   "outputs": [],
   "source": [
    "Z_train=Z_train.drop(columns=['id', 'pid'])\n",
    "Z_test=Z_test.drop(columns=['id', 'pid'])"
   ]
  },
  {
   "cell_type": "markdown",
   "id": "b22ec797-3722-4218-a3c4-22829b508814",
   "metadata": {},
   "source": [
    "## Linear Regression Null Model "
   ]
  },
  {
   "cell_type": "code",
   "execution_count": 19,
   "id": "022c4cde-1d91-4e1b-a416-cba86ba7e2f6",
   "metadata": {},
   "outputs": [
    {
     "data": {
      "text/plain": [
       "sale_price    181428.810629\n",
       "dtype: float64"
      ]
     },
     "execution_count": 19,
     "metadata": {},
     "output_type": "execute_result"
    }
   ],
   "source": [
    "#Baseline\n",
    "y_train.mean()"
   ]
  },
  {
   "cell_type": "code",
   "execution_count": 148,
   "id": "9cbdee58-5018-4bdf-8c58-1a72a926aba7",
   "metadata": {},
   "outputs": [
    {
     "data": {
      "text/html": [
       "<div>\n",
       "<style scoped>\n",
       "    .dataframe tbody tr th:only-of-type {\n",
       "        vertical-align: middle;\n",
       "    }\n",
       "\n",
       "    .dataframe tbody tr th {\n",
       "        vertical-align: top;\n",
       "    }\n",
       "\n",
       "    .dataframe thead th {\n",
       "        text-align: right;\n",
       "    }\n",
       "</style>\n",
       "<table border=\"1\" class=\"dataframe\">\n",
       "  <thead>\n",
       "    <tr style=\"text-align: right;\">\n",
       "      <th></th>\n",
       "      <th>lot_frontage</th>\n",
       "      <th>lot_area</th>\n",
       "      <th>lot_shape</th>\n",
       "      <th>land_slope</th>\n",
       "      <th>overall_qual</th>\n",
       "      <th>overall_cond</th>\n",
       "      <th>year_remod/add</th>\n",
       "      <th>exter_qual</th>\n",
       "      <th>exter_cond</th>\n",
       "      <th>bsmt_cond</th>\n",
       "      <th>...</th>\n",
       "      <th>garage_type_CarPort</th>\n",
       "      <th>garage_type_Detchd</th>\n",
       "      <th>misc_feature_Shed</th>\n",
       "      <th>sale_type_CWD</th>\n",
       "      <th>sale_type_Con</th>\n",
       "      <th>sale_type_ConLD</th>\n",
       "      <th>sale_type_ConLI</th>\n",
       "      <th>sale_type_ConLw</th>\n",
       "      <th>sale_type_New</th>\n",
       "      <th>sale_type_WD</th>\n",
       "    </tr>\n",
       "    <tr>\n",
       "      <th>index</th>\n",
       "      <th></th>\n",
       "      <th></th>\n",
       "      <th></th>\n",
       "      <th></th>\n",
       "      <th></th>\n",
       "      <th></th>\n",
       "      <th></th>\n",
       "      <th></th>\n",
       "      <th></th>\n",
       "      <th></th>\n",
       "      <th></th>\n",
       "      <th></th>\n",
       "      <th></th>\n",
       "      <th></th>\n",
       "      <th></th>\n",
       "      <th></th>\n",
       "      <th></th>\n",
       "      <th></th>\n",
       "      <th></th>\n",
       "      <th></th>\n",
       "      <th></th>\n",
       "    </tr>\n",
       "  </thead>\n",
       "  <tbody>\n",
       "    <tr>\n",
       "      <th>1957</th>\n",
       "      <td>-0.921358</td>\n",
       "      <td>-0.106446</td>\n",
       "      <td>0.718504</td>\n",
       "      <td>0.218298</td>\n",
       "      <td>-1.478840</td>\n",
       "      <td>0.389398</td>\n",
       "      <td>-0.268166</td>\n",
       "      <td>-0.695900</td>\n",
       "      <td>-0.228933</td>\n",
       "      <td>-1.603284</td>\n",
       "      <td>...</td>\n",
       "      <td>-0.060652</td>\n",
       "      <td>1.670135</td>\n",
       "      <td>-0.14781</td>\n",
       "      <td>-0.065532</td>\n",
       "      <td>-0.034975</td>\n",
       "      <td>-0.08947</td>\n",
       "      <td>-0.055351</td>\n",
       "      <td>-0.049492</td>\n",
       "      <td>-0.298588</td>\n",
       "      <td>0.395061</td>\n",
       "    </tr>\n",
       "    <tr>\n",
       "      <th>1966</th>\n",
       "      <td>0.643738</td>\n",
       "      <td>-0.089214</td>\n",
       "      <td>0.718504</td>\n",
       "      <td>0.218298</td>\n",
       "      <td>1.337753</td>\n",
       "      <td>-0.505889</td>\n",
       "      <td>0.644691</td>\n",
       "      <td>1.022332</td>\n",
       "      <td>-0.228933</td>\n",
       "      <td>0.122275</td>\n",
       "      <td>...</td>\n",
       "      <td>-0.060652</td>\n",
       "      <td>-0.598754</td>\n",
       "      <td>-0.14781</td>\n",
       "      <td>-0.065532</td>\n",
       "      <td>-0.034975</td>\n",
       "      <td>-0.08947</td>\n",
       "      <td>-0.055351</td>\n",
       "      <td>-0.049492</td>\n",
       "      <td>-0.298588</td>\n",
       "      <td>0.395061</td>\n",
       "    </tr>\n",
       "    <tr>\n",
       "      <th>838</th>\n",
       "      <td>0.399191</td>\n",
       "      <td>0.150689</td>\n",
       "      <td>-1.039629</td>\n",
       "      <td>0.218298</td>\n",
       "      <td>2.041901</td>\n",
       "      <td>-0.505889</td>\n",
       "      <td>1.029051</td>\n",
       "      <td>1.022332</td>\n",
       "      <td>-0.228933</td>\n",
       "      <td>1.847835</td>\n",
       "      <td>...</td>\n",
       "      <td>-0.060652</td>\n",
       "      <td>-0.598754</td>\n",
       "      <td>-0.14781</td>\n",
       "      <td>-0.065532</td>\n",
       "      <td>-0.034975</td>\n",
       "      <td>-0.08947</td>\n",
       "      <td>-0.055351</td>\n",
       "      <td>-0.049492</td>\n",
       "      <td>-0.298588</td>\n",
       "      <td>0.395061</td>\n",
       "    </tr>\n",
       "    <tr>\n",
       "      <th>427</th>\n",
       "      <td>0.545919</td>\n",
       "      <td>0.512571</td>\n",
       "      <td>0.718504</td>\n",
       "      <td>0.218298</td>\n",
       "      <td>-0.070544</td>\n",
       "      <td>-0.505889</td>\n",
       "      <td>-0.316211</td>\n",
       "      <td>-0.695900</td>\n",
       "      <td>-0.228933</td>\n",
       "      <td>0.122275</td>\n",
       "      <td>...</td>\n",
       "      <td>-0.060652</td>\n",
       "      <td>-0.598754</td>\n",
       "      <td>-0.14781</td>\n",
       "      <td>-0.065532</td>\n",
       "      <td>-0.034975</td>\n",
       "      <td>-0.08947</td>\n",
       "      <td>-0.055351</td>\n",
       "      <td>-0.049492</td>\n",
       "      <td>-0.298588</td>\n",
       "      <td>0.395061</td>\n",
       "    </tr>\n",
       "    <tr>\n",
       "      <th>1489</th>\n",
       "      <td>-0.040992</td>\n",
       "      <td>0.424550</td>\n",
       "      <td>-1.039629</td>\n",
       "      <td>0.218298</td>\n",
       "      <td>-1.478840</td>\n",
       "      <td>-0.505889</td>\n",
       "      <td>-1.181023</td>\n",
       "      <td>-0.695900</td>\n",
       "      <td>-0.228933</td>\n",
       "      <td>0.122275</td>\n",
       "      <td>...</td>\n",
       "      <td>-0.060652</td>\n",
       "      <td>-0.598754</td>\n",
       "      <td>-0.14781</td>\n",
       "      <td>-0.065532</td>\n",
       "      <td>-0.034975</td>\n",
       "      <td>-0.08947</td>\n",
       "      <td>-0.055351</td>\n",
       "      <td>-0.049492</td>\n",
       "      <td>-0.298588</td>\n",
       "      <td>0.395061</td>\n",
       "    </tr>\n",
       "  </tbody>\n",
       "</table>\n",
       "<p>5 rows × 152 columns</p>\n",
       "</div>"
      ],
      "text/plain": [
       "       lot_frontage  lot_area  lot_shape  land_slope  overall_qual  \\\n",
       "index                                                                \n",
       "1957      -0.921358 -0.106446   0.718504    0.218298     -1.478840   \n",
       "1966       0.643738 -0.089214   0.718504    0.218298      1.337753   \n",
       "838        0.399191  0.150689  -1.039629    0.218298      2.041901   \n",
       "427        0.545919  0.512571   0.718504    0.218298     -0.070544   \n",
       "1489      -0.040992  0.424550  -1.039629    0.218298     -1.478840   \n",
       "\n",
       "       overall_cond  year_remod/add  exter_qual  exter_cond  bsmt_cond  ...  \\\n",
       "index                                                                   ...   \n",
       "1957       0.389398       -0.268166   -0.695900   -0.228933  -1.603284  ...   \n",
       "1966      -0.505889        0.644691    1.022332   -0.228933   0.122275  ...   \n",
       "838       -0.505889        1.029051    1.022332   -0.228933   1.847835  ...   \n",
       "427       -0.505889       -0.316211   -0.695900   -0.228933   0.122275  ...   \n",
       "1489      -0.505889       -1.181023   -0.695900   -0.228933   0.122275  ...   \n",
       "\n",
       "       garage_type_CarPort  garage_type_Detchd  misc_feature_Shed  \\\n",
       "index                                                               \n",
       "1957             -0.060652            1.670135           -0.14781   \n",
       "1966             -0.060652           -0.598754           -0.14781   \n",
       "838              -0.060652           -0.598754           -0.14781   \n",
       "427              -0.060652           -0.598754           -0.14781   \n",
       "1489             -0.060652           -0.598754           -0.14781   \n",
       "\n",
       "       sale_type_CWD  sale_type_Con  sale_type_ConLD  sale_type_ConLI  \\\n",
       "index                                                                   \n",
       "1957       -0.065532      -0.034975         -0.08947        -0.055351   \n",
       "1966       -0.065532      -0.034975         -0.08947        -0.055351   \n",
       "838        -0.065532      -0.034975         -0.08947        -0.055351   \n",
       "427        -0.065532      -0.034975         -0.08947        -0.055351   \n",
       "1489       -0.065532      -0.034975         -0.08947        -0.055351   \n",
       "\n",
       "       sale_type_ConLw  sale_type_New  sale_type_WD   \n",
       "index                                                 \n",
       "1957         -0.049492      -0.298588       0.395061  \n",
       "1966         -0.049492      -0.298588       0.395061  \n",
       "838          -0.049492      -0.298588       0.395061  \n",
       "427          -0.049492      -0.298588       0.395061  \n",
       "1489         -0.049492      -0.298588       0.395061  \n",
       "\n",
       "[5 rows x 152 columns]"
      ]
     },
     "execution_count": 148,
     "metadata": {},
     "output_type": "execute_result"
    }
   ],
   "source": [
    "Z_train.head()"
   ]
  },
  {
   "cell_type": "markdown",
   "id": "d77d3eef-6b6a-471e-96a5-3a3132570a5d",
   "metadata": {},
   "source": [
    "## Section 1: OLS Linear Regression\n",
    "---\n",
    "\n",
    "### Regular Linear Regression with all non multi-collinear features: "
   ]
  },
  {
   "cell_type": "code",
   "execution_count": 17,
   "id": "6cb1aebc-af82-4c55-aadc-f50224b3aad0",
   "metadata": {},
   "outputs": [],
   "source": [
    "#Instantiate Model \n",
    "lr=LinearRegression()"
   ]
  },
  {
   "cell_type": "code",
   "execution_count": 18,
   "id": "8547e890-7d5f-470a-8afe-c441f10b12fd",
   "metadata": {},
   "outputs": [
    {
     "data": {
      "text/html": [
       "<style>#sk-container-id-1 {color: black;background-color: white;}#sk-container-id-1 pre{padding: 0;}#sk-container-id-1 div.sk-toggleable {background-color: white;}#sk-container-id-1 label.sk-toggleable__label {cursor: pointer;display: block;width: 100%;margin-bottom: 0;padding: 0.3em;box-sizing: border-box;text-align: center;}#sk-container-id-1 label.sk-toggleable__label-arrow:before {content: \"▸\";float: left;margin-right: 0.25em;color: #696969;}#sk-container-id-1 label.sk-toggleable__label-arrow:hover:before {color: black;}#sk-container-id-1 div.sk-estimator:hover label.sk-toggleable__label-arrow:before {color: black;}#sk-container-id-1 div.sk-toggleable__content {max-height: 0;max-width: 0;overflow: hidden;text-align: left;background-color: #f0f8ff;}#sk-container-id-1 div.sk-toggleable__content pre {margin: 0.2em;color: black;border-radius: 0.25em;background-color: #f0f8ff;}#sk-container-id-1 input.sk-toggleable__control:checked~div.sk-toggleable__content {max-height: 200px;max-width: 100%;overflow: auto;}#sk-container-id-1 input.sk-toggleable__control:checked~label.sk-toggleable__label-arrow:before {content: \"▾\";}#sk-container-id-1 div.sk-estimator input.sk-toggleable__control:checked~label.sk-toggleable__label {background-color: #d4ebff;}#sk-container-id-1 div.sk-label input.sk-toggleable__control:checked~label.sk-toggleable__label {background-color: #d4ebff;}#sk-container-id-1 input.sk-hidden--visually {border: 0;clip: rect(1px 1px 1px 1px);clip: rect(1px, 1px, 1px, 1px);height: 1px;margin: -1px;overflow: hidden;padding: 0;position: absolute;width: 1px;}#sk-container-id-1 div.sk-estimator {font-family: monospace;background-color: #f0f8ff;border: 1px dotted black;border-radius: 0.25em;box-sizing: border-box;margin-bottom: 0.5em;}#sk-container-id-1 div.sk-estimator:hover {background-color: #d4ebff;}#sk-container-id-1 div.sk-parallel-item::after {content: \"\";width: 100%;border-bottom: 1px solid gray;flex-grow: 1;}#sk-container-id-1 div.sk-label:hover label.sk-toggleable__label {background-color: #d4ebff;}#sk-container-id-1 div.sk-serial::before {content: \"\";position: absolute;border-left: 1px solid gray;box-sizing: border-box;top: 0;bottom: 0;left: 50%;z-index: 0;}#sk-container-id-1 div.sk-serial {display: flex;flex-direction: column;align-items: center;background-color: white;padding-right: 0.2em;padding-left: 0.2em;position: relative;}#sk-container-id-1 div.sk-item {position: relative;z-index: 1;}#sk-container-id-1 div.sk-parallel {display: flex;align-items: stretch;justify-content: center;background-color: white;position: relative;}#sk-container-id-1 div.sk-item::before, #sk-container-id-1 div.sk-parallel-item::before {content: \"\";position: absolute;border-left: 1px solid gray;box-sizing: border-box;top: 0;bottom: 0;left: 50%;z-index: -1;}#sk-container-id-1 div.sk-parallel-item {display: flex;flex-direction: column;z-index: 1;position: relative;background-color: white;}#sk-container-id-1 div.sk-parallel-item:first-child::after {align-self: flex-end;width: 50%;}#sk-container-id-1 div.sk-parallel-item:last-child::after {align-self: flex-start;width: 50%;}#sk-container-id-1 div.sk-parallel-item:only-child::after {width: 0;}#sk-container-id-1 div.sk-dashed-wrapped {border: 1px dashed gray;margin: 0 0.4em 0.5em 0.4em;box-sizing: border-box;padding-bottom: 0.4em;background-color: white;}#sk-container-id-1 div.sk-label label {font-family: monospace;font-weight: bold;display: inline-block;line-height: 1.2em;}#sk-container-id-1 div.sk-label-container {text-align: center;}#sk-container-id-1 div.sk-container {/* jupyter's `normalize.less` sets `[hidden] { display: none; }` but bootstrap.min.css set `[hidden] { display: none !important; }` so we also need the `!important` here to be able to override the default hidden behavior on the sphinx rendered scikit-learn.org. See: https://github.com/scikit-learn/scikit-learn/issues/21755 */display: inline-block !important;position: relative;}#sk-container-id-1 div.sk-text-repr-fallback {display: none;}</style><div id=\"sk-container-id-1\" class=\"sk-top-container\"><div class=\"sk-text-repr-fallback\"><pre>LinearRegression()</pre><b>In a Jupyter environment, please rerun this cell to show the HTML representation or trust the notebook. <br />On GitHub, the HTML representation is unable to render, please try loading this page with nbviewer.org.</b></div><div class=\"sk-container\" hidden><div class=\"sk-item\"><div class=\"sk-estimator sk-toggleable\"><input class=\"sk-toggleable__control sk-hidden--visually\" id=\"sk-estimator-id-1\" type=\"checkbox\" checked><label for=\"sk-estimator-id-1\" class=\"sk-toggleable__label sk-toggleable__label-arrow\">LinearRegression</label><div class=\"sk-toggleable__content\"><pre>LinearRegression()</pre></div></div></div></div></div>"
      ],
      "text/plain": [
       "LinearRegression()"
      ]
     },
     "execution_count": 18,
     "metadata": {},
     "output_type": "execute_result"
    }
   ],
   "source": [
    "#Fit LR OLS Model \n",
    "lr.fit(Z_train, y_train)"
   ]
  },
  {
   "cell_type": "code",
   "execution_count": 20,
   "id": "de755705-24a3-4b13-94b4-d94accc41840",
   "metadata": {},
   "outputs": [
    {
     "data": {
      "text/plain": [
       "0.9249133598713408"
      ]
     },
     "execution_count": 20,
     "metadata": {},
     "output_type": "execute_result"
    }
   ],
   "source": [
    "#OLS train R2\n",
    "lr.score(Z_train, y_train)"
   ]
  },
  {
   "cell_type": "code",
   "execution_count": 150,
   "id": "26f350d9-48e0-454c-a125-2a84cba18f8f",
   "metadata": {},
   "outputs": [
    {
     "data": {
      "text/plain": [
       "array([ 1.55839072e+03,  4.53828288e+03,  1.01048719e+03, -3.37635736e+01,\n",
       "        1.21282562e+04,  5.39992466e+03,  1.32129187e+03,  6.40337591e+03,\n",
       "       -6.47244749e+02, -2.96867815e+03,  4.79486042e+03, -3.03435197e+02,\n",
       "       -1.32314772e+16,  1.74990761e+03, -4.99660649e+15, -1.33659261e+16,\n",
       "        1.25751252e+16,  1.53243201e+03, -8.73996873e+02, -6.99584339e+01,\n",
       "        9.16375346e+15,  1.04389170e+16,  1.29717134e+15, -1.17578024e+16,\n",
       "        1.86620707e+03, -4.17009093e+01,  1.68229919e+03,  2.23828861e+03,\n",
       "       -4.03318662e+03, -3.20013363e+03,  3.96026480e+03,  1.29568449e+03,\n",
       "        3.29002939e+03,  1.71205357e+03,  3.73073335e+03,  2.94134639e+02,\n",
       "        4.57173373e+03, -1.69869921e+03,  1.69521624e+03,  4.27108764e+02,\n",
       "        2.14219001e+02, -1.63964527e+02, -7.51560392e+02,  1.58442824e+02,\n",
       "       -5.76574757e+02, -7.85281377e+02, -7.39506598e+02,  3.14221073e+03,\n",
       "        1.16749421e+02,  3.29502818e+02,  5.76640768e+02, -1.33601149e+03,\n",
       "        1.97815216e+02, -4.75013918e+02,  4.43748629e+02, -1.11046750e+03,\n",
       "       -6.00767724e+02, -3.72271299e+02, -3.08918480e+02,  1.19965471e+16,\n",
       "        2.81075607e+03,  8.44339263e+02, -9.92314795e+01,  4.47063403e+02,\n",
       "        2.70819161e+03, -8.45544809e+01,  8.06153343e+02,  2.06144169e+03,\n",
       "        1.01662504e+02, -1.31183014e+03,  1.17222594e+03,  1.89821036e+03,\n",
       "        7.71832589e+02, -3.45606991e+01, -5.51486049e+01,  1.67271803e+03,\n",
       "       -1.22911943e+03, -3.03612209e+02,  5.30404427e+02, -2.02865915e+02,\n",
       "        7.98650208e+02,  1.00304657e+03,  2.04886749e+03, -7.01970127e+02,\n",
       "        3.75595222e+03,  8.94978897e+03, -1.61926192e+03, -4.97550904e+02,\n",
       "        7.17008845e+02, -6.24942616e+02,  6.76075954e+03,  1.86309608e+02,\n",
       "       -1.65617429e+02,  9.62771526e+02,  2.96335685e+03,  1.56594570e+03,\n",
       "        2.21967045e+03, -4.83990154e+02,  2.50505122e+02, -2.01456326e+02,\n",
       "       -6.52436805e+02, -4.39098092e+02, -1.19965471e+16, -4.96339849e+03,\n",
       "       -6.14235403e+03, -2.23706629e+02, -3.74834125e+01,  5.48035999e+02,\n",
       "       -8.97780425e+02, -9.88984153e+02,  1.71652868e+03, -2.06427743e+03,\n",
       "       -5.35542268e+01,  2.86846684e+03, -1.03022750e+03,  3.79536994e+03,\n",
       "        1.19660051e+03,  3.63961788e+02, -3.53269929e+02, -1.24946663e+03,\n",
       "       -9.62841777e+01,  7.54449883e+02, -1.70551693e+03, -1.46958988e+03,\n",
       "       -6.11168593e+02,  6.58497084e+02, -1.51227822e+03, -8.02579492e+02,\n",
       "       -4.48913847e+02, -7.61641220e+01, -2.39933472e+02,  4.41765735e+02,\n",
       "        2.73918106e+03, -9.61237602e+02,  1.08083417e+03, -1.72679747e+02,\n",
       "       -7.26498209e+02, -5.64964423e+02,  4.79734190e+02, -1.70985233e+03,\n",
       "        1.41524428e+02,  1.86824799e+03,  2.09350468e+01,  1.48143934e+03,\n",
       "        1.93998789e+02,  4.35326053e+02,  1.51922691e+03,  1.23304874e+03,\n",
       "        5.13811733e+02, -3.87213399e+02,  5.92479922e+03,  1.78999441e+03])"
      ]
     },
     "execution_count": 150,
     "metadata": {},
     "output_type": "execute_result"
    }
   ],
   "source": [
    "lr_coef=lr.coef_\n",
    "lr_coef[0]"
   ]
  },
  {
   "cell_type": "code",
   "execution_count": 22,
   "id": "fccac3f0-968e-4d14-94f9-169502a023ac",
   "metadata": {},
   "outputs": [
    {
     "data": {
      "text/plain": [
       "array([181431.79480831])"
      ]
     },
     "execution_count": 22,
     "metadata": {},
     "output_type": "execute_result"
    }
   ],
   "source": [
    "lr.intercept_"
   ]
  },
  {
   "cell_type": "code",
   "execution_count": 23,
   "id": "d929927c-0abe-43bc-8133-35890fd45b75",
   "metadata": {},
   "outputs": [
    {
     "data": {
      "text/plain": [
       "450972410.9121607"
      ]
     },
     "execution_count": 23,
     "metadata": {},
     "output_type": "execute_result"
    }
   ],
   "source": [
    "#OLS mean squared error \n",
    "mean_squared_error(y_train, lr.predict(Z_train))"
   ]
  },
  {
   "cell_type": "code",
   "execution_count": 24,
   "id": "f58c4652-60fd-4c16-958d-c0bb21ad1a54",
   "metadata": {},
   "outputs": [
    {
     "data": {
      "text/plain": [
       "21236.111011956986"
      ]
     },
     "execution_count": 24,
     "metadata": {},
     "output_type": "execute_result"
    }
   ],
   "source": [
    "#OLS RMSE\n",
    "mean_squared_error(y_train, lr.predict(Z_train), squared=False)"
   ]
  },
  {
   "cell_type": "code",
   "execution_count": 25,
   "id": "db66be18-5010-48aa-af42-ad7af4642ce7",
   "metadata": {},
   "outputs": [
    {
     "data": {
      "text/plain": [
       "0.8996567042201077"
      ]
     },
     "execution_count": 25,
     "metadata": {},
     "output_type": "execute_result"
    }
   ],
   "source": [
    "#OLS test R2\n",
    "lr.score(Z_test, y_test)"
   ]
  },
  {
   "cell_type": "code",
   "execution_count": 26,
   "id": "e53de565-348b-48c3-abff-d3c6cb5c3877",
   "metadata": {},
   "outputs": [
    {
     "data": {
      "text/plain": [
       "742559926.7166162"
      ]
     },
     "execution_count": 26,
     "metadata": {},
     "output_type": "execute_result"
    }
   ],
   "source": [
    "#OLS test MSE\n",
    "mean_squared_error(y_test, lr.predict(Z_test))"
   ]
  },
  {
   "cell_type": "code",
   "execution_count": 27,
   "id": "3bf1bb83-d8b5-4193-a6e6-b0a365c6553a",
   "metadata": {},
   "outputs": [
    {
     "data": {
      "text/plain": [
       "27249.952783750217"
      ]
     },
     "execution_count": 27,
     "metadata": {},
     "output_type": "execute_result"
    }
   ],
   "source": [
    "#OLS test RMSE\n",
    "mean_squared_error(y_test, lr.predict(Z_test), squared=False)"
   ]
  },
  {
   "cell_type": "markdown",
   "id": "c76707b3-a7c7-432a-886b-8787599d6f1a",
   "metadata": {},
   "source": [
    "### Regular Linear Regression with threshold features:"
   ]
  },
  {
   "cell_type": "code",
   "execution_count": 54,
   "id": "ff26ca8c-2445-499b-b23c-107a5e63aab8",
   "metadata": {},
   "outputs": [],
   "source": [
    "corr_z_train=Z_train[['overall_qual', 'gr_liv_area', 'exter_qual', 'kitchen_qual', 'total_bsmt_sf', \n",
    "                     'garage_cars', '1st_flr_sf', 'year_remod/add', 'garage_finish', 'full_bath', \n",
    "                     'tot_rms_abv_grd', 'garage_yr_blt', 'fireplaces', 'neighborhood_NridgHt', 'heating_qc', \n",
    "                     'bsmt_fin_sf_1', 'has_open_porch', 'bsmt_exposure', 'sale_type_New', \n",
    "                     'bsmt_fin_type_1', 'lot_frontage', 'lot_area', 'has_wood_deck', \n",
    "                     'mas_vnr_type_Stone', 'garage_type_Detchd', 'foundation_CBlock']]\n",
    "corr_z_test=Z_test[['overall_qual', 'gr_liv_area', 'exter_qual', 'kitchen_qual', 'total_bsmt_sf', \n",
    "                     'garage_cars', '1st_flr_sf', 'year_remod/add', 'garage_finish', 'full_bath', \n",
    "                     'tot_rms_abv_grd', 'garage_yr_blt', 'fireplaces', 'neighborhood_NridgHt', 'heating_qc', \n",
    "                     'bsmt_fin_sf_1', 'has_open_porch', 'bsmt_exposure', 'sale_type_New', \n",
    "                     'bsmt_fin_type_1', 'lot_frontage', 'lot_area', 'has_wood_deck', \n",
    "                     'mas_vnr_type_Stone', 'garage_type_Detchd', 'foundation_CBlock']]"
   ]
  },
  {
   "cell_type": "code",
   "execution_count": 57,
   "id": "b7d27716-3e88-425b-8bed-78e3f774fe97",
   "metadata": {},
   "outputs": [],
   "source": [
    "#Instantiate Linear Regression \n",
    "lrthres=LinearRegression()"
   ]
  },
  {
   "cell_type": "code",
   "execution_count": 58,
   "id": "1bf15703-7f44-48da-80a9-274de2e42a2b",
   "metadata": {},
   "outputs": [
    {
     "data": {
      "text/html": [
       "<style>#sk-container-id-5 {color: black;background-color: white;}#sk-container-id-5 pre{padding: 0;}#sk-container-id-5 div.sk-toggleable {background-color: white;}#sk-container-id-5 label.sk-toggleable__label {cursor: pointer;display: block;width: 100%;margin-bottom: 0;padding: 0.3em;box-sizing: border-box;text-align: center;}#sk-container-id-5 label.sk-toggleable__label-arrow:before {content: \"▸\";float: left;margin-right: 0.25em;color: #696969;}#sk-container-id-5 label.sk-toggleable__label-arrow:hover:before {color: black;}#sk-container-id-5 div.sk-estimator:hover label.sk-toggleable__label-arrow:before {color: black;}#sk-container-id-5 div.sk-toggleable__content {max-height: 0;max-width: 0;overflow: hidden;text-align: left;background-color: #f0f8ff;}#sk-container-id-5 div.sk-toggleable__content pre {margin: 0.2em;color: black;border-radius: 0.25em;background-color: #f0f8ff;}#sk-container-id-5 input.sk-toggleable__control:checked~div.sk-toggleable__content {max-height: 200px;max-width: 100%;overflow: auto;}#sk-container-id-5 input.sk-toggleable__control:checked~label.sk-toggleable__label-arrow:before {content: \"▾\";}#sk-container-id-5 div.sk-estimator input.sk-toggleable__control:checked~label.sk-toggleable__label {background-color: #d4ebff;}#sk-container-id-5 div.sk-label input.sk-toggleable__control:checked~label.sk-toggleable__label {background-color: #d4ebff;}#sk-container-id-5 input.sk-hidden--visually {border: 0;clip: rect(1px 1px 1px 1px);clip: rect(1px, 1px, 1px, 1px);height: 1px;margin: -1px;overflow: hidden;padding: 0;position: absolute;width: 1px;}#sk-container-id-5 div.sk-estimator {font-family: monospace;background-color: #f0f8ff;border: 1px dotted black;border-radius: 0.25em;box-sizing: border-box;margin-bottom: 0.5em;}#sk-container-id-5 div.sk-estimator:hover {background-color: #d4ebff;}#sk-container-id-5 div.sk-parallel-item::after {content: \"\";width: 100%;border-bottom: 1px solid gray;flex-grow: 1;}#sk-container-id-5 div.sk-label:hover label.sk-toggleable__label {background-color: #d4ebff;}#sk-container-id-5 div.sk-serial::before {content: \"\";position: absolute;border-left: 1px solid gray;box-sizing: border-box;top: 0;bottom: 0;left: 50%;z-index: 0;}#sk-container-id-5 div.sk-serial {display: flex;flex-direction: column;align-items: center;background-color: white;padding-right: 0.2em;padding-left: 0.2em;position: relative;}#sk-container-id-5 div.sk-item {position: relative;z-index: 1;}#sk-container-id-5 div.sk-parallel {display: flex;align-items: stretch;justify-content: center;background-color: white;position: relative;}#sk-container-id-5 div.sk-item::before, #sk-container-id-5 div.sk-parallel-item::before {content: \"\";position: absolute;border-left: 1px solid gray;box-sizing: border-box;top: 0;bottom: 0;left: 50%;z-index: -1;}#sk-container-id-5 div.sk-parallel-item {display: flex;flex-direction: column;z-index: 1;position: relative;background-color: white;}#sk-container-id-5 div.sk-parallel-item:first-child::after {align-self: flex-end;width: 50%;}#sk-container-id-5 div.sk-parallel-item:last-child::after {align-self: flex-start;width: 50%;}#sk-container-id-5 div.sk-parallel-item:only-child::after {width: 0;}#sk-container-id-5 div.sk-dashed-wrapped {border: 1px dashed gray;margin: 0 0.4em 0.5em 0.4em;box-sizing: border-box;padding-bottom: 0.4em;background-color: white;}#sk-container-id-5 div.sk-label label {font-family: monospace;font-weight: bold;display: inline-block;line-height: 1.2em;}#sk-container-id-5 div.sk-label-container {text-align: center;}#sk-container-id-5 div.sk-container {/* jupyter's `normalize.less` sets `[hidden] { display: none; }` but bootstrap.min.css set `[hidden] { display: none !important; }` so we also need the `!important` here to be able to override the default hidden behavior on the sphinx rendered scikit-learn.org. See: https://github.com/scikit-learn/scikit-learn/issues/21755 */display: inline-block !important;position: relative;}#sk-container-id-5 div.sk-text-repr-fallback {display: none;}</style><div id=\"sk-container-id-5\" class=\"sk-top-container\"><div class=\"sk-text-repr-fallback\"><pre>LinearRegression()</pre><b>In a Jupyter environment, please rerun this cell to show the HTML representation or trust the notebook. <br />On GitHub, the HTML representation is unable to render, please try loading this page with nbviewer.org.</b></div><div class=\"sk-container\" hidden><div class=\"sk-item\"><div class=\"sk-estimator sk-toggleable\"><input class=\"sk-toggleable__control sk-hidden--visually\" id=\"sk-estimator-id-7\" type=\"checkbox\" checked><label for=\"sk-estimator-id-7\" class=\"sk-toggleable__label sk-toggleable__label-arrow\">LinearRegression</label><div class=\"sk-toggleable__content\"><pre>LinearRegression()</pre></div></div></div></div></div>"
      ],
      "text/plain": [
       "LinearRegression()"
      ]
     },
     "execution_count": 58,
     "metadata": {},
     "output_type": "execute_result"
    }
   ],
   "source": [
    "#Fit threshold lr \n",
    "lrthres.fit(corr_z_train, y_train)"
   ]
  },
  {
   "cell_type": "code",
   "execution_count": 68,
   "id": "81696ed7-1ec1-460a-9a31-5c29972c1ae9",
   "metadata": {},
   "outputs": [
    {
     "data": {
      "text/plain": [
       "array([[17571.82590686, 26730.90942763,  7699.63895316,  5934.54172213,\n",
       "         7084.29198408,  3599.83711871,   592.8274984 ,  2737.49230042,\n",
       "         1267.80156395, -2772.15481992,  -847.30097431,  3584.64633317,\n",
       "         2945.18878116,  5774.80927659,  1776.85777452, 11600.11832743,\n",
       "        -1501.85495782,  4082.13678732,  5808.16469257,  -540.26314807,\n",
       "         2384.84043897,  6144.98447325,   147.30960246,  2166.58616509,\n",
       "          981.71519378,  -130.07671358]])"
      ]
     },
     "execution_count": 68,
     "metadata": {},
     "output_type": "execute_result"
    }
   ],
   "source": [
    "lrthres.coef_"
   ]
  },
  {
   "cell_type": "code",
   "execution_count": 62,
   "id": "8e392243-8ef6-4eaa-9ded-eb9fa932274b",
   "metadata": {},
   "outputs": [
    {
     "data": {
      "text/plain": [
       "0.887906152937904"
      ]
     },
     "execution_count": 62,
     "metadata": {},
     "output_type": "execute_result"
    }
   ],
   "source": [
    "#Training score \n",
    "thres_train_r2=lrthres.score(corr_z_train, y_train)\n",
    "thres_train_r2"
   ]
  },
  {
   "cell_type": "code",
   "execution_count": 61,
   "id": "f8cb1746-e3e4-4589-9a86-73bf9b048963",
   "metadata": {},
   "outputs": [
    {
     "data": {
      "text/plain": [
       "0.8699410288938401"
      ]
     },
     "execution_count": 61,
     "metadata": {},
     "output_type": "execute_result"
    }
   ],
   "source": [
    "#Training test \n",
    "thres_test_r2=lrthres.score(corr_z_test, y_test)\n",
    "thres_test_r2"
   ]
  },
  {
   "cell_type": "code",
   "execution_count": 69,
   "id": "a7761d70-46a8-4662-bc34-673cdbbd67da",
   "metadata": {},
   "outputs": [
    {
     "data": {
      "text/plain": [
       "31023.56701123248"
      ]
     },
     "execution_count": 69,
     "metadata": {},
     "output_type": "execute_result"
    }
   ],
   "source": [
    "#RMSE\n",
    "thres_rmse=mean_squared_error(y_test, lrthres.predict(corr_z_test), squared=False)\n",
    "thres_rmse"
   ]
  },
  {
   "cell_type": "markdown",
   "id": "3447245a-1159-469b-b8d2-c70d616e20e8",
   "metadata": {},
   "source": [
    "---\n",
    "## Section 2: Lasso Regularization with Grid Search CV \n",
    "\n",
    "### Lasso with all non multi-collinear features:"
   ]
  },
  {
   "cell_type": "code",
   "execution_count": 28,
   "id": "dc7b5056-bba8-4ed5-854c-b968be085c9a",
   "metadata": {},
   "outputs": [],
   "source": [
    "#Instantiate Lasso \n",
    "lasso = Lasso(max_iter=10000)"
   ]
  },
  {
   "cell_type": "code",
   "execution_count": 29,
   "id": "49b1059f-8e99-4b81-84d4-47314f5f8575",
   "metadata": {},
   "outputs": [],
   "source": [
    "#alpha params\n",
    "lasso_params = {'alpha': np.logspace(2,4,20)}"
   ]
  },
  {
   "cell_type": "code",
   "execution_count": 30,
   "id": "718e4016-76e7-4961-9914-2fb3a56fec53",
   "metadata": {},
   "outputs": [],
   "source": [
    "#Instantiate Grid Search CV\n",
    "lasso_grid=GridSearchCV(lasso, lasso_params, n_jobs=-1, cv=10)"
   ]
  },
  {
   "cell_type": "code",
   "execution_count": 31,
   "id": "74517342-7589-434d-924f-62f774e0b46c",
   "metadata": {},
   "outputs": [
    {
     "data": {
      "text/html": [
       "<style>#sk-container-id-2 {color: black;background-color: white;}#sk-container-id-2 pre{padding: 0;}#sk-container-id-2 div.sk-toggleable {background-color: white;}#sk-container-id-2 label.sk-toggleable__label {cursor: pointer;display: block;width: 100%;margin-bottom: 0;padding: 0.3em;box-sizing: border-box;text-align: center;}#sk-container-id-2 label.sk-toggleable__label-arrow:before {content: \"▸\";float: left;margin-right: 0.25em;color: #696969;}#sk-container-id-2 label.sk-toggleable__label-arrow:hover:before {color: black;}#sk-container-id-2 div.sk-estimator:hover label.sk-toggleable__label-arrow:before {color: black;}#sk-container-id-2 div.sk-toggleable__content {max-height: 0;max-width: 0;overflow: hidden;text-align: left;background-color: #f0f8ff;}#sk-container-id-2 div.sk-toggleable__content pre {margin: 0.2em;color: black;border-radius: 0.25em;background-color: #f0f8ff;}#sk-container-id-2 input.sk-toggleable__control:checked~div.sk-toggleable__content {max-height: 200px;max-width: 100%;overflow: auto;}#sk-container-id-2 input.sk-toggleable__control:checked~label.sk-toggleable__label-arrow:before {content: \"▾\";}#sk-container-id-2 div.sk-estimator input.sk-toggleable__control:checked~label.sk-toggleable__label {background-color: #d4ebff;}#sk-container-id-2 div.sk-label input.sk-toggleable__control:checked~label.sk-toggleable__label {background-color: #d4ebff;}#sk-container-id-2 input.sk-hidden--visually {border: 0;clip: rect(1px 1px 1px 1px);clip: rect(1px, 1px, 1px, 1px);height: 1px;margin: -1px;overflow: hidden;padding: 0;position: absolute;width: 1px;}#sk-container-id-2 div.sk-estimator {font-family: monospace;background-color: #f0f8ff;border: 1px dotted black;border-radius: 0.25em;box-sizing: border-box;margin-bottom: 0.5em;}#sk-container-id-2 div.sk-estimator:hover {background-color: #d4ebff;}#sk-container-id-2 div.sk-parallel-item::after {content: \"\";width: 100%;border-bottom: 1px solid gray;flex-grow: 1;}#sk-container-id-2 div.sk-label:hover label.sk-toggleable__label {background-color: #d4ebff;}#sk-container-id-2 div.sk-serial::before {content: \"\";position: absolute;border-left: 1px solid gray;box-sizing: border-box;top: 0;bottom: 0;left: 50%;z-index: 0;}#sk-container-id-2 div.sk-serial {display: flex;flex-direction: column;align-items: center;background-color: white;padding-right: 0.2em;padding-left: 0.2em;position: relative;}#sk-container-id-2 div.sk-item {position: relative;z-index: 1;}#sk-container-id-2 div.sk-parallel {display: flex;align-items: stretch;justify-content: center;background-color: white;position: relative;}#sk-container-id-2 div.sk-item::before, #sk-container-id-2 div.sk-parallel-item::before {content: \"\";position: absolute;border-left: 1px solid gray;box-sizing: border-box;top: 0;bottom: 0;left: 50%;z-index: -1;}#sk-container-id-2 div.sk-parallel-item {display: flex;flex-direction: column;z-index: 1;position: relative;background-color: white;}#sk-container-id-2 div.sk-parallel-item:first-child::after {align-self: flex-end;width: 50%;}#sk-container-id-2 div.sk-parallel-item:last-child::after {align-self: flex-start;width: 50%;}#sk-container-id-2 div.sk-parallel-item:only-child::after {width: 0;}#sk-container-id-2 div.sk-dashed-wrapped {border: 1px dashed gray;margin: 0 0.4em 0.5em 0.4em;box-sizing: border-box;padding-bottom: 0.4em;background-color: white;}#sk-container-id-2 div.sk-label label {font-family: monospace;font-weight: bold;display: inline-block;line-height: 1.2em;}#sk-container-id-2 div.sk-label-container {text-align: center;}#sk-container-id-2 div.sk-container {/* jupyter's `normalize.less` sets `[hidden] { display: none; }` but bootstrap.min.css set `[hidden] { display: none !important; }` so we also need the `!important` here to be able to override the default hidden behavior on the sphinx rendered scikit-learn.org. See: https://github.com/scikit-learn/scikit-learn/issues/21755 */display: inline-block !important;position: relative;}#sk-container-id-2 div.sk-text-repr-fallback {display: none;}</style><div id=\"sk-container-id-2\" class=\"sk-top-container\"><div class=\"sk-text-repr-fallback\"><pre>GridSearchCV(cv=10, estimator=Lasso(max_iter=10000), n_jobs=-1,\n",
       "             param_grid={&#x27;alpha&#x27;: array([  100.        ,   127.42749857,   162.37767392,   206.91380811,\n",
       "         263.66508987,   335.98182863,   428.13323987,   545.55947812,\n",
       "         695.19279618,   885.86679041,  1128.83789168,  1438.44988829,\n",
       "        1832.98071083,  2335.72146909,  2976.35144163,  3792.69019073,\n",
       "        4832.93023857,  6158.48211066,  7847.59970351, 10000.        ])})</pre><b>In a Jupyter environment, please rerun this cell to show the HTML representation or trust the notebook. <br />On GitHub, the HTML representation is unable to render, please try loading this page with nbviewer.org.</b></div><div class=\"sk-container\" hidden><div class=\"sk-item sk-dashed-wrapped\"><div class=\"sk-label-container\"><div class=\"sk-label sk-toggleable\"><input class=\"sk-toggleable__control sk-hidden--visually\" id=\"sk-estimator-id-2\" type=\"checkbox\" ><label for=\"sk-estimator-id-2\" class=\"sk-toggleable__label sk-toggleable__label-arrow\">GridSearchCV</label><div class=\"sk-toggleable__content\"><pre>GridSearchCV(cv=10, estimator=Lasso(max_iter=10000), n_jobs=-1,\n",
       "             param_grid={&#x27;alpha&#x27;: array([  100.        ,   127.42749857,   162.37767392,   206.91380811,\n",
       "         263.66508987,   335.98182863,   428.13323987,   545.55947812,\n",
       "         695.19279618,   885.86679041,  1128.83789168,  1438.44988829,\n",
       "        1832.98071083,  2335.72146909,  2976.35144163,  3792.69019073,\n",
       "        4832.93023857,  6158.48211066,  7847.59970351, 10000.        ])})</pre></div></div></div><div class=\"sk-parallel\"><div class=\"sk-parallel-item\"><div class=\"sk-item\"><div class=\"sk-label-container\"><div class=\"sk-label sk-toggleable\"><input class=\"sk-toggleable__control sk-hidden--visually\" id=\"sk-estimator-id-3\" type=\"checkbox\" ><label for=\"sk-estimator-id-3\" class=\"sk-toggleable__label sk-toggleable__label-arrow\">estimator: Lasso</label><div class=\"sk-toggleable__content\"><pre>Lasso(max_iter=10000)</pre></div></div></div><div class=\"sk-serial\"><div class=\"sk-item\"><div class=\"sk-estimator sk-toggleable\"><input class=\"sk-toggleable__control sk-hidden--visually\" id=\"sk-estimator-id-4\" type=\"checkbox\" ><label for=\"sk-estimator-id-4\" class=\"sk-toggleable__label sk-toggleable__label-arrow\">Lasso</label><div class=\"sk-toggleable__content\"><pre>Lasso(max_iter=10000)</pre></div></div></div></div></div></div></div></div></div></div>"
      ],
      "text/plain": [
       "GridSearchCV(cv=10, estimator=Lasso(max_iter=10000), n_jobs=-1,\n",
       "             param_grid={'alpha': array([  100.        ,   127.42749857,   162.37767392,   206.91380811,\n",
       "         263.66508987,   335.98182863,   428.13323987,   545.55947812,\n",
       "         695.19279618,   885.86679041,  1128.83789168,  1438.44988829,\n",
       "        1832.98071083,  2335.72146909,  2976.35144163,  3792.69019073,\n",
       "        4832.93023857,  6158.48211066,  7847.59970351, 10000.        ])})"
      ]
     },
     "execution_count": 31,
     "metadata": {},
     "output_type": "execute_result"
    }
   ],
   "source": [
    "lasso_grid.fit(Z_train, y_train)"
   ]
  },
  {
   "cell_type": "code",
   "execution_count": 32,
   "id": "62eeec95-c824-4b5e-bb0f-0444d89b35ea",
   "metadata": {},
   "outputs": [
    {
     "data": {
      "text/html": [
       "<style>#sk-container-id-3 {color: black;background-color: white;}#sk-container-id-3 pre{padding: 0;}#sk-container-id-3 div.sk-toggleable {background-color: white;}#sk-container-id-3 label.sk-toggleable__label {cursor: pointer;display: block;width: 100%;margin-bottom: 0;padding: 0.3em;box-sizing: border-box;text-align: center;}#sk-container-id-3 label.sk-toggleable__label-arrow:before {content: \"▸\";float: left;margin-right: 0.25em;color: #696969;}#sk-container-id-3 label.sk-toggleable__label-arrow:hover:before {color: black;}#sk-container-id-3 div.sk-estimator:hover label.sk-toggleable__label-arrow:before {color: black;}#sk-container-id-3 div.sk-toggleable__content {max-height: 0;max-width: 0;overflow: hidden;text-align: left;background-color: #f0f8ff;}#sk-container-id-3 div.sk-toggleable__content pre {margin: 0.2em;color: black;border-radius: 0.25em;background-color: #f0f8ff;}#sk-container-id-3 input.sk-toggleable__control:checked~div.sk-toggleable__content {max-height: 200px;max-width: 100%;overflow: auto;}#sk-container-id-3 input.sk-toggleable__control:checked~label.sk-toggleable__label-arrow:before {content: \"▾\";}#sk-container-id-3 div.sk-estimator input.sk-toggleable__control:checked~label.sk-toggleable__label {background-color: #d4ebff;}#sk-container-id-3 div.sk-label input.sk-toggleable__control:checked~label.sk-toggleable__label {background-color: #d4ebff;}#sk-container-id-3 input.sk-hidden--visually {border: 0;clip: rect(1px 1px 1px 1px);clip: rect(1px, 1px, 1px, 1px);height: 1px;margin: -1px;overflow: hidden;padding: 0;position: absolute;width: 1px;}#sk-container-id-3 div.sk-estimator {font-family: monospace;background-color: #f0f8ff;border: 1px dotted black;border-radius: 0.25em;box-sizing: border-box;margin-bottom: 0.5em;}#sk-container-id-3 div.sk-estimator:hover {background-color: #d4ebff;}#sk-container-id-3 div.sk-parallel-item::after {content: \"\";width: 100%;border-bottom: 1px solid gray;flex-grow: 1;}#sk-container-id-3 div.sk-label:hover label.sk-toggleable__label {background-color: #d4ebff;}#sk-container-id-3 div.sk-serial::before {content: \"\";position: absolute;border-left: 1px solid gray;box-sizing: border-box;top: 0;bottom: 0;left: 50%;z-index: 0;}#sk-container-id-3 div.sk-serial {display: flex;flex-direction: column;align-items: center;background-color: white;padding-right: 0.2em;padding-left: 0.2em;position: relative;}#sk-container-id-3 div.sk-item {position: relative;z-index: 1;}#sk-container-id-3 div.sk-parallel {display: flex;align-items: stretch;justify-content: center;background-color: white;position: relative;}#sk-container-id-3 div.sk-item::before, #sk-container-id-3 div.sk-parallel-item::before {content: \"\";position: absolute;border-left: 1px solid gray;box-sizing: border-box;top: 0;bottom: 0;left: 50%;z-index: -1;}#sk-container-id-3 div.sk-parallel-item {display: flex;flex-direction: column;z-index: 1;position: relative;background-color: white;}#sk-container-id-3 div.sk-parallel-item:first-child::after {align-self: flex-end;width: 50%;}#sk-container-id-3 div.sk-parallel-item:last-child::after {align-self: flex-start;width: 50%;}#sk-container-id-3 div.sk-parallel-item:only-child::after {width: 0;}#sk-container-id-3 div.sk-dashed-wrapped {border: 1px dashed gray;margin: 0 0.4em 0.5em 0.4em;box-sizing: border-box;padding-bottom: 0.4em;background-color: white;}#sk-container-id-3 div.sk-label label {font-family: monospace;font-weight: bold;display: inline-block;line-height: 1.2em;}#sk-container-id-3 div.sk-label-container {text-align: center;}#sk-container-id-3 div.sk-container {/* jupyter's `normalize.less` sets `[hidden] { display: none; }` but bootstrap.min.css set `[hidden] { display: none !important; }` so we also need the `!important` here to be able to override the default hidden behavior on the sphinx rendered scikit-learn.org. See: https://github.com/scikit-learn/scikit-learn/issues/21755 */display: inline-block !important;position: relative;}#sk-container-id-3 div.sk-text-repr-fallback {display: none;}</style><div id=\"sk-container-id-3\" class=\"sk-top-container\"><div class=\"sk-text-repr-fallback\"><pre>Lasso(alpha=428.13323987193957, max_iter=10000)</pre><b>In a Jupyter environment, please rerun this cell to show the HTML representation or trust the notebook. <br />On GitHub, the HTML representation is unable to render, please try loading this page with nbviewer.org.</b></div><div class=\"sk-container\" hidden><div class=\"sk-item\"><div class=\"sk-estimator sk-toggleable\"><input class=\"sk-toggleable__control sk-hidden--visually\" id=\"sk-estimator-id-5\" type=\"checkbox\" checked><label for=\"sk-estimator-id-5\" class=\"sk-toggleable__label sk-toggleable__label-arrow\">Lasso</label><div class=\"sk-toggleable__content\"><pre>Lasso(alpha=428.13323987193957, max_iter=10000)</pre></div></div></div></div></div>"
      ],
      "text/plain": [
       "Lasso(alpha=428.13323987193957, max_iter=10000)"
      ]
     },
     "execution_count": 32,
     "metadata": {},
     "output_type": "execute_result"
    }
   ],
   "source": [
    "lasso_grid.best_estimator_"
   ]
  },
  {
   "cell_type": "code",
   "execution_count": 33,
   "id": "900a9239-7b3b-4ce3-a065-7fc035351ce5",
   "metadata": {},
   "outputs": [
    {
     "data": {
      "text/plain": [
       "{'alpha': 428.13323987193957}"
      ]
     },
     "execution_count": 33,
     "metadata": {},
     "output_type": "execute_result"
    }
   ],
   "source": [
    "lasso_grid.best_params_"
   ]
  },
  {
   "cell_type": "code",
   "execution_count": 34,
   "id": "dd41a522-5b63-4f99-b400-ad1f10eb9942",
   "metadata": {},
   "outputs": [
    {
     "data": {
      "text/plain": [
       "0.9206303009360988"
      ]
     },
     "execution_count": 34,
     "metadata": {},
     "output_type": "execute_result"
    }
   ],
   "source": [
    "lasso_grid.score(Z_train, y_train)"
   ]
  },
  {
   "cell_type": "code",
   "execution_count": 35,
   "id": "5f1f474b-4d5e-4d10-bedf-8a461aa7167c",
   "metadata": {},
   "outputs": [
    {
     "data": {
      "text/html": [
       "<div>\n",
       "<style scoped>\n",
       "    .dataframe tbody tr th:only-of-type {\n",
       "        vertical-align: middle;\n",
       "    }\n",
       "\n",
       "    .dataframe tbody tr th {\n",
       "        vertical-align: top;\n",
       "    }\n",
       "\n",
       "    .dataframe thead th {\n",
       "        text-align: right;\n",
       "    }\n",
       "</style>\n",
       "<table border=\"1\" class=\"dataframe\">\n",
       "  <thead>\n",
       "    <tr style=\"text-align: right;\">\n",
       "      <th></th>\n",
       "      <th>mean_fit_time</th>\n",
       "      <th>std_fit_time</th>\n",
       "      <th>mean_score_time</th>\n",
       "      <th>std_score_time</th>\n",
       "      <th>param_alpha</th>\n",
       "      <th>params</th>\n",
       "      <th>split0_test_score</th>\n",
       "      <th>split1_test_score</th>\n",
       "      <th>split2_test_score</th>\n",
       "      <th>split3_test_score</th>\n",
       "      <th>split4_test_score</th>\n",
       "      <th>split5_test_score</th>\n",
       "      <th>split6_test_score</th>\n",
       "      <th>split7_test_score</th>\n",
       "      <th>split8_test_score</th>\n",
       "      <th>split9_test_score</th>\n",
       "      <th>mean_test_score</th>\n",
       "      <th>std_test_score</th>\n",
       "      <th>rank_test_score</th>\n",
       "    </tr>\n",
       "  </thead>\n",
       "  <tbody>\n",
       "    <tr>\n",
       "      <th>0</th>\n",
       "      <td>0.263945</td>\n",
       "      <td>0.039077</td>\n",
       "      <td>0.010446</td>\n",
       "      <td>0.002928</td>\n",
       "      <td>100.0</td>\n",
       "      <td>{'alpha': 100.0}</td>\n",
       "      <td>0.917598</td>\n",
       "      <td>0.901770</td>\n",
       "      <td>0.903652</td>\n",
       "      <td>0.910591</td>\n",
       "      <td>0.874758</td>\n",
       "      <td>0.922227</td>\n",
       "      <td>0.895886</td>\n",
       "      <td>0.907947</td>\n",
       "      <td>0.881655</td>\n",
       "      <td>0.917418</td>\n",
       "      <td>0.903350</td>\n",
       "      <td>0.014756</td>\n",
       "      <td>9</td>\n",
       "    </tr>\n",
       "    <tr>\n",
       "      <th>1</th>\n",
       "      <td>0.263524</td>\n",
       "      <td>0.083495</td>\n",
       "      <td>0.019443</td>\n",
       "      <td>0.011946</td>\n",
       "      <td>127.427499</td>\n",
       "      <td>{'alpha': 127.42749857031335}</td>\n",
       "      <td>0.917828</td>\n",
       "      <td>0.902916</td>\n",
       "      <td>0.903881</td>\n",
       "      <td>0.911087</td>\n",
       "      <td>0.874413</td>\n",
       "      <td>0.922659</td>\n",
       "      <td>0.896474</td>\n",
       "      <td>0.907794</td>\n",
       "      <td>0.882470</td>\n",
       "      <td>0.917571</td>\n",
       "      <td>0.903709</td>\n",
       "      <td>0.014779</td>\n",
       "      <td>8</td>\n",
       "    </tr>\n",
       "    <tr>\n",
       "      <th>2</th>\n",
       "      <td>0.198881</td>\n",
       "      <td>0.025237</td>\n",
       "      <td>0.013049</td>\n",
       "      <td>0.007315</td>\n",
       "      <td>162.377674</td>\n",
       "      <td>{'alpha': 162.3776739188721}</td>\n",
       "      <td>0.918096</td>\n",
       "      <td>0.904389</td>\n",
       "      <td>0.904150</td>\n",
       "      <td>0.911629</td>\n",
       "      <td>0.873907</td>\n",
       "      <td>0.923003</td>\n",
       "      <td>0.897105</td>\n",
       "      <td>0.907507</td>\n",
       "      <td>0.883433</td>\n",
       "      <td>0.917416</td>\n",
       "      <td>0.904064</td>\n",
       "      <td>0.014787</td>\n",
       "      <td>6</td>\n",
       "    </tr>\n",
       "    <tr>\n",
       "      <th>3</th>\n",
       "      <td>0.149938</td>\n",
       "      <td>0.017315</td>\n",
       "      <td>0.008606</td>\n",
       "      <td>0.002383</td>\n",
       "      <td>206.913808</td>\n",
       "      <td>{'alpha': 206.913808111479}</td>\n",
       "      <td>0.918470</td>\n",
       "      <td>0.906047</td>\n",
       "      <td>0.904358</td>\n",
       "      <td>0.912334</td>\n",
       "      <td>0.873671</td>\n",
       "      <td>0.923035</td>\n",
       "      <td>0.897749</td>\n",
       "      <td>0.906962</td>\n",
       "      <td>0.884463</td>\n",
       "      <td>0.917126</td>\n",
       "      <td>0.904422</td>\n",
       "      <td>0.014715</td>\n",
       "      <td>5</td>\n",
       "    </tr>\n",
       "    <tr>\n",
       "      <th>4</th>\n",
       "      <td>0.097195</td>\n",
       "      <td>0.010848</td>\n",
       "      <td>0.012849</td>\n",
       "      <td>0.004097</td>\n",
       "      <td>263.66509</td>\n",
       "      <td>{'alpha': 263.6650898730358}</td>\n",
       "      <td>0.918858</td>\n",
       "      <td>0.908225</td>\n",
       "      <td>0.904466</td>\n",
       "      <td>0.912979</td>\n",
       "      <td>0.873328</td>\n",
       "      <td>0.922858</td>\n",
       "      <td>0.898269</td>\n",
       "      <td>0.905963</td>\n",
       "      <td>0.885458</td>\n",
       "      <td>0.917017</td>\n",
       "      <td>0.904742</td>\n",
       "      <td>0.014698</td>\n",
       "      <td>3</td>\n",
       "    </tr>\n",
       "    <tr>\n",
       "      <th>5</th>\n",
       "      <td>0.086883</td>\n",
       "      <td>0.011996</td>\n",
       "      <td>0.011365</td>\n",
       "      <td>0.002053</td>\n",
       "      <td>335.981829</td>\n",
       "      <td>{'alpha': 335.9818286283781}</td>\n",
       "      <td>0.919283</td>\n",
       "      <td>0.910608</td>\n",
       "      <td>0.904690</td>\n",
       "      <td>0.913541</td>\n",
       "      <td>0.872937</td>\n",
       "      <td>0.922441</td>\n",
       "      <td>0.898687</td>\n",
       "      <td>0.904601</td>\n",
       "      <td>0.886204</td>\n",
       "      <td>0.916638</td>\n",
       "      <td>0.904963</td>\n",
       "      <td>0.014729</td>\n",
       "      <td>2</td>\n",
       "    </tr>\n",
       "    <tr>\n",
       "      <th>6</th>\n",
       "      <td>0.099963</td>\n",
       "      <td>0.027765</td>\n",
       "      <td>0.023630</td>\n",
       "      <td>0.013222</td>\n",
       "      <td>428.13324</td>\n",
       "      <td>{'alpha': 428.13323987193957}</td>\n",
       "      <td>0.919775</td>\n",
       "      <td>0.912820</td>\n",
       "      <td>0.905034</td>\n",
       "      <td>0.913873</td>\n",
       "      <td>0.872677</td>\n",
       "      <td>0.921556</td>\n",
       "      <td>0.898953</td>\n",
       "      <td>0.903004</td>\n",
       "      <td>0.886376</td>\n",
       "      <td>0.916066</td>\n",
       "      <td>0.905013</td>\n",
       "      <td>0.014788</td>\n",
       "      <td>1</td>\n",
       "    </tr>\n",
       "    <tr>\n",
       "      <th>7</th>\n",
       "      <td>0.059098</td>\n",
       "      <td>0.010731</td>\n",
       "      <td>0.012247</td>\n",
       "      <td>0.002439</td>\n",
       "      <td>545.559478</td>\n",
       "      <td>{'alpha': 545.559478116852}</td>\n",
       "      <td>0.919893</td>\n",
       "      <td>0.914465</td>\n",
       "      <td>0.905157</td>\n",
       "      <td>0.913712</td>\n",
       "      <td>0.872993</td>\n",
       "      <td>0.920145</td>\n",
       "      <td>0.898689</td>\n",
       "      <td>0.900873</td>\n",
       "      <td>0.886023</td>\n",
       "      <td>0.915086</td>\n",
       "      <td>0.904704</td>\n",
       "      <td>0.014693</td>\n",
       "      <td>4</td>\n",
       "    </tr>\n",
       "    <tr>\n",
       "      <th>8</th>\n",
       "      <td>0.047768</td>\n",
       "      <td>0.008971</td>\n",
       "      <td>0.011864</td>\n",
       "      <td>0.005184</td>\n",
       "      <td>695.192796</td>\n",
       "      <td>{'alpha': 695.1927961775606}</td>\n",
       "      <td>0.919333</td>\n",
       "      <td>0.915738</td>\n",
       "      <td>0.905109</td>\n",
       "      <td>0.913145</td>\n",
       "      <td>0.871785</td>\n",
       "      <td>0.918512</td>\n",
       "      <td>0.898051</td>\n",
       "      <td>0.897783</td>\n",
       "      <td>0.885471</td>\n",
       "      <td>0.913877</td>\n",
       "      <td>0.903880</td>\n",
       "      <td>0.014903</td>\n",
       "      <td>7</td>\n",
       "    </tr>\n",
       "    <tr>\n",
       "      <th>9</th>\n",
       "      <td>0.050310</td>\n",
       "      <td>0.007287</td>\n",
       "      <td>0.009335</td>\n",
       "      <td>0.002595</td>\n",
       "      <td>885.86679</td>\n",
       "      <td>{'alpha': 885.8667904100823}</td>\n",
       "      <td>0.918500</td>\n",
       "      <td>0.916516</td>\n",
       "      <td>0.904611</td>\n",
       "      <td>0.911522</td>\n",
       "      <td>0.870354</td>\n",
       "      <td>0.916209</td>\n",
       "      <td>0.896831</td>\n",
       "      <td>0.893125</td>\n",
       "      <td>0.883440</td>\n",
       "      <td>0.912032</td>\n",
       "      <td>0.902314</td>\n",
       "      <td>0.015276</td>\n",
       "      <td>10</td>\n",
       "    </tr>\n",
       "    <tr>\n",
       "      <th>10</th>\n",
       "      <td>0.056339</td>\n",
       "      <td>0.013355</td>\n",
       "      <td>0.015713</td>\n",
       "      <td>0.007031</td>\n",
       "      <td>1128.837892</td>\n",
       "      <td>{'alpha': 1128.8378916846884}</td>\n",
       "      <td>0.916543</td>\n",
       "      <td>0.915948</td>\n",
       "      <td>0.903142</td>\n",
       "      <td>0.908359</td>\n",
       "      <td>0.868011</td>\n",
       "      <td>0.912911</td>\n",
       "      <td>0.894912</td>\n",
       "      <td>0.887993</td>\n",
       "      <td>0.880192</td>\n",
       "      <td>0.909351</td>\n",
       "      <td>0.899736</td>\n",
       "      <td>0.015643</td>\n",
       "      <td>11</td>\n",
       "    </tr>\n",
       "    <tr>\n",
       "      <th>11</th>\n",
       "      <td>0.058723</td>\n",
       "      <td>0.009100</td>\n",
       "      <td>0.018931</td>\n",
       "      <td>0.010111</td>\n",
       "      <td>1438.449888</td>\n",
       "      <td>{'alpha': 1438.449888287663}</td>\n",
       "      <td>0.914148</td>\n",
       "      <td>0.914007</td>\n",
       "      <td>0.900602</td>\n",
       "      <td>0.904137</td>\n",
       "      <td>0.865102</td>\n",
       "      <td>0.909183</td>\n",
       "      <td>0.891750</td>\n",
       "      <td>0.882776</td>\n",
       "      <td>0.876233</td>\n",
       "      <td>0.904988</td>\n",
       "      <td>0.896293</td>\n",
       "      <td>0.015916</td>\n",
       "      <td>12</td>\n",
       "    </tr>\n",
       "    <tr>\n",
       "      <th>12</th>\n",
       "      <td>0.035317</td>\n",
       "      <td>0.004957</td>\n",
       "      <td>0.009994</td>\n",
       "      <td>0.002245</td>\n",
       "      <td>1832.980711</td>\n",
       "      <td>{'alpha': 1832.9807108324355}</td>\n",
       "      <td>0.911783</td>\n",
       "      <td>0.911231</td>\n",
       "      <td>0.899347</td>\n",
       "      <td>0.899132</td>\n",
       "      <td>0.862780</td>\n",
       "      <td>0.904400</td>\n",
       "      <td>0.887545</td>\n",
       "      <td>0.876632</td>\n",
       "      <td>0.873090</td>\n",
       "      <td>0.899425</td>\n",
       "      <td>0.892536</td>\n",
       "      <td>0.015936</td>\n",
       "      <td>13</td>\n",
       "    </tr>\n",
       "    <tr>\n",
       "      <th>13</th>\n",
       "      <td>0.033003</td>\n",
       "      <td>0.005705</td>\n",
       "      <td>0.010298</td>\n",
       "      <td>0.002202</td>\n",
       "      <td>2335.721469</td>\n",
       "      <td>{'alpha': 2335.7214690901214}</td>\n",
       "      <td>0.908758</td>\n",
       "      <td>0.906671</td>\n",
       "      <td>0.897415</td>\n",
       "      <td>0.891174</td>\n",
       "      <td>0.858867</td>\n",
       "      <td>0.898094</td>\n",
       "      <td>0.881759</td>\n",
       "      <td>0.868738</td>\n",
       "      <td>0.868766</td>\n",
       "      <td>0.891882</td>\n",
       "      <td>0.887212</td>\n",
       "      <td>0.016179</td>\n",
       "      <td>14</td>\n",
       "    </tr>\n",
       "    <tr>\n",
       "      <th>14</th>\n",
       "      <td>0.032559</td>\n",
       "      <td>0.007905</td>\n",
       "      <td>0.010437</td>\n",
       "      <td>0.002955</td>\n",
       "      <td>2976.351442</td>\n",
       "      <td>{'alpha': 2976.351441631319}</td>\n",
       "      <td>0.904137</td>\n",
       "      <td>0.900055</td>\n",
       "      <td>0.893956</td>\n",
       "      <td>0.881989</td>\n",
       "      <td>0.854364</td>\n",
       "      <td>0.890619</td>\n",
       "      <td>0.875602</td>\n",
       "      <td>0.859181</td>\n",
       "      <td>0.863324</td>\n",
       "      <td>0.881511</td>\n",
       "      <td>0.880474</td>\n",
       "      <td>0.016384</td>\n",
       "      <td>15</td>\n",
       "    </tr>\n",
       "    <tr>\n",
       "      <th>15</th>\n",
       "      <td>0.031912</td>\n",
       "      <td>0.010580</td>\n",
       "      <td>0.011570</td>\n",
       "      <td>0.004390</td>\n",
       "      <td>3792.690191</td>\n",
       "      <td>{'alpha': 3792.69019073225}</td>\n",
       "      <td>0.900234</td>\n",
       "      <td>0.894267</td>\n",
       "      <td>0.889585</td>\n",
       "      <td>0.875462</td>\n",
       "      <td>0.849765</td>\n",
       "      <td>0.882704</td>\n",
       "      <td>0.870501</td>\n",
       "      <td>0.850012</td>\n",
       "      <td>0.859504</td>\n",
       "      <td>0.869748</td>\n",
       "      <td>0.874178</td>\n",
       "      <td>0.016801</td>\n",
       "      <td>16</td>\n",
       "    </tr>\n",
       "    <tr>\n",
       "      <th>16</th>\n",
       "      <td>0.026284</td>\n",
       "      <td>0.002566</td>\n",
       "      <td>0.012898</td>\n",
       "      <td>0.003176</td>\n",
       "      <td>4832.930239</td>\n",
       "      <td>{'alpha': 4832.930238571752}</td>\n",
       "      <td>0.896200</td>\n",
       "      <td>0.887555</td>\n",
       "      <td>0.883861</td>\n",
       "      <td>0.868251</td>\n",
       "      <td>0.844737</td>\n",
       "      <td>0.872624</td>\n",
       "      <td>0.863752</td>\n",
       "      <td>0.837463</td>\n",
       "      <td>0.854392</td>\n",
       "      <td>0.856631</td>\n",
       "      <td>0.866547</td>\n",
       "      <td>0.017988</td>\n",
       "      <td>17</td>\n",
       "    </tr>\n",
       "    <tr>\n",
       "      <th>17</th>\n",
       "      <td>0.037918</td>\n",
       "      <td>0.011532</td>\n",
       "      <td>0.011297</td>\n",
       "      <td>0.004112</td>\n",
       "      <td>6158.482111</td>\n",
       "      <td>{'alpha': 6158.48211066026}</td>\n",
       "      <td>0.888972</td>\n",
       "      <td>0.878536</td>\n",
       "      <td>0.876263</td>\n",
       "      <td>0.858464</td>\n",
       "      <td>0.838747</td>\n",
       "      <td>0.858595</td>\n",
       "      <td>0.853472</td>\n",
       "      <td>0.823476</td>\n",
       "      <td>0.847658</td>\n",
       "      <td>0.840410</td>\n",
       "      <td>0.856459</td>\n",
       "      <td>0.019211</td>\n",
       "      <td>18</td>\n",
       "    </tr>\n",
       "    <tr>\n",
       "      <th>18</th>\n",
       "      <td>0.040264</td>\n",
       "      <td>0.012671</td>\n",
       "      <td>0.011948</td>\n",
       "      <td>0.002939</td>\n",
       "      <td>7847.599704</td>\n",
       "      <td>{'alpha': 7847.5997035146065}</td>\n",
       "      <td>0.876241</td>\n",
       "      <td>0.866225</td>\n",
       "      <td>0.865389</td>\n",
       "      <td>0.845939</td>\n",
       "      <td>0.830925</td>\n",
       "      <td>0.839534</td>\n",
       "      <td>0.837806</td>\n",
       "      <td>0.806465</td>\n",
       "      <td>0.839575</td>\n",
       "      <td>0.823372</td>\n",
       "      <td>0.843147</td>\n",
       "      <td>0.020176</td>\n",
       "      <td>19</td>\n",
       "    </tr>\n",
       "    <tr>\n",
       "      <th>19</th>\n",
       "      <td>0.024899</td>\n",
       "      <td>0.003508</td>\n",
       "      <td>0.009221</td>\n",
       "      <td>0.003143</td>\n",
       "      <td>10000.0</td>\n",
       "      <td>{'alpha': 10000.0}</td>\n",
       "      <td>0.853754</td>\n",
       "      <td>0.849726</td>\n",
       "      <td>0.845853</td>\n",
       "      <td>0.828043</td>\n",
       "      <td>0.817757</td>\n",
       "      <td>0.819512</td>\n",
       "      <td>0.815737</td>\n",
       "      <td>0.785742</td>\n",
       "      <td>0.827287</td>\n",
       "      <td>0.802985</td>\n",
       "      <td>0.824640</td>\n",
       "      <td>0.020200</td>\n",
       "      <td>20</td>\n",
       "    </tr>\n",
       "  </tbody>\n",
       "</table>\n",
       "</div>"
      ],
      "text/plain": [
       "    mean_fit_time  std_fit_time  mean_score_time  std_score_time  param_alpha  \\\n",
       "0        0.263945      0.039077         0.010446        0.002928        100.0   \n",
       "1        0.263524      0.083495         0.019443        0.011946   127.427499   \n",
       "2        0.198881      0.025237         0.013049        0.007315   162.377674   \n",
       "3        0.149938      0.017315         0.008606        0.002383   206.913808   \n",
       "4        0.097195      0.010848         0.012849        0.004097    263.66509   \n",
       "5        0.086883      0.011996         0.011365        0.002053   335.981829   \n",
       "6        0.099963      0.027765         0.023630        0.013222    428.13324   \n",
       "7        0.059098      0.010731         0.012247        0.002439   545.559478   \n",
       "8        0.047768      0.008971         0.011864        0.005184   695.192796   \n",
       "9        0.050310      0.007287         0.009335        0.002595    885.86679   \n",
       "10       0.056339      0.013355         0.015713        0.007031  1128.837892   \n",
       "11       0.058723      0.009100         0.018931        0.010111  1438.449888   \n",
       "12       0.035317      0.004957         0.009994        0.002245  1832.980711   \n",
       "13       0.033003      0.005705         0.010298        0.002202  2335.721469   \n",
       "14       0.032559      0.007905         0.010437        0.002955  2976.351442   \n",
       "15       0.031912      0.010580         0.011570        0.004390  3792.690191   \n",
       "16       0.026284      0.002566         0.012898        0.003176  4832.930239   \n",
       "17       0.037918      0.011532         0.011297        0.004112  6158.482111   \n",
       "18       0.040264      0.012671         0.011948        0.002939  7847.599704   \n",
       "19       0.024899      0.003508         0.009221        0.003143      10000.0   \n",
       "\n",
       "                           params  split0_test_score  split1_test_score  \\\n",
       "0                {'alpha': 100.0}           0.917598           0.901770   \n",
       "1   {'alpha': 127.42749857031335}           0.917828           0.902916   \n",
       "2    {'alpha': 162.3776739188721}           0.918096           0.904389   \n",
       "3     {'alpha': 206.913808111479}           0.918470           0.906047   \n",
       "4    {'alpha': 263.6650898730358}           0.918858           0.908225   \n",
       "5    {'alpha': 335.9818286283781}           0.919283           0.910608   \n",
       "6   {'alpha': 428.13323987193957}           0.919775           0.912820   \n",
       "7     {'alpha': 545.559478116852}           0.919893           0.914465   \n",
       "8    {'alpha': 695.1927961775606}           0.919333           0.915738   \n",
       "9    {'alpha': 885.8667904100823}           0.918500           0.916516   \n",
       "10  {'alpha': 1128.8378916846884}           0.916543           0.915948   \n",
       "11   {'alpha': 1438.449888287663}           0.914148           0.914007   \n",
       "12  {'alpha': 1832.9807108324355}           0.911783           0.911231   \n",
       "13  {'alpha': 2335.7214690901214}           0.908758           0.906671   \n",
       "14   {'alpha': 2976.351441631319}           0.904137           0.900055   \n",
       "15    {'alpha': 3792.69019073225}           0.900234           0.894267   \n",
       "16   {'alpha': 4832.930238571752}           0.896200           0.887555   \n",
       "17    {'alpha': 6158.48211066026}           0.888972           0.878536   \n",
       "18  {'alpha': 7847.5997035146065}           0.876241           0.866225   \n",
       "19             {'alpha': 10000.0}           0.853754           0.849726   \n",
       "\n",
       "    split2_test_score  split3_test_score  split4_test_score  \\\n",
       "0            0.903652           0.910591           0.874758   \n",
       "1            0.903881           0.911087           0.874413   \n",
       "2            0.904150           0.911629           0.873907   \n",
       "3            0.904358           0.912334           0.873671   \n",
       "4            0.904466           0.912979           0.873328   \n",
       "5            0.904690           0.913541           0.872937   \n",
       "6            0.905034           0.913873           0.872677   \n",
       "7            0.905157           0.913712           0.872993   \n",
       "8            0.905109           0.913145           0.871785   \n",
       "9            0.904611           0.911522           0.870354   \n",
       "10           0.903142           0.908359           0.868011   \n",
       "11           0.900602           0.904137           0.865102   \n",
       "12           0.899347           0.899132           0.862780   \n",
       "13           0.897415           0.891174           0.858867   \n",
       "14           0.893956           0.881989           0.854364   \n",
       "15           0.889585           0.875462           0.849765   \n",
       "16           0.883861           0.868251           0.844737   \n",
       "17           0.876263           0.858464           0.838747   \n",
       "18           0.865389           0.845939           0.830925   \n",
       "19           0.845853           0.828043           0.817757   \n",
       "\n",
       "    split5_test_score  split6_test_score  split7_test_score  \\\n",
       "0            0.922227           0.895886           0.907947   \n",
       "1            0.922659           0.896474           0.907794   \n",
       "2            0.923003           0.897105           0.907507   \n",
       "3            0.923035           0.897749           0.906962   \n",
       "4            0.922858           0.898269           0.905963   \n",
       "5            0.922441           0.898687           0.904601   \n",
       "6            0.921556           0.898953           0.903004   \n",
       "7            0.920145           0.898689           0.900873   \n",
       "8            0.918512           0.898051           0.897783   \n",
       "9            0.916209           0.896831           0.893125   \n",
       "10           0.912911           0.894912           0.887993   \n",
       "11           0.909183           0.891750           0.882776   \n",
       "12           0.904400           0.887545           0.876632   \n",
       "13           0.898094           0.881759           0.868738   \n",
       "14           0.890619           0.875602           0.859181   \n",
       "15           0.882704           0.870501           0.850012   \n",
       "16           0.872624           0.863752           0.837463   \n",
       "17           0.858595           0.853472           0.823476   \n",
       "18           0.839534           0.837806           0.806465   \n",
       "19           0.819512           0.815737           0.785742   \n",
       "\n",
       "    split8_test_score  split9_test_score  mean_test_score  std_test_score  \\\n",
       "0            0.881655           0.917418         0.903350        0.014756   \n",
       "1            0.882470           0.917571         0.903709        0.014779   \n",
       "2            0.883433           0.917416         0.904064        0.014787   \n",
       "3            0.884463           0.917126         0.904422        0.014715   \n",
       "4            0.885458           0.917017         0.904742        0.014698   \n",
       "5            0.886204           0.916638         0.904963        0.014729   \n",
       "6            0.886376           0.916066         0.905013        0.014788   \n",
       "7            0.886023           0.915086         0.904704        0.014693   \n",
       "8            0.885471           0.913877         0.903880        0.014903   \n",
       "9            0.883440           0.912032         0.902314        0.015276   \n",
       "10           0.880192           0.909351         0.899736        0.015643   \n",
       "11           0.876233           0.904988         0.896293        0.015916   \n",
       "12           0.873090           0.899425         0.892536        0.015936   \n",
       "13           0.868766           0.891882         0.887212        0.016179   \n",
       "14           0.863324           0.881511         0.880474        0.016384   \n",
       "15           0.859504           0.869748         0.874178        0.016801   \n",
       "16           0.854392           0.856631         0.866547        0.017988   \n",
       "17           0.847658           0.840410         0.856459        0.019211   \n",
       "18           0.839575           0.823372         0.843147        0.020176   \n",
       "19           0.827287           0.802985         0.824640        0.020200   \n",
       "\n",
       "    rank_test_score  \n",
       "0                 9  \n",
       "1                 8  \n",
       "2                 6  \n",
       "3                 5  \n",
       "4                 3  \n",
       "5                 2  \n",
       "6                 1  \n",
       "7                 4  \n",
       "8                 7  \n",
       "9                10  \n",
       "10               11  \n",
       "11               12  \n",
       "12               13  \n",
       "13               14  \n",
       "14               15  \n",
       "15               16  \n",
       "16               17  \n",
       "17               18  \n",
       "18               19  \n",
       "19               20  "
      ]
     },
     "execution_count": 35,
     "metadata": {},
     "output_type": "execute_result"
    }
   ],
   "source": [
    "pd.DataFrame(lasso_grid.cv_results_)"
   ]
  },
  {
   "cell_type": "code",
   "execution_count": 36,
   "id": "51b1667e-352f-4cf8-8d67-99315a841081",
   "metadata": {},
   "outputs": [
    {
     "data": {
      "text/plain": [
       "476696579.82949877"
      ]
     },
     "execution_count": 36,
     "metadata": {},
     "output_type": "execute_result"
    }
   ],
   "source": [
    "lasso_train_mse = mean_squared_error(y_train, lasso_grid.predict(Z_train))\n",
    "lasso_train_mse"
   ]
  },
  {
   "cell_type": "code",
   "execution_count": 37,
   "id": "07d9fed9-60cb-4be7-a542-b5a87769ecfa",
   "metadata": {},
   "outputs": [
    {
     "data": {
      "text/plain": [
       "21833.382235226378"
      ]
     },
     "execution_count": 37,
     "metadata": {},
     "output_type": "execute_result"
    }
   ],
   "source": [
    "lasso_train_rmse = mean_squared_error(y_train, lasso_grid.predict(Z_train), squared=False)\n",
    "lasso_train_rmse"
   ]
  },
  {
   "cell_type": "code",
   "execution_count": 38,
   "id": "760bdabf-1f86-4e70-b40a-0c3e431c6f5d",
   "metadata": {},
   "outputs": [
    {
     "data": {
      "text/plain": [
       "0.8965091417108361"
      ]
     },
     "execution_count": 38,
     "metadata": {},
     "output_type": "execute_result"
    }
   ],
   "source": [
    "lasso_grid.score(Z_test, y_test)"
   ]
  },
  {
   "cell_type": "code",
   "execution_count": 39,
   "id": "619d826e-d986-4c1e-8ed2-c1663897833d",
   "metadata": {},
   "outputs": [
    {
     "data": {
      "text/plain": [
       "27674.040220942283"
      ]
     },
     "execution_count": 39,
     "metadata": {},
     "output_type": "execute_result"
    }
   ],
   "source": [
    "lasso_test_rmse=mean_squared_error(y_test, lasso_grid.predict(Z_test), squared=False)\n",
    "lasso_test_rmse"
   ]
  },
  {
   "cell_type": "code",
   "execution_count": 40,
   "id": "5ffa092b-80f8-4cfe-bfec-511ffc994bbf",
   "metadata": {},
   "outputs": [
    {
     "data": {
      "text/plain": [
       "array([ 1394.11110503,  4347.9498809 ,    35.34592904,    -0.        ,\n",
       "       12851.61861362,  4082.97847707,  1759.37274572,  6707.2999063 ,\n",
       "          -0.        , -1931.55367292,  4286.12261727,     0.        ,\n",
       "        9413.46296115,   631.20529772,     0.        ,    -0.        ,\n",
       "        8194.15741963,  1352.17655093,    -0.        ,    -0.        ,\n",
       "         944.79395198,     0.        ,  -757.56275586, 24847.84779522,\n",
       "        1122.09183138,    -0.        ,   134.92917787,  1520.12639283,\n",
       "       -2490.82888781, -2454.76490403,  4215.28657015,   265.23161351,\n",
       "        2738.57772945,  1560.47772672,  3686.18273205,     0.        ,\n",
       "        4203.06306325,    -0.        ,   874.62045602,     0.        ,\n",
       "           0.        ,    -0.        ,  -159.03958191,   118.64650732,\n",
       "          -0.        ,  -289.09147119,  -256.57043116,  2550.83335569,\n",
       "           0.        ,     0.        ,     0.        ,  -797.60743674,\n",
       "           0.        ,    -0.        ,    36.97632019,  -539.02008825,\n",
       "        -294.87958075,    -0.        ,    -0.        ,    -0.        ,\n",
       "        1941.55785854,     0.        ,  -136.06101104,   385.07871742,\n",
       "        2055.6841845 ,     0.        ,     0.        ,  1055.21971449,\n",
       "          -0.        ,  -876.12895308,   389.65174521,   387.02810096,\n",
       "         519.10393855,     0.        ,    -0.        ,  1138.16817536,\n",
       "        -665.31262042,   -70.83295089,    -0.        ,    -0.        ,\n",
       "           0.        ,   113.31822441,   696.52086949,  -163.23928211,\n",
       "        3388.17986349,  8522.82847949, -1106.12959966,    -0.        ,\n",
       "           0.        ,  -547.49767163,  6157.89913682,     0.        ,\n",
       "          -0.        ,     0.        ,  1691.05791672,  1021.43362223,\n",
       "        1457.33414232,  -155.91783028,    -0.        ,    -0.        ,\n",
       "        -314.68608313,    -0.        ,    -0.        , -2307.28291566,\n",
       "       -4407.73418103,     0.        ,    -0.        ,   193.76723476,\n",
       "        -187.37120874,  -237.51516718,  1906.43092581, -1396.37665941,\n",
       "          -0.        ,  2323.11231471,  -880.48294997,  2453.03164509,\n",
       "        1180.2058539 ,    -0.        ,  -291.88617766,  -773.9086261 ,\n",
       "          -0.        ,     0.        ,  -398.19055084,  -751.33116806,\n",
       "          -0.        ,   110.285891  ,  -775.41525505,    -0.        ,\n",
       "          -0.        ,    -0.        ,    -0.        ,     0.        ,\n",
       "        2184.68089189,  -470.93008859,  1054.60481239,    -0.        ,\n",
       "        -256.41641154,  -296.7386844 ,   139.17337311, -1280.7965583 ,\n",
       "          -0.        ,  1580.75985343,    -0.        ,     0.        ,\n",
       "           0.        ,     0.        ,   855.82314832,   253.35877694,\n",
       "           0.        ,  -184.81099467,  4829.84122796,     0.        ])"
      ]
     },
     "execution_count": 40,
     "metadata": {},
     "output_type": "execute_result"
    }
   ],
   "source": [
    "lasso_grid.best_estimator_.coef_"
   ]
  },
  {
   "cell_type": "markdown",
   "id": "ae04e084-79a5-4e05-af9b-32e03cf56200",
   "metadata": {},
   "source": [
    "### Lasso with threshold features: "
   ]
  },
  {
   "cell_type": "code",
   "execution_count": 70,
   "id": "a60a7aa3-3512-4668-ba75-1733d47e99d6",
   "metadata": {},
   "outputs": [],
   "source": [
    "#Instantiate Lasso \n",
    "thres_lasso = Lasso(max_iter=10000)"
   ]
  },
  {
   "cell_type": "code",
   "execution_count": 75,
   "id": "707aa493-294c-48f1-ad9b-05ca8fa0a13a",
   "metadata": {},
   "outputs": [],
   "source": [
    "#alpha params\n",
    "lasso_params = {'alpha': np.logspace(2,3,20)}"
   ]
  },
  {
   "cell_type": "code",
   "execution_count": 76,
   "id": "73ae63ae-da02-4cb9-b308-4e703ebbb915",
   "metadata": {},
   "outputs": [],
   "source": [
    "#Instantiate Grid Search CV\n",
    "thres_lasso_grid=GridSearchCV(thres_lasso, lasso_params, n_jobs=-1, cv=10)"
   ]
  },
  {
   "cell_type": "code",
   "execution_count": 77,
   "id": "4fe87795-57d2-47cb-bd72-dcd961c375d3",
   "metadata": {},
   "outputs": [
    {
     "data": {
      "text/html": [
       "<style>#sk-container-id-8 {color: black;background-color: white;}#sk-container-id-8 pre{padding: 0;}#sk-container-id-8 div.sk-toggleable {background-color: white;}#sk-container-id-8 label.sk-toggleable__label {cursor: pointer;display: block;width: 100%;margin-bottom: 0;padding: 0.3em;box-sizing: border-box;text-align: center;}#sk-container-id-8 label.sk-toggleable__label-arrow:before {content: \"▸\";float: left;margin-right: 0.25em;color: #696969;}#sk-container-id-8 label.sk-toggleable__label-arrow:hover:before {color: black;}#sk-container-id-8 div.sk-estimator:hover label.sk-toggleable__label-arrow:before {color: black;}#sk-container-id-8 div.sk-toggleable__content {max-height: 0;max-width: 0;overflow: hidden;text-align: left;background-color: #f0f8ff;}#sk-container-id-8 div.sk-toggleable__content pre {margin: 0.2em;color: black;border-radius: 0.25em;background-color: #f0f8ff;}#sk-container-id-8 input.sk-toggleable__control:checked~div.sk-toggleable__content {max-height: 200px;max-width: 100%;overflow: auto;}#sk-container-id-8 input.sk-toggleable__control:checked~label.sk-toggleable__label-arrow:before {content: \"▾\";}#sk-container-id-8 div.sk-estimator input.sk-toggleable__control:checked~label.sk-toggleable__label {background-color: #d4ebff;}#sk-container-id-8 div.sk-label input.sk-toggleable__control:checked~label.sk-toggleable__label {background-color: #d4ebff;}#sk-container-id-8 input.sk-hidden--visually {border: 0;clip: rect(1px 1px 1px 1px);clip: rect(1px, 1px, 1px, 1px);height: 1px;margin: -1px;overflow: hidden;padding: 0;position: absolute;width: 1px;}#sk-container-id-8 div.sk-estimator {font-family: monospace;background-color: #f0f8ff;border: 1px dotted black;border-radius: 0.25em;box-sizing: border-box;margin-bottom: 0.5em;}#sk-container-id-8 div.sk-estimator:hover {background-color: #d4ebff;}#sk-container-id-8 div.sk-parallel-item::after {content: \"\";width: 100%;border-bottom: 1px solid gray;flex-grow: 1;}#sk-container-id-8 div.sk-label:hover label.sk-toggleable__label {background-color: #d4ebff;}#sk-container-id-8 div.sk-serial::before {content: \"\";position: absolute;border-left: 1px solid gray;box-sizing: border-box;top: 0;bottom: 0;left: 50%;z-index: 0;}#sk-container-id-8 div.sk-serial {display: flex;flex-direction: column;align-items: center;background-color: white;padding-right: 0.2em;padding-left: 0.2em;position: relative;}#sk-container-id-8 div.sk-item {position: relative;z-index: 1;}#sk-container-id-8 div.sk-parallel {display: flex;align-items: stretch;justify-content: center;background-color: white;position: relative;}#sk-container-id-8 div.sk-item::before, #sk-container-id-8 div.sk-parallel-item::before {content: \"\";position: absolute;border-left: 1px solid gray;box-sizing: border-box;top: 0;bottom: 0;left: 50%;z-index: -1;}#sk-container-id-8 div.sk-parallel-item {display: flex;flex-direction: column;z-index: 1;position: relative;background-color: white;}#sk-container-id-8 div.sk-parallel-item:first-child::after {align-self: flex-end;width: 50%;}#sk-container-id-8 div.sk-parallel-item:last-child::after {align-self: flex-start;width: 50%;}#sk-container-id-8 div.sk-parallel-item:only-child::after {width: 0;}#sk-container-id-8 div.sk-dashed-wrapped {border: 1px dashed gray;margin: 0 0.4em 0.5em 0.4em;box-sizing: border-box;padding-bottom: 0.4em;background-color: white;}#sk-container-id-8 div.sk-label label {font-family: monospace;font-weight: bold;display: inline-block;line-height: 1.2em;}#sk-container-id-8 div.sk-label-container {text-align: center;}#sk-container-id-8 div.sk-container {/* jupyter's `normalize.less` sets `[hidden] { display: none; }` but bootstrap.min.css set `[hidden] { display: none !important; }` so we also need the `!important` here to be able to override the default hidden behavior on the sphinx rendered scikit-learn.org. See: https://github.com/scikit-learn/scikit-learn/issues/21755 */display: inline-block !important;position: relative;}#sk-container-id-8 div.sk-text-repr-fallback {display: none;}</style><div id=\"sk-container-id-8\" class=\"sk-top-container\"><div class=\"sk-text-repr-fallback\"><pre>GridSearchCV(cv=10, estimator=Lasso(max_iter=10000), n_jobs=-1,\n",
       "             param_grid={&#x27;alpha&#x27;: array([ 100.        ,  112.88378917,  127.42749857,  143.84498883,\n",
       "        162.37767392,  183.29807108,  206.91380811,  233.57214691,\n",
       "        263.66508987,  297.63514416,  335.98182863,  379.26901907,\n",
       "        428.13323987,  483.29302386,  545.55947812,  615.84821107,\n",
       "        695.19279618,  784.75997035,  885.86679041, 1000.        ])})</pre><b>In a Jupyter environment, please rerun this cell to show the HTML representation or trust the notebook. <br />On GitHub, the HTML representation is unable to render, please try loading this page with nbviewer.org.</b></div><div class=\"sk-container\" hidden><div class=\"sk-item sk-dashed-wrapped\"><div class=\"sk-label-container\"><div class=\"sk-label sk-toggleable\"><input class=\"sk-toggleable__control sk-hidden--visually\" id=\"sk-estimator-id-12\" type=\"checkbox\" ><label for=\"sk-estimator-id-12\" class=\"sk-toggleable__label sk-toggleable__label-arrow\">GridSearchCV</label><div class=\"sk-toggleable__content\"><pre>GridSearchCV(cv=10, estimator=Lasso(max_iter=10000), n_jobs=-1,\n",
       "             param_grid={&#x27;alpha&#x27;: array([ 100.        ,  112.88378917,  127.42749857,  143.84498883,\n",
       "        162.37767392,  183.29807108,  206.91380811,  233.57214691,\n",
       "        263.66508987,  297.63514416,  335.98182863,  379.26901907,\n",
       "        428.13323987,  483.29302386,  545.55947812,  615.84821107,\n",
       "        695.19279618,  784.75997035,  885.86679041, 1000.        ])})</pre></div></div></div><div class=\"sk-parallel\"><div class=\"sk-parallel-item\"><div class=\"sk-item\"><div class=\"sk-label-container\"><div class=\"sk-label sk-toggleable\"><input class=\"sk-toggleable__control sk-hidden--visually\" id=\"sk-estimator-id-13\" type=\"checkbox\" ><label for=\"sk-estimator-id-13\" class=\"sk-toggleable__label sk-toggleable__label-arrow\">estimator: Lasso</label><div class=\"sk-toggleable__content\"><pre>Lasso(max_iter=10000)</pre></div></div></div><div class=\"sk-serial\"><div class=\"sk-item\"><div class=\"sk-estimator sk-toggleable\"><input class=\"sk-toggleable__control sk-hidden--visually\" id=\"sk-estimator-id-14\" type=\"checkbox\" ><label for=\"sk-estimator-id-14\" class=\"sk-toggleable__label sk-toggleable__label-arrow\">Lasso</label><div class=\"sk-toggleable__content\"><pre>Lasso(max_iter=10000)</pre></div></div></div></div></div></div></div></div></div></div>"
      ],
      "text/plain": [
       "GridSearchCV(cv=10, estimator=Lasso(max_iter=10000), n_jobs=-1,\n",
       "             param_grid={'alpha': array([ 100.        ,  112.88378917,  127.42749857,  143.84498883,\n",
       "        162.37767392,  183.29807108,  206.91380811,  233.57214691,\n",
       "        263.66508987,  297.63514416,  335.98182863,  379.26901907,\n",
       "        428.13323987,  483.29302386,  545.55947812,  615.84821107,\n",
       "        695.19279618,  784.75997035,  885.86679041, 1000.        ])})"
      ]
     },
     "execution_count": 77,
     "metadata": {},
     "output_type": "execute_result"
    }
   ],
   "source": [
    "#Fitting model \n",
    "thres_lasso_grid.fit(corr_z_train, y_train)"
   ]
  },
  {
   "cell_type": "code",
   "execution_count": 78,
   "id": "9bc02dd5-3b56-461b-afd3-bf976ebdce71",
   "metadata": {},
   "outputs": [
    {
     "data": {
      "text/html": [
       "<style>#sk-container-id-9 {color: black;background-color: white;}#sk-container-id-9 pre{padding: 0;}#sk-container-id-9 div.sk-toggleable {background-color: white;}#sk-container-id-9 label.sk-toggleable__label {cursor: pointer;display: block;width: 100%;margin-bottom: 0;padding: 0.3em;box-sizing: border-box;text-align: center;}#sk-container-id-9 label.sk-toggleable__label-arrow:before {content: \"▸\";float: left;margin-right: 0.25em;color: #696969;}#sk-container-id-9 label.sk-toggleable__label-arrow:hover:before {color: black;}#sk-container-id-9 div.sk-estimator:hover label.sk-toggleable__label-arrow:before {color: black;}#sk-container-id-9 div.sk-toggleable__content {max-height: 0;max-width: 0;overflow: hidden;text-align: left;background-color: #f0f8ff;}#sk-container-id-9 div.sk-toggleable__content pre {margin: 0.2em;color: black;border-radius: 0.25em;background-color: #f0f8ff;}#sk-container-id-9 input.sk-toggleable__control:checked~div.sk-toggleable__content {max-height: 200px;max-width: 100%;overflow: auto;}#sk-container-id-9 input.sk-toggleable__control:checked~label.sk-toggleable__label-arrow:before {content: \"▾\";}#sk-container-id-9 div.sk-estimator input.sk-toggleable__control:checked~label.sk-toggleable__label {background-color: #d4ebff;}#sk-container-id-9 div.sk-label input.sk-toggleable__control:checked~label.sk-toggleable__label {background-color: #d4ebff;}#sk-container-id-9 input.sk-hidden--visually {border: 0;clip: rect(1px 1px 1px 1px);clip: rect(1px, 1px, 1px, 1px);height: 1px;margin: -1px;overflow: hidden;padding: 0;position: absolute;width: 1px;}#sk-container-id-9 div.sk-estimator {font-family: monospace;background-color: #f0f8ff;border: 1px dotted black;border-radius: 0.25em;box-sizing: border-box;margin-bottom: 0.5em;}#sk-container-id-9 div.sk-estimator:hover {background-color: #d4ebff;}#sk-container-id-9 div.sk-parallel-item::after {content: \"\";width: 100%;border-bottom: 1px solid gray;flex-grow: 1;}#sk-container-id-9 div.sk-label:hover label.sk-toggleable__label {background-color: #d4ebff;}#sk-container-id-9 div.sk-serial::before {content: \"\";position: absolute;border-left: 1px solid gray;box-sizing: border-box;top: 0;bottom: 0;left: 50%;z-index: 0;}#sk-container-id-9 div.sk-serial {display: flex;flex-direction: column;align-items: center;background-color: white;padding-right: 0.2em;padding-left: 0.2em;position: relative;}#sk-container-id-9 div.sk-item {position: relative;z-index: 1;}#sk-container-id-9 div.sk-parallel {display: flex;align-items: stretch;justify-content: center;background-color: white;position: relative;}#sk-container-id-9 div.sk-item::before, #sk-container-id-9 div.sk-parallel-item::before {content: \"\";position: absolute;border-left: 1px solid gray;box-sizing: border-box;top: 0;bottom: 0;left: 50%;z-index: -1;}#sk-container-id-9 div.sk-parallel-item {display: flex;flex-direction: column;z-index: 1;position: relative;background-color: white;}#sk-container-id-9 div.sk-parallel-item:first-child::after {align-self: flex-end;width: 50%;}#sk-container-id-9 div.sk-parallel-item:last-child::after {align-self: flex-start;width: 50%;}#sk-container-id-9 div.sk-parallel-item:only-child::after {width: 0;}#sk-container-id-9 div.sk-dashed-wrapped {border: 1px dashed gray;margin: 0 0.4em 0.5em 0.4em;box-sizing: border-box;padding-bottom: 0.4em;background-color: white;}#sk-container-id-9 div.sk-label label {font-family: monospace;font-weight: bold;display: inline-block;line-height: 1.2em;}#sk-container-id-9 div.sk-label-container {text-align: center;}#sk-container-id-9 div.sk-container {/* jupyter's `normalize.less` sets `[hidden] { display: none; }` but bootstrap.min.css set `[hidden] { display: none !important; }` so we also need the `!important` here to be able to override the default hidden behavior on the sphinx rendered scikit-learn.org. See: https://github.com/scikit-learn/scikit-learn/issues/21755 */display: inline-block !important;position: relative;}#sk-container-id-9 div.sk-text-repr-fallback {display: none;}</style><div id=\"sk-container-id-9\" class=\"sk-top-container\"><div class=\"sk-text-repr-fallback\"><pre>Lasso(alpha=297.63514416313194, max_iter=10000)</pre><b>In a Jupyter environment, please rerun this cell to show the HTML representation or trust the notebook. <br />On GitHub, the HTML representation is unable to render, please try loading this page with nbviewer.org.</b></div><div class=\"sk-container\" hidden><div class=\"sk-item\"><div class=\"sk-estimator sk-toggleable\"><input class=\"sk-toggleable__control sk-hidden--visually\" id=\"sk-estimator-id-15\" type=\"checkbox\" checked><label for=\"sk-estimator-id-15\" class=\"sk-toggleable__label sk-toggleable__label-arrow\">Lasso</label><div class=\"sk-toggleable__content\"><pre>Lasso(alpha=297.63514416313194, max_iter=10000)</pre></div></div></div></div></div>"
      ],
      "text/plain": [
       "Lasso(alpha=297.63514416313194, max_iter=10000)"
      ]
     },
     "execution_count": 78,
     "metadata": {},
     "output_type": "execute_result"
    }
   ],
   "source": [
    "#Best estimator \n",
    "thres_lasso_grid.best_estimator_"
   ]
  },
  {
   "cell_type": "code",
   "execution_count": 80,
   "id": "c0f72e59-262b-43a9-b45d-e7b0182cacb7",
   "metadata": {},
   "outputs": [
    {
     "data": {
      "text/plain": [
       "array([17573.45075265, 25301.3670442 ,  7827.40151153,  6003.12707635,\n",
       "        7057.35192534,  3880.96493328,   561.79454275,  2391.04626623,\n",
       "         865.09630353, -1792.16979984,    -0.        ,  2898.94668786,\n",
       "        2830.01495328,  5712.88185022,  1677.40064116, 11183.16224493,\n",
       "        -858.61730204,  4040.20628924,  5662.01912397,    -0.        ,\n",
       "        2121.39417753,  6008.23838304,     0.        ,  1963.25722002,\n",
       "         265.74000899,    -0.        ])"
      ]
     },
     "execution_count": 80,
     "metadata": {},
     "output_type": "execute_result"
    }
   ],
   "source": [
    "#coef_\n",
    "thres_lasso_grid.best_estimator_.coef_"
   ]
  },
  {
   "cell_type": "code",
   "execution_count": 82,
   "id": "175ad02d-85a1-4e3e-adf3-b56498ba236f",
   "metadata": {},
   "outputs": [
    {
     "data": {
      "text/plain": [
       "0.8875752627056502"
      ]
     },
     "execution_count": 82,
     "metadata": {},
     "output_type": "execute_result"
    }
   ],
   "source": [
    "#Train score \n",
    "thres_lasso_train_r2=thres_lasso_grid.score(corr_z_train, y_train)\n",
    "thres_lasso_train_r2"
   ]
  },
  {
   "cell_type": "code",
   "execution_count": 83,
   "id": "b502718d-421d-4354-a6d2-188e9ec2630c",
   "metadata": {},
   "outputs": [
    {
     "data": {
      "text/plain": [
       "0.8687110689780599"
      ]
     },
     "execution_count": 83,
     "metadata": {},
     "output_type": "execute_result"
    }
   ],
   "source": [
    "#Test R2\n",
    "thres_lasso_test_r2=thres_lasso_grid.score(corr_z_test, y_test)\n",
    "thres_lasso_test_r2"
   ]
  },
  {
   "cell_type": "code",
   "execution_count": 85,
   "id": "6fccd82e-7d7a-4910-a059-5c76bf5fbd31",
   "metadata": {},
   "outputs": [
    {
     "data": {
      "text/plain": [
       "31169.915831839426"
      ]
     },
     "execution_count": 85,
     "metadata": {},
     "output_type": "execute_result"
    }
   ],
   "source": [
    "#Test RMSE \n",
    "thres_lasso_rmse=mean_squared_error(y_test, thres_lasso_grid.predict(corr_z_test), squared=False)\n",
    "thres_lasso_rmse"
   ]
  },
  {
   "cell_type": "markdown",
   "id": "b8395c80-3005-4ceb-b007-33028ab244cd",
   "metadata": {},
   "source": [
    "---\n",
    "\n",
    "## Section 3: Ridge Regularization with Cross Validation \n",
    "\n",
    "### Ridge with all non multi-collinear features: "
   ]
  },
  {
   "cell_type": "code",
   "execution_count": 90,
   "id": "a28e4bcf-0bdd-4806-9119-ee67dcd7f44b",
   "metadata": {},
   "outputs": [],
   "source": [
    "#Params \n",
    "ridge_param=np.logspace(1, 3, 20)"
   ]
  },
  {
   "cell_type": "code",
   "execution_count": 91,
   "id": "a914de2b-bb0e-45bc-b25c-0ea0994e9d3b",
   "metadata": {},
   "outputs": [],
   "source": [
    "#Instantiate Ridge CV\n",
    "ridge_cv = RidgeCV(alphas=ridge_param, scoring='r2', cv=10)"
   ]
  },
  {
   "cell_type": "code",
   "execution_count": 92,
   "id": "06edc634-8901-402d-b0d6-88691c8e6ac0",
   "metadata": {},
   "outputs": [
    {
     "data": {
      "text/html": [
       "<style>#sk-container-id-11 {color: black;background-color: white;}#sk-container-id-11 pre{padding: 0;}#sk-container-id-11 div.sk-toggleable {background-color: white;}#sk-container-id-11 label.sk-toggleable__label {cursor: pointer;display: block;width: 100%;margin-bottom: 0;padding: 0.3em;box-sizing: border-box;text-align: center;}#sk-container-id-11 label.sk-toggleable__label-arrow:before {content: \"▸\";float: left;margin-right: 0.25em;color: #696969;}#sk-container-id-11 label.sk-toggleable__label-arrow:hover:before {color: black;}#sk-container-id-11 div.sk-estimator:hover label.sk-toggleable__label-arrow:before {color: black;}#sk-container-id-11 div.sk-toggleable__content {max-height: 0;max-width: 0;overflow: hidden;text-align: left;background-color: #f0f8ff;}#sk-container-id-11 div.sk-toggleable__content pre {margin: 0.2em;color: black;border-radius: 0.25em;background-color: #f0f8ff;}#sk-container-id-11 input.sk-toggleable__control:checked~div.sk-toggleable__content {max-height: 200px;max-width: 100%;overflow: auto;}#sk-container-id-11 input.sk-toggleable__control:checked~label.sk-toggleable__label-arrow:before {content: \"▾\";}#sk-container-id-11 div.sk-estimator input.sk-toggleable__control:checked~label.sk-toggleable__label {background-color: #d4ebff;}#sk-container-id-11 div.sk-label input.sk-toggleable__control:checked~label.sk-toggleable__label {background-color: #d4ebff;}#sk-container-id-11 input.sk-hidden--visually {border: 0;clip: rect(1px 1px 1px 1px);clip: rect(1px, 1px, 1px, 1px);height: 1px;margin: -1px;overflow: hidden;padding: 0;position: absolute;width: 1px;}#sk-container-id-11 div.sk-estimator {font-family: monospace;background-color: #f0f8ff;border: 1px dotted black;border-radius: 0.25em;box-sizing: border-box;margin-bottom: 0.5em;}#sk-container-id-11 div.sk-estimator:hover {background-color: #d4ebff;}#sk-container-id-11 div.sk-parallel-item::after {content: \"\";width: 100%;border-bottom: 1px solid gray;flex-grow: 1;}#sk-container-id-11 div.sk-label:hover label.sk-toggleable__label {background-color: #d4ebff;}#sk-container-id-11 div.sk-serial::before {content: \"\";position: absolute;border-left: 1px solid gray;box-sizing: border-box;top: 0;bottom: 0;left: 50%;z-index: 0;}#sk-container-id-11 div.sk-serial {display: flex;flex-direction: column;align-items: center;background-color: white;padding-right: 0.2em;padding-left: 0.2em;position: relative;}#sk-container-id-11 div.sk-item {position: relative;z-index: 1;}#sk-container-id-11 div.sk-parallel {display: flex;align-items: stretch;justify-content: center;background-color: white;position: relative;}#sk-container-id-11 div.sk-item::before, #sk-container-id-11 div.sk-parallel-item::before {content: \"\";position: absolute;border-left: 1px solid gray;box-sizing: border-box;top: 0;bottom: 0;left: 50%;z-index: -1;}#sk-container-id-11 div.sk-parallel-item {display: flex;flex-direction: column;z-index: 1;position: relative;background-color: white;}#sk-container-id-11 div.sk-parallel-item:first-child::after {align-self: flex-end;width: 50%;}#sk-container-id-11 div.sk-parallel-item:last-child::after {align-self: flex-start;width: 50%;}#sk-container-id-11 div.sk-parallel-item:only-child::after {width: 0;}#sk-container-id-11 div.sk-dashed-wrapped {border: 1px dashed gray;margin: 0 0.4em 0.5em 0.4em;box-sizing: border-box;padding-bottom: 0.4em;background-color: white;}#sk-container-id-11 div.sk-label label {font-family: monospace;font-weight: bold;display: inline-block;line-height: 1.2em;}#sk-container-id-11 div.sk-label-container {text-align: center;}#sk-container-id-11 div.sk-container {/* jupyter's `normalize.less` sets `[hidden] { display: none; }` but bootstrap.min.css set `[hidden] { display: none !important; }` so we also need the `!important` here to be able to override the default hidden behavior on the sphinx rendered scikit-learn.org. See: https://github.com/scikit-learn/scikit-learn/issues/21755 */display: inline-block !important;position: relative;}#sk-container-id-11 div.sk-text-repr-fallback {display: none;}</style><div id=\"sk-container-id-11\" class=\"sk-top-container\"><div class=\"sk-text-repr-fallback\"><pre>RidgeCV(alphas=array([  10.        ,   12.74274986,   16.23776739,   20.69138081,\n",
       "         26.36650899,   33.59818286,   42.81332399,   54.55594781,\n",
       "         69.51927962,   88.58667904,  112.88378917,  143.84498883,\n",
       "        183.29807108,  233.57214691,  297.63514416,  379.26901907,\n",
       "        483.29302386,  615.84821107,  784.75997035, 1000.        ]),\n",
       "        cv=10, scoring=&#x27;r2&#x27;)</pre><b>In a Jupyter environment, please rerun this cell to show the HTML representation or trust the notebook. <br />On GitHub, the HTML representation is unable to render, please try loading this page with nbviewer.org.</b></div><div class=\"sk-container\" hidden><div class=\"sk-item\"><div class=\"sk-estimator sk-toggleable\"><input class=\"sk-toggleable__control sk-hidden--visually\" id=\"sk-estimator-id-17\" type=\"checkbox\" checked><label for=\"sk-estimator-id-17\" class=\"sk-toggleable__label sk-toggleable__label-arrow\">RidgeCV</label><div class=\"sk-toggleable__content\"><pre>RidgeCV(alphas=array([  10.        ,   12.74274986,   16.23776739,   20.69138081,\n",
       "         26.36650899,   33.59818286,   42.81332399,   54.55594781,\n",
       "         69.51927962,   88.58667904,  112.88378917,  143.84498883,\n",
       "        183.29807108,  233.57214691,  297.63514416,  379.26901907,\n",
       "        483.29302386,  615.84821107,  784.75997035, 1000.        ]),\n",
       "        cv=10, scoring=&#x27;r2&#x27;)</pre></div></div></div></div></div>"
      ],
      "text/plain": [
       "RidgeCV(alphas=array([  10.        ,   12.74274986,   16.23776739,   20.69138081,\n",
       "         26.36650899,   33.59818286,   42.81332399,   54.55594781,\n",
       "         69.51927962,   88.58667904,  112.88378917,  143.84498883,\n",
       "        183.29807108,  233.57214691,  297.63514416,  379.26901907,\n",
       "        483.29302386,  615.84821107,  784.75997035, 1000.        ]),\n",
       "        cv=10, scoring='r2')"
      ]
     },
     "execution_count": 92,
     "metadata": {},
     "output_type": "execute_result"
    }
   ],
   "source": [
    "#Fit Ridge CV\n",
    "ridge_cv.fit(Z_train, y_train)"
   ]
  },
  {
   "cell_type": "code",
   "execution_count": 93,
   "id": "ee537321-4b49-4c75-8c91-2129a6c9e66b",
   "metadata": {},
   "outputs": [
    {
     "data": {
      "text/plain": [
       "0.9236701522070221"
      ]
     },
     "execution_count": 93,
     "metadata": {},
     "output_type": "execute_result"
    }
   ],
   "source": [
    "#Training R2\n",
    "ridge_cv_train_score=ridge_cv.score(Z_train, y_train)\n",
    "ridge_cv_train_score"
   ]
  },
  {
   "cell_type": "code",
   "execution_count": 95,
   "id": "bd05d465-079c-48fd-8441-a3ba9322f4df",
   "metadata": {},
   "outputs": [
    {
     "data": {
      "text/plain": [
       "112.88378916846884"
      ]
     },
     "execution_count": 95,
     "metadata": {},
     "output_type": "execute_result"
    }
   ],
   "source": [
    "ridge_cv.alpha_"
   ]
  },
  {
   "cell_type": "code",
   "execution_count": 94,
   "id": "f203229d-ab0e-4715-a635-f9955b4d3ac1",
   "metadata": {},
   "outputs": [
    {
     "data": {
      "text/plain": [
       "array([[ 2.06158684e+03,  4.49182094e+03,  6.66393198e+02,\n",
       "        -8.07143193e+01,  1.10864775e+04,  4.70128565e+03,\n",
       "         1.76639642e+03,  6.39972806e+03, -4.40842794e+02,\n",
       "        -2.28308446e+03,  4.75703935e+03,  4.61776192e+02,\n",
       "         8.19526116e+03,  1.18907512e+03, -1.58039956e+02,\n",
       "        -3.62697781e+02,  8.17470637e+03,  1.56842093e+03,\n",
       "        -5.70114183e+02, -4.63278784e+01,  8.10753131e+03,\n",
       "         6.91055144e+03, -2.14205610e+02,  1.24305737e+04,\n",
       "         1.96300911e+03, -1.87730474e+02,  2.48989152e+03,\n",
       "         2.83678640e+03, -2.96699880e+03, -2.79459126e+03,\n",
       "         4.45614860e+03,  2.73200404e+03,  2.96595351e+03,\n",
       "         2.32973109e+03,  3.47287226e+03,  4.13802456e+02,\n",
       "         4.59040800e+03, -1.18943760e+03,  1.66259477e+03,\n",
       "         1.96136653e+02,  1.18955969e+02, -7.47086343e+01,\n",
       "        -7.52619766e+02,  2.33998152e+02, -2.14234620e+02,\n",
       "        -6.53339734e+02, -5.88019345e+02,  2.95293003e+03,\n",
       "         1.69475629e+02,  4.30342616e+01,  2.82413601e+02,\n",
       "        -1.28489698e+03,  1.27613445e+02, -3.70996542e+02,\n",
       "         5.08292028e+02, -5.64238789e+02, -2.35109009e+02,\n",
       "        -5.21085541e+02, -3.56245947e+02, -3.67033637e+02,\n",
       "         2.13316320e+03,  6.31208656e+02, -3.64645047e+02,\n",
       "         3.95216626e+02,  2.37392943e+03,  1.59766065e+01,\n",
       "         3.48150429e+02,  2.08768078e+03, -1.00399083e+02,\n",
       "        -1.20586576e+03,  9.93546754e+02,  1.33551893e+03,\n",
       "         7.71048094e+02, -1.67115684e+02, -5.53652706e+02,\n",
       "         1.51334862e+03, -1.29802250e+03, -9.67464985e+02,\n",
       "         3.22702464e+02, -2.24588379e+02,  9.78966444e+01,\n",
       "         5.50849982e+02,  1.46409570e+03, -8.03075049e+02,\n",
       "         3.69652478e+03,  8.09507983e+03, -1.44227242e+03,\n",
       "        -4.63083247e+02,  3.12381636e+02, -8.90665961e+02,\n",
       "         6.15871712e+03,  1.22969173e+00, -8.61840291e+01,\n",
       "         4.04217892e+02,  2.07938423e+03,  1.31281788e+03,\n",
       "         1.81419794e+03, -7.35699091e+02, -2.03202047e+02,\n",
       "        -2.77030225e+02, -6.51296174e+02, -5.39789572e+02,\n",
       "        -3.67033637e+02, -3.48202347e+03, -4.96877264e+03,\n",
       "        -1.87281908e+02,  2.82860012e+02,  7.98601666e+02,\n",
       "        -6.25857346e+02, -8.64664231e+02,  2.03008512e+03,\n",
       "        -1.76166457e+03, -2.93626381e+01,  2.83420358e+03,\n",
       "        -9.07991353e+02,  3.26447981e+03,  1.59109370e+03,\n",
       "         1.75919275e+02, -3.49823666e+02, -1.27544468e+03,\n",
       "        -2.08062111e+02,  6.39599082e+02, -1.29929536e+03,\n",
       "        -1.41903136e+03, -4.41830331e+02,  5.22779613e+02,\n",
       "        -1.30736573e+03, -6.61214921e+02, -4.42722958e+02,\n",
       "        -5.18978685e+01, -2.99680571e+02,  4.83067134e+02,\n",
       "         2.63932563e+03, -1.30461185e+03,  1.20223901e+03,\n",
       "        -1.30067777e+02, -5.48212772e+02, -5.58914184e+02,\n",
       "         3.12888550e+02, -1.70168260e+03, -1.16572038e+02,\n",
       "         2.05644125e+03, -2.34678023e+02,  8.88899971e+02,\n",
       "         1.78281162e+02,  1.29518748e+02,  1.25551272e+03,\n",
       "         8.24199405e+02,  3.54943881e+02, -5.28868876e+02,\n",
       "         4.87577323e+03,  5.55802672e+02]])"
      ]
     },
     "execution_count": 94,
     "metadata": {},
     "output_type": "execute_result"
    }
   ],
   "source": [
    "ridge_cv.coef_"
   ]
  },
  {
   "cell_type": "code",
   "execution_count": 96,
   "id": "527f09a9-5712-4bf2-94f8-f1556de5d665",
   "metadata": {},
   "outputs": [
    {
     "data": {
      "text/plain": [
       "21411.192168835823"
      ]
     },
     "execution_count": 96,
     "metadata": {},
     "output_type": "execute_result"
    }
   ],
   "source": [
    "#Train RMSE\n",
    "ridge_cv_train_rmse=mean_squared_error(y_train, ridge_cv.predict(Z_train), squared=False)\n",
    "ridge_cv_train_rmse"
   ]
  },
  {
   "cell_type": "code",
   "execution_count": 97,
   "id": "6f90a0df-5798-45a0-b589-c6d791321c36",
   "metadata": {},
   "outputs": [
    {
     "data": {
      "text/plain": [
       "0.8988088141685965"
      ]
     },
     "execution_count": 97,
     "metadata": {},
     "output_type": "execute_result"
    }
   ],
   "source": [
    "#Test R2\n",
    "ridge_cv_test_score=ridge_cv.score(Z_test, y_test)\n",
    "ridge_cv_test_score"
   ]
  },
  {
   "cell_type": "code",
   "execution_count": 98,
   "id": "b162c2a1-2ac5-49d5-8d6a-2d8fb685f907",
   "metadata": {},
   "outputs": [
    {
     "data": {
      "text/plain": [
       "27364.84018209014"
      ]
     },
     "execution_count": 98,
     "metadata": {},
     "output_type": "execute_result"
    }
   ],
   "source": [
    "#Test RMSE\n",
    "ridge_cv_train_rmse=mean_squared_error(y_test, ridge_cv.predict(Z_test), squared=False)\n",
    "ridge_cv_train_rmse"
   ]
  },
  {
   "cell_type": "markdown",
   "id": "b60c3424-f36a-41c1-a5f9-4dfdf0427b6a",
   "metadata": {},
   "source": [
    "### Ridge with threshold features: "
   ]
  },
  {
   "cell_type": "code",
   "execution_count": 107,
   "id": "568011c4-32f0-4ee9-a624-cfe7861ebde0",
   "metadata": {},
   "outputs": [],
   "source": [
    "#ridge thres params \n",
    "thres_ridge_param=np.logspace(0, 2, 20)"
   ]
  },
  {
   "cell_type": "code",
   "execution_count": 108,
   "id": "fa1cdfdd-d84f-499a-ba03-27a3a81f8cf0",
   "metadata": {},
   "outputs": [],
   "source": [
    "#Instantiate threshold Ridge CV\n",
    "thres_ridge_cv = RidgeCV(alphas=thres_ridge_param, scoring='r2', cv=10)"
   ]
  },
  {
   "cell_type": "code",
   "execution_count": 109,
   "id": "56832abb-927a-42e2-a9fe-761f458b97f6",
   "metadata": {},
   "outputs": [
    {
     "data": {
      "text/html": [
       "<style>#sk-container-id-15 {color: black;background-color: white;}#sk-container-id-15 pre{padding: 0;}#sk-container-id-15 div.sk-toggleable {background-color: white;}#sk-container-id-15 label.sk-toggleable__label {cursor: pointer;display: block;width: 100%;margin-bottom: 0;padding: 0.3em;box-sizing: border-box;text-align: center;}#sk-container-id-15 label.sk-toggleable__label-arrow:before {content: \"▸\";float: left;margin-right: 0.25em;color: #696969;}#sk-container-id-15 label.sk-toggleable__label-arrow:hover:before {color: black;}#sk-container-id-15 div.sk-estimator:hover label.sk-toggleable__label-arrow:before {color: black;}#sk-container-id-15 div.sk-toggleable__content {max-height: 0;max-width: 0;overflow: hidden;text-align: left;background-color: #f0f8ff;}#sk-container-id-15 div.sk-toggleable__content pre {margin: 0.2em;color: black;border-radius: 0.25em;background-color: #f0f8ff;}#sk-container-id-15 input.sk-toggleable__control:checked~div.sk-toggleable__content {max-height: 200px;max-width: 100%;overflow: auto;}#sk-container-id-15 input.sk-toggleable__control:checked~label.sk-toggleable__label-arrow:before {content: \"▾\";}#sk-container-id-15 div.sk-estimator input.sk-toggleable__control:checked~label.sk-toggleable__label {background-color: #d4ebff;}#sk-container-id-15 div.sk-label input.sk-toggleable__control:checked~label.sk-toggleable__label {background-color: #d4ebff;}#sk-container-id-15 input.sk-hidden--visually {border: 0;clip: rect(1px 1px 1px 1px);clip: rect(1px, 1px, 1px, 1px);height: 1px;margin: -1px;overflow: hidden;padding: 0;position: absolute;width: 1px;}#sk-container-id-15 div.sk-estimator {font-family: monospace;background-color: #f0f8ff;border: 1px dotted black;border-radius: 0.25em;box-sizing: border-box;margin-bottom: 0.5em;}#sk-container-id-15 div.sk-estimator:hover {background-color: #d4ebff;}#sk-container-id-15 div.sk-parallel-item::after {content: \"\";width: 100%;border-bottom: 1px solid gray;flex-grow: 1;}#sk-container-id-15 div.sk-label:hover label.sk-toggleable__label {background-color: #d4ebff;}#sk-container-id-15 div.sk-serial::before {content: \"\";position: absolute;border-left: 1px solid gray;box-sizing: border-box;top: 0;bottom: 0;left: 50%;z-index: 0;}#sk-container-id-15 div.sk-serial {display: flex;flex-direction: column;align-items: center;background-color: white;padding-right: 0.2em;padding-left: 0.2em;position: relative;}#sk-container-id-15 div.sk-item {position: relative;z-index: 1;}#sk-container-id-15 div.sk-parallel {display: flex;align-items: stretch;justify-content: center;background-color: white;position: relative;}#sk-container-id-15 div.sk-item::before, #sk-container-id-15 div.sk-parallel-item::before {content: \"\";position: absolute;border-left: 1px solid gray;box-sizing: border-box;top: 0;bottom: 0;left: 50%;z-index: -1;}#sk-container-id-15 div.sk-parallel-item {display: flex;flex-direction: column;z-index: 1;position: relative;background-color: white;}#sk-container-id-15 div.sk-parallel-item:first-child::after {align-self: flex-end;width: 50%;}#sk-container-id-15 div.sk-parallel-item:last-child::after {align-self: flex-start;width: 50%;}#sk-container-id-15 div.sk-parallel-item:only-child::after {width: 0;}#sk-container-id-15 div.sk-dashed-wrapped {border: 1px dashed gray;margin: 0 0.4em 0.5em 0.4em;box-sizing: border-box;padding-bottom: 0.4em;background-color: white;}#sk-container-id-15 div.sk-label label {font-family: monospace;font-weight: bold;display: inline-block;line-height: 1.2em;}#sk-container-id-15 div.sk-label-container {text-align: center;}#sk-container-id-15 div.sk-container {/* jupyter's `normalize.less` sets `[hidden] { display: none; }` but bootstrap.min.css set `[hidden] { display: none !important; }` so we also need the `!important` here to be able to override the default hidden behavior on the sphinx rendered scikit-learn.org. See: https://github.com/scikit-learn/scikit-learn/issues/21755 */display: inline-block !important;position: relative;}#sk-container-id-15 div.sk-text-repr-fallback {display: none;}</style><div id=\"sk-container-id-15\" class=\"sk-top-container\"><div class=\"sk-text-repr-fallback\"><pre>RidgeCV(alphas=array([  1.        ,   1.27427499,   1.62377674,   2.06913808,\n",
       "         2.6366509 ,   3.35981829,   4.2813324 ,   5.45559478,\n",
       "         6.95192796,   8.8586679 ,  11.28837892,  14.38449888,\n",
       "        18.32980711,  23.35721469,  29.76351442,  37.92690191,\n",
       "        48.32930239,  61.58482111,  78.47599704, 100.        ]),\n",
       "        cv=10, scoring=&#x27;r2&#x27;)</pre><b>In a Jupyter environment, please rerun this cell to show the HTML representation or trust the notebook. <br />On GitHub, the HTML representation is unable to render, please try loading this page with nbviewer.org.</b></div><div class=\"sk-container\" hidden><div class=\"sk-item\"><div class=\"sk-estimator sk-toggleable\"><input class=\"sk-toggleable__control sk-hidden--visually\" id=\"sk-estimator-id-21\" type=\"checkbox\" checked><label for=\"sk-estimator-id-21\" class=\"sk-toggleable__label sk-toggleable__label-arrow\">RidgeCV</label><div class=\"sk-toggleable__content\"><pre>RidgeCV(alphas=array([  1.        ,   1.27427499,   1.62377674,   2.06913808,\n",
       "         2.6366509 ,   3.35981829,   4.2813324 ,   5.45559478,\n",
       "         6.95192796,   8.8586679 ,  11.28837892,  14.38449888,\n",
       "        18.32980711,  23.35721469,  29.76351442,  37.92690191,\n",
       "        48.32930239,  61.58482111,  78.47599704, 100.        ]),\n",
       "        cv=10, scoring=&#x27;r2&#x27;)</pre></div></div></div></div></div>"
      ],
      "text/plain": [
       "RidgeCV(alphas=array([  1.        ,   1.27427499,   1.62377674,   2.06913808,\n",
       "         2.6366509 ,   3.35981829,   4.2813324 ,   5.45559478,\n",
       "         6.95192796,   8.8586679 ,  11.28837892,  14.38449888,\n",
       "        18.32980711,  23.35721469,  29.76351442,  37.92690191,\n",
       "        48.32930239,  61.58482111,  78.47599704, 100.        ]),\n",
       "        cv=10, scoring='r2')"
      ]
     },
     "execution_count": 109,
     "metadata": {},
     "output_type": "execute_result"
    }
   ],
   "source": [
    "#Fit threshold Ridge CV\n",
    "thres_ridge_cv.fit(corr_z_train, y_train)"
   ]
  },
  {
   "cell_type": "code",
   "execution_count": 110,
   "id": "8322013a-d525-4176-96b0-91ef8ea3d004",
   "metadata": {},
   "outputs": [
    {
     "data": {
      "text/plain": [
       "23.357214690901213"
      ]
     },
     "execution_count": 110,
     "metadata": {},
     "output_type": "execute_result"
    }
   ],
   "source": [
    "thres_ridge_cv.alpha_"
   ]
  },
  {
   "cell_type": "code",
   "execution_count": 111,
   "id": "8a380ebb-712a-4030-b7ae-3b9872f1877a",
   "metadata": {},
   "outputs": [
    {
     "data": {
      "text/plain": [
       "array([[17227.21053356, 25092.55715638,  7769.32324074,  6038.0076985 ,\n",
       "         6959.7226516 ,  3726.81409161,  1064.34449177,  2706.17289109,\n",
       "         1309.43996982, -2366.51966862,   102.65349698,  3427.75593365,\n",
       "         3173.62715991,  5737.20736202,  1833.14597809, 11265.40407301,\n",
       "        -1337.39661787,  4104.62851273,  5731.32408723,  -226.09547487,\n",
       "         2337.46207886,  6125.85567761,   181.36454203,  2113.16469502,\n",
       "          954.14989183,  -227.87233998]])"
      ]
     },
     "execution_count": 111,
     "metadata": {},
     "output_type": "execute_result"
    }
   ],
   "source": [
    "#Coefs\n",
    "thres_ridge_cv.coef_"
   ]
  },
  {
   "cell_type": "code",
   "execution_count": 115,
   "id": "bf8734d7-3eaf-42f8-a3f9-7a908617bfa6",
   "metadata": {},
   "outputs": [
    {
     "data": {
      "text/plain": [
       "0.8877841877959356"
      ]
     },
     "execution_count": 115,
     "metadata": {},
     "output_type": "execute_result"
    }
   ],
   "source": [
    "#Train score \n",
    "thres_ridge_train_r2=thres_ridge_cv.score(corr_z_train, y_train)\n",
    "thres_ridge_train_r2"
   ]
  },
  {
   "cell_type": "code",
   "execution_count": 116,
   "id": "d15d9472-3055-4f6b-85a8-9a86d3624582",
   "metadata": {},
   "outputs": [
    {
     "data": {
      "text/plain": [
       "0.8697581229667968"
      ]
     },
     "execution_count": 116,
     "metadata": {},
     "output_type": "execute_result"
    }
   ],
   "source": [
    "#Test score \n",
    "thres_ridge_test_r2=thres_ridge_cv.score(corr_z_test, y_test)\n",
    "thres_ridge_test_r2"
   ]
  },
  {
   "cell_type": "code",
   "execution_count": 118,
   "id": "0ee06284-f600-4b03-af4d-1b99caaf7175",
   "metadata": {},
   "outputs": [
    {
     "data": {
      "text/plain": [
       "31045.374044684202"
      ]
     },
     "execution_count": 118,
     "metadata": {},
     "output_type": "execute_result"
    }
   ],
   "source": [
    "#Test RMSE \n",
    "thres_ridge_rmse=mean_squared_error(y_test, thres_ridge_cv.predict(corr_z_test), squared=False)\n",
    "thres_ridge_rmse"
   ]
  },
  {
   "cell_type": "markdown",
   "id": "599b8c48-f3a7-413e-831b-b6813e51fbd9",
   "metadata": {},
   "source": [
    "---"
   ]
  },
  {
   "cell_type": "markdown",
   "id": "b787c55a-2808-4bf3-b902-cf668070e3d9",
   "metadata": {},
   "source": [
    "## Results \n",
    "\n",
    "#### Null Model \n",
    "- Sale price mean: 181428.810629\n",
    "\n",
    "#### **OLS Linear Regression**: \n",
    "##### All Features:\n",
    "- Train R2 Score: 0.9249133598713408\n",
    "- Test R2 Score: 0.8996567042201077\n",
    "- Test RMSE: 27249.952783750217\n",
    "\n",
    "##### Selected Features: \n",
    "- Train R2 Score: 0.887906152937904  \n",
    "- Test R2 Score: 0.8699410288938401\n",
    "- Test RMSE: 31023.56701123248\n",
    "---\n",
    "\n",
    "#### **Lasso:**\n",
    "##### All Features:\n",
    "- Train R2 Score: 0.9206303009360988\n",
    "- Test R2 Score: 0.8965091417108361\n",
    "- Test RMSE: 27674.040220942283\n",
    "\n",
    "##### Selected Features:\n",
    "- Train R2 Score: 0.8875752627056502\n",
    "- Test R2 Score: 0.8687110689780599\n",
    "- Test RMSE: 31169.915831839426\n",
    "---\n",
    "\n",
    "#### **Ridge:**\n",
    "##### All features:\n",
    "- Train R2 Score: 0.9236701522070221\n",
    "- Test R2 Score: 0.8988088141685965\n",
    "- Test RMSE: 27364.84018209014\n",
    "\n",
    "##### Selected Features: \n",
    "- Train R2 Score: 0.8877841877959356\n",
    "- Test R2 Score: 0.8697581229667968\n",
    "- Test RMSE: 31045.374044684202\n",
    "---"
   ]
  },
  {
   "cell_type": "markdown",
   "id": "cdc81870-e25b-4cd5-9327-30605ba57c1e",
   "metadata": {},
   "source": [
    "All models performed better than the null model. Out of all models, the OLS Linear Regression Model with all features performed the best. This model had the lowest error and explained approximately 90% of the target variable (sale price). This model accounts for 90% of the variation in sale price. This model was the least overfit model, having the lowest bias and variance overall. This model was able to predict sale price within 27,249 (USD).\n",
    "\n",
    "Selecting features within a specific correlation threshold led to the models being overfit (higher variance due to higher error), because information was lost, making it harder for the model to generalize unseen data. If I had more time I would adjust the correlation threshold to see what the optimal range is. "
   ]
  },
  {
   "cell_type": "markdown",
   "id": "aabc3b4d-be07-4b97-ab10-f8a11c727cca",
   "metadata": {},
   "source": [
    "## Model Visualization "
   ]
  },
  {
   "cell_type": "code",
   "execution_count": 125,
   "id": "b1618313-2f80-4733-9e8e-50ce6d39ef45",
   "metadata": {},
   "outputs": [
    {
     "data": {
      "image/png": "[encoded data removed]",
      "text/plain": [
       "<Figure size 864x576 with 1 Axes>"
      ]
     },
     "metadata": {
      "needs_background": "light"
     },
     "output_type": "display_data"
    }
   ],
   "source": [
    "#Linear Regression Model Visualization \n",
    "\n",
    "plt.figure(figsize=(12,8))\n",
    "sns.regplot(x=y_test, y=lr.predict(Z_test))\n",
    "plt.xlabel('True Sale Price (USD)')\n",
    "plt.ylabel('Predicted Sale Price (USD)')\n",
    "plt.title('Predicted Price vs Actual Price');"
   ]
  },
  {
   "cell_type": "markdown",
   "id": "9c3725b5-f44a-4f59-8b45-58d190ff02ce",
   "metadata": {},
   "source": [
    "From this plot we can see that the OLS Linear Regression model does better at predicting prices from 100,000-250,000 range. This model does not do as good of a job predicting sale price at either extremes. From the exploratory data analysis section, we know that most homes sold were in the 100,000-200,000 range. This model may not perform as well due to insignificant training data at the extreames, specifically the higher priced homes. "
   ]
  },
  {
   "cell_type": "code",
   "execution_count": 132,
   "id": "ff60e3a7-6a9f-4c50-899f-34ed9f2a1a8a",
   "metadata": {},
   "outputs": [],
   "source": [
    "resids=y_test-lr.predict(Z_test)"
   ]
  },
  {
   "cell_type": "code",
   "execution_count": 133,
   "id": "6e59a9ff-a0ff-4ccd-ae8a-69f522091131",
   "metadata": {},
   "outputs": [
    {
     "data": {
      "image/png": "[encoded data removed]",
      "text/plain": [
       "<Figure size 720x576 with 1 Axes>"
      ]
     },
     "metadata": {
      "needs_background": "light"
     },
     "output_type": "display_data"
    }
   ],
   "source": [
    "# Residuals histogram \n",
    "resids.hist(bins = 20, figsize = (10,8), edgecolor = 'black', grid = False, color = 'royalblue')\n",
    "plt.title('Distribution of Residuals', fontdict = {'fontsize':15})\n",
    "plt.xlabel('Residuals', fontdict = {'fontsize':13})\n",
    "plt.ylabel('Frequency', fontdict = {'fontsize':13})\n",
    "plt.tight_layout();"
   ]
  },
  {
   "cell_type": "markdown",
   "id": "ec61e4c3-78e7-4b65-9ad8-dcabc4b5fe2f",
   "metadata": {},
   "source": [
    "The residuals of the OLS Linear Regression Model are not normally distributed. The tails of both ends of the model indicate prediction error at either ends. "
   ]
  },
  {
   "cell_type": "markdown",
   "id": "669d41a1-d47c-4bb3-9023-3bfb2565a08e",
   "metadata": {},
   "source": [
    "### Displaying Coefficients for OLS Linear Regression "
   ]
  },
  {
   "cell_type": "code",
   "execution_count": 180,
   "id": "fb76b252-cc2a-4939-807e-5ccc74b246d9",
   "metadata": {},
   "outputs": [],
   "source": [
    "coef_df=pd.DataFrame(lr_coef[0], Z_test.columns, columns = ['coef']).sort_values(by = 'coef', ascending = False)"
   ]
  },
  {
   "cell_type": "code",
   "execution_count": 181,
   "id": "c4abd984-9c5f-4783-aea3-38fa44c5dcc3",
   "metadata": {},
   "outputs": [
    {
     "data": {
      "text/html": [
       "<div>\n",
       "<style scoped>\n",
       "    .dataframe tbody tr th:only-of-type {\n",
       "        vertical-align: middle;\n",
       "    }\n",
       "\n",
       "    .dataframe tbody tr th {\n",
       "        vertical-align: top;\n",
       "    }\n",
       "\n",
       "    .dataframe thead th {\n",
       "        text-align: right;\n",
       "    }\n",
       "</style>\n",
       "<table border=\"1\" class=\"dataframe\">\n",
       "  <thead>\n",
       "    <tr style=\"text-align: right;\">\n",
       "      <th></th>\n",
       "      <th>coef</th>\n",
       "    </tr>\n",
       "  </thead>\n",
       "  <tbody>\n",
       "    <tr>\n",
       "      <th>total_bsmt_sf</th>\n",
       "      <td>1.257513e+16</td>\n",
       "    </tr>\n",
       "    <tr>\n",
       "      <th>ms_sub_class_90</th>\n",
       "      <td>1.199655e+16</td>\n",
       "    </tr>\n",
       "    <tr>\n",
       "      <th>2nd_flr_sf</th>\n",
       "      <td>1.043892e+16</td>\n",
       "    </tr>\n",
       "    <tr>\n",
       "      <th>1st_flr_sf</th>\n",
       "      <td>9.163753e+15</td>\n",
       "    </tr>\n",
       "    <tr>\n",
       "      <th>low_qual_fin_sf</th>\n",
       "      <td>1.297171e+15</td>\n",
       "    </tr>\n",
       "    <tr>\n",
       "      <th>...</th>\n",
       "      <td>...</td>\n",
       "    </tr>\n",
       "    <tr>\n",
       "      <th>bsmt_fin_sf_2</th>\n",
       "      <td>-4.996606e+15</td>\n",
       "    </tr>\n",
       "    <tr>\n",
       "      <th>gr_liv_area</th>\n",
       "      <td>-1.175780e+16</td>\n",
       "    </tr>\n",
       "    <tr>\n",
       "      <th>bldg_type_Duplex</th>\n",
       "      <td>-1.199655e+16</td>\n",
       "    </tr>\n",
       "    <tr>\n",
       "      <th>bsmt_fin_sf_1</th>\n",
       "      <td>-1.323148e+16</td>\n",
       "    </tr>\n",
       "    <tr>\n",
       "      <th>bsmt_unf_sf</th>\n",
       "      <td>-1.336593e+16</td>\n",
       "    </tr>\n",
       "  </tbody>\n",
       "</table>\n",
       "<p>152 rows × 1 columns</p>\n",
       "</div>"
      ],
      "text/plain": [
       "                          coef\n",
       "total_bsmt_sf     1.257513e+16\n",
       "ms_sub_class_90   1.199655e+16\n",
       "2nd_flr_sf        1.043892e+16\n",
       "1st_flr_sf        9.163753e+15\n",
       "low_qual_fin_sf   1.297171e+15\n",
       "...                        ...\n",
       "bsmt_fin_sf_2    -4.996606e+15\n",
       "gr_liv_area      -1.175780e+16\n",
       "bldg_type_Duplex -1.199655e+16\n",
       "bsmt_fin_sf_1    -1.323148e+16\n",
       "bsmt_unf_sf      -1.336593e+16\n",
       "\n",
       "[152 rows x 1 columns]"
      ]
     },
     "execution_count": 181,
     "metadata": {},
     "output_type": "execute_result"
    }
   ],
   "source": [
    "coef_df"
   ]
  },
  {
   "cell_type": "code",
   "execution_count": 183,
   "id": "8473e87f-58e1-4a90-909e-5c177d986899",
   "metadata": {},
   "outputs": [],
   "source": [
    "coef_df.reset_index(inplace=True)\n",
    "coef_df = coef_df.rename(columns = {'index':'features'})"
   ]
  },
  {
   "cell_type": "code",
   "execution_count": 172,
   "id": "9a771d3b-5be6-4ccc-ba69-fd0cbe231da1",
   "metadata": {},
   "outputs": [],
   "source": [
    "#Wanting to look at entire dataframe\n",
    "def print_full(x):\n",
    "    pd.set_option('display.max_rows', len(x))\n",
    "    print(x)\n",
    "    pd.reset_option('display.max_rows')"
   ]
  },
  {
   "cell_type": "code",
   "execution_count": 186,
   "id": "3dadcae4-05c4-4011-ba39-4bc1d309a56a",
   "metadata": {},
   "outputs": [
    {
     "name": "stdout",
     "output_type": "stream",
     "text": [
      "                 features          coef\n",
      "0           total_bsmt_sf  1.257513e+16\n",
      "1         ms_sub_class_90  1.199655e+16\n",
      "2              2nd_flr_sf  1.043892e+16\n",
      "3              1st_flr_sf  9.163753e+15\n",
      "4         low_qual_fin_sf  1.297171e+15\n",
      "5            overall_qual  1.212826e+04\n",
      "6    neighborhood_NridgHt  8.949789e+03\n",
      "7    neighborhood_StoneBr  6.760760e+03\n",
      "8              exter_qual  6.403376e+03\n",
      "9           sale_type_New  5.924799e+03\n",
      "10           overall_cond  5.399925e+03\n",
      "11          bsmt_exposure  4.794860e+03\n",
      "12            garage_cars  4.571734e+03\n",
      "13               lot_area  4.538283e+03\n",
      "14           kitchen_qual  3.960265e+03\n",
      "15   exterior_1st_BrkFace  3.795370e+03\n",
      "16   neighborhood_NoRidge  3.755952e+03\n",
      "17          garage_yr_blt  3.730733e+03\n",
      "18             functional  3.290029e+03\n",
      "19       has_screen_porch  3.142211e+03\n",
      "20       condition_1_Norm  2.963357e+03\n",
      "21      roof_matl_WdShngl  2.868467e+03\n",
      "22           ms_zoning_FV  2.810756e+03\n",
      "23     mas_vnr_type_Stone  2.739181e+03\n",
      "24       land_contour_HLS  2.708192e+03\n",
      "25              half_bath  2.238289e+03\n",
      "26       condition_1_PosN  2.219670e+03\n",
      "27     lot_config_CulDSac  2.061442e+03\n",
      "28   neighborhood_NPkVill  2.048867e+03\n",
      "29    neighborhood_BrDale  1.898210e+03\n",
      "30    garage_type_BuiltIn  1.868248e+03\n",
      "31         bsmt_full_bath  1.866207e+03\n",
      "32          sale_type_WD   1.789994e+03\n",
      "33        bsmt_fin_type_2  1.749908e+03\n",
      "34         roof_style_Hip  1.716529e+03\n",
      "35             fireplaces  1.712054e+03\n",
      "36            paved_drive  1.695216e+03\n",
      "37              full_bath  1.682299e+03\n",
      "38   neighborhood_Crawfor  1.672718e+03\n",
      "39       condition_1_PosA  1.565946e+03\n",
      "40           lot_frontage  1.558391e+03\n",
      "41             heating_qc  1.532432e+03\n",
      "42          sale_type_Con  1.519227e+03\n",
      "43     garage_type_Detchd  1.481439e+03\n",
      "44         year_remod/add  1.321292e+03\n",
      "45        tot_rms_abv_grd  1.295684e+03\n",
      "46        sale_type_ConLD  1.233049e+03\n",
      "47   exterior_1st_CemntBd  1.196601e+03\n",
      "48      lot_config_Inside  1.172226e+03\n",
      "49        foundation_Slab  1.080834e+03\n",
      "50              lot_shape  1.010487e+03\n",
      "51   neighborhood_Mitchel  1.003047e+03\n",
      "52      condition_1_Feedr  9.627715e+02\n",
      "53           ms_zoning_RH  8.443393e+02\n",
      "54       land_contour_Lvl  8.061533e+02\n",
      "55   neighborhood_MeadowV  7.986502e+02\n",
      "56   neighborhood_BrkSide  7.718326e+02\n",
      "57   exterior_2nd_AsphShn  7.544499e+02\n",
      "58    neighborhood_Sawyer  7.170088e+02\n",
      "59   exterior_2nd_MetalSd  6.584971e+02\n",
      "60       ms_sub_class_180  5.766408e+02\n",
      "61     house_style_2.5Unf  5.480360e+02\n",
      "62    neighborhood_Greens  5.304044e+02\n",
      "63        sale_type_ConLI  5.138117e+02\n",
      "64           heating_Wall  4.797342e+02\n",
      "65            street_Pave  4.470634e+02\n",
      "66        ms_sub_class_45  4.437486e+02\n",
      "67   mas_vnr_type_BrkFace  4.417657e+02\n",
      "68          sale_type_CWD  4.353261e+02\n",
      "69                  fence  4.271088e+02\n",
      "70   exterior_1st_Plywood  3.639618e+02\n",
      "71       ms_sub_class_160  3.295028e+02\n",
      "72          garage_finish  2.941346e+02\n",
      "73       condition_1_RRAn  2.505051e+02\n",
      "74               misc_val  2.142190e+02\n",
      "75        ms_sub_class_30  1.978152e+02\n",
      "76      misc_feature_Shed  1.939988e+02\n",
      "77    neighborhood_Timber  1.863096e+02\n",
      "78          has_wood_deck  1.584428e+02\n",
      "79    garage_type_Basment  1.415244e+02\n",
      "80               has_pool  1.167494e+02\n",
      "81         lot_config_FR2  1.016625e+02\n",
      "82    garage_type_CarPort  2.093505e+01\n",
      "83             land_slope -3.376357e+01\n",
      "84   neighborhood_ClearCr -3.456070e+01\n",
      "85     house_style_2.5Fin -3.748341e+01\n",
      "86         bsmt_half_bath -4.170091e+01\n",
      "87      roof_matl_Tar&Grv -5.355423e+01\n",
      "88   neighborhood_CollgCr -5.514860e+01\n",
      "89             electrical -6.995843e+01\n",
      "90   exterior_2nd_Wd Shng -7.616412e+01\n",
      "91       land_contour_Low -8.455448e+01\n",
      "92   exterior_1st_WdShing -9.628418e+01\n",
      "93           ms_zoning_RM -9.923148e+01\n",
      "94                mo_sold -1.639645e+02\n",
      "95   neighborhood_Veenker -1.656174e+02\n",
      "96       foundation_Stone -1.726797e+02\n",
      "97       condition_1_RRNe -2.014563e+02\n",
      "98    neighborhood_IDOTRR -2.028659e+02\n",
      "99     house_style_1.5Unf -2.237066e+02\n",
      "100   mas_vnr_type_BrkCmn -2.399335e+02\n",
      "101       bsmt_fin_type_1 -3.034352e+02\n",
      "102  neighborhood_Gilbert -3.036122e+02\n",
      "103       ms_sub_class_85 -3.089185e+02\n",
      "104   exterior_1st_Stucco -3.532699e+02\n",
      "105       ms_sub_class_80 -3.722713e+02\n",
      "106       sale_type_ConLw -3.872134e+02\n",
      "107      condition_2_Norm -4.390981e+02\n",
      "108   exterior_2nd_Stucco -4.489138e+02\n",
      "109       ms_sub_class_40 -4.750139e+02\n",
      "110      condition_1_RRAe -4.839902e+02\n",
      "111    neighborhood_SWISU -4.975509e+02\n",
      "112          heating_Grav -5.649644e+02\n",
      "113        has_open_porch -5.765748e+02\n",
      "114       ms_sub_class_70 -6.007677e+02\n",
      "115  exterior_2nd_ImStucc -6.111686e+02\n",
      "116  neighborhood_SawyerW -6.249426e+02\n",
      "117            exter_cond -6.472447e+02\n",
      "118      condition_1_RRNn -6.524368e+02\n",
      "119   neighborhood_NWAmes -7.019701e+02\n",
      "120          heating_GasW -7.264982e+02\n",
      "121     has_3season_porch -7.395066e+02\n",
      "122               yr_sold -7.515604e+02\n",
      "123    has_enclosed_porch -7.852814e+02\n",
      "124    exterior_2nd_Stone -8.025795e+02\n",
      "125           central_air -8.739969e+02\n",
      "126    house_style_SFoyer -8.977804e+02\n",
      "127     foundation_CBlock -9.612376e+02\n",
      "128    roof_style_Gambrel -9.889842e+02\n",
      "129  exterior_1st_BrkComm -1.030227e+03\n",
      "130       ms_sub_class_50 -1.110467e+03\n",
      "131  neighborhood_Edwards -1.229119e+03\n",
      "132  exterior_1st_Wd Sdng -1.249467e+03\n",
      "133        lot_config_FR3 -1.311830e+03\n",
      "134      ms_sub_class_190 -1.336011e+03\n",
      "135  exterior_2nd_HdBoard -1.469590e+03\n",
      "136  exterior_2nd_Plywood -1.512278e+03\n",
      "137  neighborhood_OldTown -1.619262e+03\n",
      "138           garage_qual -1.698699e+03\n",
      "139  exterior_2nd_BrkFace -1.705517e+03\n",
      "140    garage_type_2Types -1.709852e+03\n",
      "141    roof_style_Mansard -2.064277e+03\n",
      "142             bsmt_cond -2.968678e+03\n",
      "143        kitchen_abv_gr -3.200134e+03\n",
      "144        bedroom_abv_gr -4.033187e+03\n",
      "145       bldg_type_Twnhs -4.963398e+03\n",
      "146      bldg_type_TwnhsE -6.142354e+03\n",
      "147         bsmt_fin_sf_2 -4.996606e+15\n",
      "148           gr_liv_area -1.175780e+16\n",
      "149      bldg_type_Duplex -1.199655e+16\n",
      "150         bsmt_fin_sf_1 -1.323148e+16\n",
      "151           bsmt_unf_sf -1.336593e+16\n"
     ]
    }
   ],
   "source": [
    "print_full(coef_df)"
   ]
  },
  {
   "cell_type": "code",
   "execution_count": 202,
   "id": "70059b19-bb87-4430-82a2-5619752e6da6",
   "metadata": {},
   "outputs": [
    {
     "data": {
      "text/html": [
       "<div>\n",
       "<style scoped>\n",
       "    .dataframe tbody tr th:only-of-type {\n",
       "        vertical-align: middle;\n",
       "    }\n",
       "\n",
       "    .dataframe tbody tr th {\n",
       "        vertical-align: top;\n",
       "    }\n",
       "\n",
       "    .dataframe thead th {\n",
       "        text-align: right;\n",
       "    }\n",
       "</style>\n",
       "<table border=\"1\" class=\"dataframe\">\n",
       "  <thead>\n",
       "    <tr style=\"text-align: right;\">\n",
       "      <th></th>\n",
       "      <th>features</th>\n",
       "      <th>coef</th>\n",
       "    </tr>\n",
       "  </thead>\n",
       "  <tbody>\n",
       "    <tr>\n",
       "      <th>5</th>\n",
       "      <td>overall_qual</td>\n",
       "      <td>12128.256168</td>\n",
       "    </tr>\n",
       "    <tr>\n",
       "      <th>6</th>\n",
       "      <td>neighborhood_NridgHt</td>\n",
       "      <td>8949.788974</td>\n",
       "    </tr>\n",
       "    <tr>\n",
       "      <th>7</th>\n",
       "      <td>neighborhood_StoneBr</td>\n",
       "      <td>6760.759540</td>\n",
       "    </tr>\n",
       "    <tr>\n",
       "      <th>8</th>\n",
       "      <td>exter_qual</td>\n",
       "      <td>6403.375912</td>\n",
       "    </tr>\n",
       "    <tr>\n",
       "      <th>9</th>\n",
       "      <td>sale_type_New</td>\n",
       "      <td>5924.799219</td>\n",
       "    </tr>\n",
       "    <tr>\n",
       "      <th>10</th>\n",
       "      <td>overall_cond</td>\n",
       "      <td>5399.924656</td>\n",
       "    </tr>\n",
       "    <tr>\n",
       "      <th>11</th>\n",
       "      <td>bsmt_exposure</td>\n",
       "      <td>4794.860422</td>\n",
       "    </tr>\n",
       "    <tr>\n",
       "      <th>12</th>\n",
       "      <td>garage_cars</td>\n",
       "      <td>4571.733734</td>\n",
       "    </tr>\n",
       "    <tr>\n",
       "      <th>13</th>\n",
       "      <td>lot_area</td>\n",
       "      <td>4538.282875</td>\n",
       "    </tr>\n",
       "    <tr>\n",
       "      <th>14</th>\n",
       "      <td>kitchen_qual</td>\n",
       "      <td>3960.264801</td>\n",
       "    </tr>\n",
       "  </tbody>\n",
       "</table>\n",
       "</div>"
      ],
      "text/plain": [
       "                features          coef\n",
       "5           overall_qual  12128.256168\n",
       "6   neighborhood_NridgHt   8949.788974\n",
       "7   neighborhood_StoneBr   6760.759540\n",
       "8             exter_qual   6403.375912\n",
       "9          sale_type_New   5924.799219\n",
       "10          overall_cond   5399.924656\n",
       "11         bsmt_exposure   4794.860422\n",
       "12           garage_cars   4571.733734\n",
       "13              lot_area   4538.282875\n",
       "14          kitchen_qual   3960.264801"
      ]
     },
     "execution_count": 202,
     "metadata": {},
     "output_type": "execute_result"
    }
   ],
   "source": [
    "#Boolean filter to look at highest and lowest coef\n",
    "highest_coef=coef_df[(coef_df['coef']>=3.795370e+03) & (coef_df['coef']<=1.297171e+15)]\n",
    "highest_coef"
   ]
  },
  {
   "cell_type": "code",
   "execution_count": 198,
   "id": "56fb309c-c3d3-432d-a3d4-671b0162eb85",
   "metadata": {},
   "outputs": [
    {
     "data": {
      "text/html": [
       "<div>\n",
       "<style scoped>\n",
       "    .dataframe tbody tr th:only-of-type {\n",
       "        vertical-align: middle;\n",
       "    }\n",
       "\n",
       "    .dataframe tbody tr th {\n",
       "        vertical-align: top;\n",
       "    }\n",
       "\n",
       "    .dataframe thead th {\n",
       "        text-align: right;\n",
       "    }\n",
       "</style>\n",
       "<table border=\"1\" class=\"dataframe\">\n",
       "  <thead>\n",
       "    <tr style=\"text-align: right;\">\n",
       "      <th></th>\n",
       "      <th>features</th>\n",
       "      <th>coef</th>\n",
       "    </tr>\n",
       "  </thead>\n",
       "  <tbody>\n",
       "    <tr>\n",
       "      <th>136</th>\n",
       "      <td>exterior_2nd_Plywood</td>\n",
       "      <td>-1512.278219</td>\n",
       "    </tr>\n",
       "    <tr>\n",
       "      <th>137</th>\n",
       "      <td>neighborhood_OldTown</td>\n",
       "      <td>-1619.261915</td>\n",
       "    </tr>\n",
       "    <tr>\n",
       "      <th>138</th>\n",
       "      <td>garage_qual</td>\n",
       "      <td>-1698.699206</td>\n",
       "    </tr>\n",
       "    <tr>\n",
       "      <th>139</th>\n",
       "      <td>exterior_2nd_BrkFace</td>\n",
       "      <td>-1705.516931</td>\n",
       "    </tr>\n",
       "    <tr>\n",
       "      <th>140</th>\n",
       "      <td>garage_type_2Types</td>\n",
       "      <td>-1709.852326</td>\n",
       "    </tr>\n",
       "    <tr>\n",
       "      <th>141</th>\n",
       "      <td>roof_style_Mansard</td>\n",
       "      <td>-2064.277427</td>\n",
       "    </tr>\n",
       "    <tr>\n",
       "      <th>142</th>\n",
       "      <td>bsmt_cond</td>\n",
       "      <td>-2968.678155</td>\n",
       "    </tr>\n",
       "    <tr>\n",
       "      <th>143</th>\n",
       "      <td>kitchen_abv_gr</td>\n",
       "      <td>-3200.133630</td>\n",
       "    </tr>\n",
       "    <tr>\n",
       "      <th>144</th>\n",
       "      <td>bedroom_abv_gr</td>\n",
       "      <td>-4033.186624</td>\n",
       "    </tr>\n",
       "    <tr>\n",
       "      <th>145</th>\n",
       "      <td>bldg_type_Twnhs</td>\n",
       "      <td>-4963.398485</td>\n",
       "    </tr>\n",
       "  </tbody>\n",
       "</table>\n",
       "</div>"
      ],
      "text/plain": [
       "                 features         coef\n",
       "136  exterior_2nd_Plywood -1512.278219\n",
       "137  neighborhood_OldTown -1619.261915\n",
       "138           garage_qual -1698.699206\n",
       "139  exterior_2nd_BrkFace -1705.516931\n",
       "140    garage_type_2Types -1709.852326\n",
       "141    roof_style_Mansard -2064.277427\n",
       "142             bsmt_cond -2968.678155\n",
       "143        kitchen_abv_gr -3200.133630\n",
       "144        bedroom_abv_gr -4033.186624\n",
       "145       bldg_type_Twnhs -4963.398485"
      ]
     },
     "execution_count": 198,
     "metadata": {},
     "output_type": "execute_result"
    }
   ],
   "source": [
    "#Boolean filter to look at lowest coef\n",
    "lowest_coef=coef_df[(coef_df['coef']>=-6.142354e+03) & (coef_df['coef']<=-1.512278e+03)]\n",
    "lowest_coef"
   ]
  },
  {
   "cell_type": "code",
   "execution_count": 256,
   "id": "cfd7c5b4-3c6e-4854-96b2-cbfce18b6236",
   "metadata": {},
   "outputs": [
    {
     "data": {
      "image/png": "[encoded data removed]",
      "text/plain": [
       "<Figure size 720x576 with 1 Axes>"
      ]
     },
     "metadata": {
      "needs_background": "light"
     },
     "output_type": "display_data"
    }
   ],
   "source": [
    "#Barplot for highest coef\n",
    "plt.figure(figsize=(10,8))\n",
    "pos=sns.barplot(x=highest_coef['coef'], y=highest_coef['features'])\n",
    "plt.title('Top 10 Home Features Positive Impact on Sale Price')\n",
    "labels=['Overall Quality', 'Northridge Heights Neighborhood', 'Stonebrook Neighborhood', \n",
    "        'Exterior Quality', 'New Sale', 'Overall Condition', 'Basement Exposure', 'Garage Space', \n",
    "        'Lot Size', 'Kitchen Quality']\n",
    "plt.xlabel('Coefficients')\n",
    "plt.ylabel('Home Features')\n",
    "pos.set_yticklabels(labels);"
   ]
  },
  {
   "cell_type": "code",
   "execution_count": 255,
   "id": "40c741b7-1de4-421f-a8ac-d109758aa1be",
   "metadata": {},
   "outputs": [
    {
     "data": {
      "image/png": "[encoded data removed]",
      "text/plain": [
       "<Figure size 720x576 with 1 Axes>"
      ]
     },
     "metadata": {
      "needs_background": "light"
     },
     "output_type": "display_data"
    }
   ],
   "source": [
    "#Barplot for highest coef\n",
    "plt.figure(figsize=(10,8))\n",
    "neg=sns.barplot(x=lowest_coef['coef'], y=lowest_coef['features'])\n",
    "labels=['Plywood Exterior', 'Old Town Neighborhood', 'Garage Quality', 'Brick Face Exterior', \n",
    "        '2 Types of Garage', 'Mansard Roof Style', 'Basement Condition', 'Above Ground Kitchen', \n",
    "        'Above Ground Bedrooms', 'Townhouse']\n",
    "plt.title('Top 10 Home Features Negative Impact on Sale Price')\n",
    "plt.xlabel('Coefficients')\n",
    "plt.ylabel('Home Feature')\n",
    "neg.set_yticklabels(labels);"
   ]
  },
  {
   "cell_type": "code",
   "execution_count": 221,
   "id": "6585fce2-01c4-4a45-8501-1f60e5520726",
   "metadata": {},
   "outputs": [],
   "source": [
    "pos_neighborhoods=coef_df.iloc[[6, 7, 16, 28, 29, 38, 51, 55, 56, 58, 62, 77]]"
   ]
  },
  {
   "cell_type": "code",
   "execution_count": 222,
   "id": "1454bc40-8463-4a70-a238-da02060c7872",
   "metadata": {},
   "outputs": [
    {
     "data": {
      "text/html": [
       "<div>\n",
       "<style scoped>\n",
       "    .dataframe tbody tr th:only-of-type {\n",
       "        vertical-align: middle;\n",
       "    }\n",
       "\n",
       "    .dataframe tbody tr th {\n",
       "        vertical-align: top;\n",
       "    }\n",
       "\n",
       "    .dataframe thead th {\n",
       "        text-align: right;\n",
       "    }\n",
       "</style>\n",
       "<table border=\"1\" class=\"dataframe\">\n",
       "  <thead>\n",
       "    <tr style=\"text-align: right;\">\n",
       "      <th></th>\n",
       "      <th>features</th>\n",
       "      <th>coef</th>\n",
       "    </tr>\n",
       "  </thead>\n",
       "  <tbody>\n",
       "    <tr>\n",
       "      <th>6</th>\n",
       "      <td>neighborhood_NridgHt</td>\n",
       "      <td>8949.788974</td>\n",
       "    </tr>\n",
       "    <tr>\n",
       "      <th>7</th>\n",
       "      <td>neighborhood_StoneBr</td>\n",
       "      <td>6760.759540</td>\n",
       "    </tr>\n",
       "    <tr>\n",
       "      <th>16</th>\n",
       "      <td>neighborhood_NoRidge</td>\n",
       "      <td>3755.952218</td>\n",
       "    </tr>\n",
       "    <tr>\n",
       "      <th>28</th>\n",
       "      <td>neighborhood_NPkVill</td>\n",
       "      <td>2048.867487</td>\n",
       "    </tr>\n",
       "    <tr>\n",
       "      <th>29</th>\n",
       "      <td>neighborhood_BrDale</td>\n",
       "      <td>1898.210362</td>\n",
       "    </tr>\n",
       "    <tr>\n",
       "      <th>38</th>\n",
       "      <td>neighborhood_Crawfor</td>\n",
       "      <td>1672.718033</td>\n",
       "    </tr>\n",
       "    <tr>\n",
       "      <th>51</th>\n",
       "      <td>neighborhood_Mitchel</td>\n",
       "      <td>1003.046575</td>\n",
       "    </tr>\n",
       "    <tr>\n",
       "      <th>55</th>\n",
       "      <td>neighborhood_MeadowV</td>\n",
       "      <td>798.650208</td>\n",
       "    </tr>\n",
       "    <tr>\n",
       "      <th>56</th>\n",
       "      <td>neighborhood_BrkSide</td>\n",
       "      <td>771.832589</td>\n",
       "    </tr>\n",
       "    <tr>\n",
       "      <th>58</th>\n",
       "      <td>neighborhood_Sawyer</td>\n",
       "      <td>717.008845</td>\n",
       "    </tr>\n",
       "    <tr>\n",
       "      <th>62</th>\n",
       "      <td>neighborhood_Greens</td>\n",
       "      <td>530.404427</td>\n",
       "    </tr>\n",
       "    <tr>\n",
       "      <th>77</th>\n",
       "      <td>neighborhood_Timber</td>\n",
       "      <td>186.309608</td>\n",
       "    </tr>\n",
       "  </tbody>\n",
       "</table>\n",
       "</div>"
      ],
      "text/plain": [
       "                features         coef\n",
       "6   neighborhood_NridgHt  8949.788974\n",
       "7   neighborhood_StoneBr  6760.759540\n",
       "16  neighborhood_NoRidge  3755.952218\n",
       "28  neighborhood_NPkVill  2048.867487\n",
       "29   neighborhood_BrDale  1898.210362\n",
       "38  neighborhood_Crawfor  1672.718033\n",
       "51  neighborhood_Mitchel  1003.046575\n",
       "55  neighborhood_MeadowV   798.650208\n",
       "56  neighborhood_BrkSide   771.832589\n",
       "58   neighborhood_Sawyer   717.008845\n",
       "62   neighborhood_Greens   530.404427\n",
       "77   neighborhood_Timber   186.309608"
      ]
     },
     "execution_count": 222,
     "metadata": {},
     "output_type": "execute_result"
    }
   ],
   "source": [
    "pos_neighborhoods"
   ]
  },
  {
   "cell_type": "code",
   "execution_count": 253,
   "id": "c151b4cd-1dc5-4097-8ece-ce7dc2746279",
   "metadata": {},
   "outputs": [
    {
     "data": {
      "image/png": "[encoded data removed]",
      "text/plain": [
       "<Figure size 720x576 with 1 Axes>"
      ]
     },
     "metadata": {
      "needs_background": "light"
     },
     "output_type": "display_data"
    }
   ],
   "source": [
    "#Barplot for positive neighborhoods \n",
    "plt.figure(figsize=(10,8))\n",
    "ax=sns.barplot(x=pos_neighborhoods['coef'], y=pos_neighborhoods['features'])\n",
    "plt.title('Neighborhoods with a Positive Impact on Sale Price')\n",
    "labels = ['Northridge Heights', 'Stonebrook', 'Northridge', 'Northpark Villa', 'Briardale', 'Crawford',\n",
    "         'Mitchell', 'Meadow Village', 'Brookside', 'Sawyer', 'Greens', 'Timberland']\n",
    "plt.xlabel('Coefficients')\n",
    "plt.ylabel('Neighborhoods')\n",
    "ax.set_yticklabels(labels);"
   ]
  },
  {
   "cell_type": "code",
   "execution_count": null,
   "id": "3153c8cd-339c-4ce1-bd80-86cfd3426fcb",
   "metadata": {},
   "outputs": [],
   "source": []
  }
 ],
 "metadata": {
  "kernelspec": {
   "display_name": "Python 3 (ipykernel)",
   "language": "python",
   "name": "python3"
  },
  "language_info": {
   "codemirror_mode": {
    "name": "ipython",
    "version": 3
   },
   "file_extension": ".py",
   "mimetype": "text/x-python",
   "name": "python",
   "nbconvert_exporter": "python",
   "pygments_lexer": "ipython3",
   "version": "3.9.12"
  }
 },
 "nbformat": 4,
 "nbformat_minor": 5
}
